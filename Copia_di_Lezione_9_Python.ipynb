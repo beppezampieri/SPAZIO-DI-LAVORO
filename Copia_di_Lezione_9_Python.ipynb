{
  "nbformat": 4,
  "nbformat_minor": 0,
  "metadata": {
    "colab": {
      "provenance": [],
      "collapsed_sections": [
        "XMW5y9UFu87C",
        "iogfm4dAu1yL",
        "eyBmOxK2QTi2"
      ],
      "include_colab_link": true
    },
    "kernelspec": {
      "name": "python3",
      "display_name": "Python 3"
    },
    "widgets": {
      "application/vnd.jupyter.widget-state+json": {
        "2e5dedad18594cb7a7ed42a76614a77f": {
          "model_module": "@jupyter-widgets/controls",
          "model_name": "ButtonModel",
          "model_module_version": "1.5.0",
          "state": {
            "_dom_classes": [],
            "_model_module": "@jupyter-widgets/controls",
            "_model_module_version": "1.5.0",
            "_model_name": "ButtonModel",
            "_view_count": null,
            "_view_module": "@jupyter-widgets/controls",
            "_view_module_version": "1.5.0",
            "_view_name": "ButtonView",
            "button_style": "",
            "description": "Nuova etichetta",
            "disabled": false,
            "icon": "",
            "layout": "IPY_MODEL_c7532353c1cc4874abcdc32064853779",
            "style": "IPY_MODEL_521f285bca2a4b0b8b1aa62fd317e3e5",
            "tooltip": ""
          }
        },
        "c7532353c1cc4874abcdc32064853779": {
          "model_module": "@jupyter-widgets/base",
          "model_name": "LayoutModel",
          "model_module_version": "1.2.0",
          "state": {
            "_model_module": "@jupyter-widgets/base",
            "_model_module_version": "1.2.0",
            "_model_name": "LayoutModel",
            "_view_count": null,
            "_view_module": "@jupyter-widgets/base",
            "_view_module_version": "1.2.0",
            "_view_name": "LayoutView",
            "align_content": null,
            "align_items": null,
            "align_self": null,
            "border": null,
            "bottom": null,
            "display": null,
            "flex": null,
            "flex_flow": null,
            "grid_area": null,
            "grid_auto_columns": null,
            "grid_auto_flow": null,
            "grid_auto_rows": null,
            "grid_column": null,
            "grid_gap": null,
            "grid_row": null,
            "grid_template_areas": null,
            "grid_template_columns": null,
            "grid_template_rows": null,
            "height": null,
            "justify_content": null,
            "justify_items": null,
            "left": null,
            "margin": null,
            "max_height": null,
            "max_width": null,
            "min_height": null,
            "min_width": null,
            "object_fit": null,
            "object_position": null,
            "order": null,
            "overflow": null,
            "overflow_x": null,
            "overflow_y": null,
            "padding": null,
            "right": null,
            "top": null,
            "visibility": null,
            "width": null
          }
        },
        "521f285bca2a4b0b8b1aa62fd317e3e5": {
          "model_module": "@jupyter-widgets/controls",
          "model_name": "ButtonStyleModel",
          "model_module_version": "1.5.0",
          "state": {
            "_model_module": "@jupyter-widgets/controls",
            "_model_module_version": "1.5.0",
            "_model_name": "ButtonStyleModel",
            "_view_count": null,
            "_view_module": "@jupyter-widgets/base",
            "_view_module_version": "1.2.0",
            "_view_name": "StyleView",
            "button_color": null,
            "font_weight": ""
          }
        },
        "0cd8e4e49db646448766283f19af031e": {
          "model_module": "@jupyter-widgets/controls",
          "model_name": "ButtonModel",
          "model_module_version": "1.5.0",
          "state": {
            "_dom_classes": [],
            "_model_module": "@jupyter-widgets/controls",
            "_model_module_version": "1.5.0",
            "_model_name": "ButtonModel",
            "_view_count": null,
            "_view_module": "@jupyter-widgets/controls",
            "_view_module_version": "1.5.0",
            "_view_name": "ButtonView",
            "button_style": "",
            "description": "Test",
            "disabled": false,
            "icon": "",
            "layout": "IPY_MODEL_4179bcb5cb234f7e80984978806ebd64",
            "style": "IPY_MODEL_902315b35a0c47369e5cfbf59f65becf",
            "tooltip": ""
          }
        },
        "4179bcb5cb234f7e80984978806ebd64": {
          "model_module": "@jupyter-widgets/base",
          "model_name": "LayoutModel",
          "model_module_version": "1.2.0",
          "state": {
            "_model_module": "@jupyter-widgets/base",
            "_model_module_version": "1.2.0",
            "_model_name": "LayoutModel",
            "_view_count": null,
            "_view_module": "@jupyter-widgets/base",
            "_view_module_version": "1.2.0",
            "_view_name": "LayoutView",
            "align_content": null,
            "align_items": null,
            "align_self": null,
            "border": null,
            "bottom": null,
            "display": null,
            "flex": null,
            "flex_flow": null,
            "grid_area": null,
            "grid_auto_columns": null,
            "grid_auto_flow": null,
            "grid_auto_rows": null,
            "grid_column": null,
            "grid_gap": null,
            "grid_row": null,
            "grid_template_areas": null,
            "grid_template_columns": null,
            "grid_template_rows": null,
            "height": null,
            "justify_content": null,
            "justify_items": null,
            "left": null,
            "margin": null,
            "max_height": null,
            "max_width": null,
            "min_height": null,
            "min_width": null,
            "object_fit": null,
            "object_position": null,
            "order": null,
            "overflow": null,
            "overflow_x": null,
            "overflow_y": null,
            "padding": null,
            "right": null,
            "top": null,
            "visibility": null,
            "width": null
          }
        },
        "902315b35a0c47369e5cfbf59f65becf": {
          "model_module": "@jupyter-widgets/controls",
          "model_name": "ButtonStyleModel",
          "model_module_version": "1.5.0",
          "state": {
            "_model_module": "@jupyter-widgets/controls",
            "_model_module_version": "1.5.0",
            "_model_name": "ButtonStyleModel",
            "_view_count": null,
            "_view_module": "@jupyter-widgets/base",
            "_view_module_version": "1.2.0",
            "_view_name": "StyleView",
            "button_color": null,
            "font_weight": ""
          }
        },
        "37a49191c51d4be2adcdfda3e6354062": {
          "model_module": "@jupyter-widgets/controls",
          "model_name": "ButtonModel",
          "model_module_version": "1.5.0",
          "state": {
            "_dom_classes": [],
            "_model_module": "@jupyter-widgets/controls",
            "_model_module_version": "1.5.0",
            "_model_name": "ButtonModel",
            "_view_count": null,
            "_view_module": "@jupyter-widgets/controls",
            "_view_module_version": "1.5.0",
            "_view_name": "ButtonView",
            "button_style": "",
            "description": "Uno",
            "disabled": false,
            "icon": "",
            "layout": "IPY_MODEL_ba26a4a83a48447aa59af5f08c9167cb",
            "style": "IPY_MODEL_f24df684594044439977ef06d4297e19",
            "tooltip": ""
          }
        },
        "ba26a4a83a48447aa59af5f08c9167cb": {
          "model_module": "@jupyter-widgets/base",
          "model_name": "LayoutModel",
          "model_module_version": "1.2.0",
          "state": {
            "_model_module": "@jupyter-widgets/base",
            "_model_module_version": "1.2.0",
            "_model_name": "LayoutModel",
            "_view_count": null,
            "_view_module": "@jupyter-widgets/base",
            "_view_module_version": "1.2.0",
            "_view_name": "LayoutView",
            "align_content": null,
            "align_items": null,
            "align_self": null,
            "border": null,
            "bottom": null,
            "display": null,
            "flex": null,
            "flex_flow": null,
            "grid_area": null,
            "grid_auto_columns": null,
            "grid_auto_flow": null,
            "grid_auto_rows": null,
            "grid_column": null,
            "grid_gap": null,
            "grid_row": null,
            "grid_template_areas": null,
            "grid_template_columns": null,
            "grid_template_rows": null,
            "height": null,
            "justify_content": null,
            "justify_items": null,
            "left": null,
            "margin": null,
            "max_height": null,
            "max_width": null,
            "min_height": null,
            "min_width": null,
            "object_fit": null,
            "object_position": null,
            "order": null,
            "overflow": null,
            "overflow_x": null,
            "overflow_y": null,
            "padding": null,
            "right": null,
            "top": null,
            "visibility": null,
            "width": null
          }
        },
        "f24df684594044439977ef06d4297e19": {
          "model_module": "@jupyter-widgets/controls",
          "model_name": "ButtonStyleModel",
          "model_module_version": "1.5.0",
          "state": {
            "_model_module": "@jupyter-widgets/controls",
            "_model_module_version": "1.5.0",
            "_model_name": "ButtonStyleModel",
            "_view_count": null,
            "_view_module": "@jupyter-widgets/base",
            "_view_module_version": "1.2.0",
            "_view_name": "StyleView",
            "button_color": null,
            "font_weight": ""
          }
        },
        "ec823e22bdd3444c94f6b633b6600b08": {
          "model_module": "@jupyter-widgets/controls",
          "model_name": "ButtonModel",
          "model_module_version": "1.5.0",
          "state": {
            "_dom_classes": [],
            "_model_module": "@jupyter-widgets/controls",
            "_model_module_version": "1.5.0",
            "_model_name": "ButtonModel",
            "_view_count": null,
            "_view_module": "@jupyter-widgets/controls",
            "_view_module_version": "1.5.0",
            "_view_name": "ButtonView",
            "button_style": "",
            "description": "Due",
            "disabled": false,
            "icon": "",
            "layout": "IPY_MODEL_71b9bd8f1d4042fb8ee0e51d14f58c0c",
            "style": "IPY_MODEL_02d6440ae92646b9838050510ba2869a",
            "tooltip": ""
          }
        },
        "71b9bd8f1d4042fb8ee0e51d14f58c0c": {
          "model_module": "@jupyter-widgets/base",
          "model_name": "LayoutModel",
          "model_module_version": "1.2.0",
          "state": {
            "_model_module": "@jupyter-widgets/base",
            "_model_module_version": "1.2.0",
            "_model_name": "LayoutModel",
            "_view_count": null,
            "_view_module": "@jupyter-widgets/base",
            "_view_module_version": "1.2.0",
            "_view_name": "LayoutView",
            "align_content": null,
            "align_items": null,
            "align_self": null,
            "border": null,
            "bottom": null,
            "display": null,
            "flex": null,
            "flex_flow": null,
            "grid_area": null,
            "grid_auto_columns": null,
            "grid_auto_flow": null,
            "grid_auto_rows": null,
            "grid_column": null,
            "grid_gap": null,
            "grid_row": null,
            "grid_template_areas": null,
            "grid_template_columns": null,
            "grid_template_rows": null,
            "height": null,
            "justify_content": null,
            "justify_items": null,
            "left": null,
            "margin": null,
            "max_height": null,
            "max_width": null,
            "min_height": null,
            "min_width": null,
            "object_fit": null,
            "object_position": null,
            "order": null,
            "overflow": null,
            "overflow_x": null,
            "overflow_y": null,
            "padding": null,
            "right": null,
            "top": null,
            "visibility": null,
            "width": null
          }
        },
        "02d6440ae92646b9838050510ba2869a": {
          "model_module": "@jupyter-widgets/controls",
          "model_name": "ButtonStyleModel",
          "model_module_version": "1.5.0",
          "state": {
            "_model_module": "@jupyter-widgets/controls",
            "_model_module_version": "1.5.0",
            "_model_name": "ButtonStyleModel",
            "_view_count": null,
            "_view_module": "@jupyter-widgets/base",
            "_view_module_version": "1.2.0",
            "_view_name": "StyleView",
            "button_color": null,
            "font_weight": ""
          }
        },
        "d68d6a89c69a43398d591ca5848618bc": {
          "model_module": "@jupyter-widgets/controls",
          "model_name": "ButtonModel",
          "model_module_version": "1.5.0",
          "state": {
            "_dom_classes": [],
            "_model_module": "@jupyter-widgets/controls",
            "_model_module_version": "1.5.0",
            "_model_name": "ButtonModel",
            "_view_count": null,
            "_view_module": "@jupyter-widgets/controls",
            "_view_module_version": "1.5.0",
            "_view_name": "ButtonView",
            "button_style": "",
            "description": "bottone (larghezza 50%, altezza 100px)",
            "disabled": false,
            "icon": "",
            "layout": "IPY_MODEL_f437fa7bd1274d8fb9c7ac572b58dd6f",
            "style": "IPY_MODEL_b69c310b740646e987f4b51742e54079",
            "tooltip": ""
          }
        },
        "f437fa7bd1274d8fb9c7ac572b58dd6f": {
          "model_module": "@jupyter-widgets/base",
          "model_name": "LayoutModel",
          "model_module_version": "1.2.0",
          "state": {
            "_model_module": "@jupyter-widgets/base",
            "_model_module_version": "1.2.0",
            "_model_name": "LayoutModel",
            "_view_count": null,
            "_view_module": "@jupyter-widgets/base",
            "_view_module_version": "1.2.0",
            "_view_name": "LayoutView",
            "align_content": null,
            "align_items": null,
            "align_self": null,
            "border": null,
            "bottom": null,
            "display": null,
            "flex": null,
            "flex_flow": null,
            "grid_area": null,
            "grid_auto_columns": null,
            "grid_auto_flow": null,
            "grid_auto_rows": null,
            "grid_column": null,
            "grid_gap": null,
            "grid_row": null,
            "grid_template_areas": null,
            "grid_template_columns": null,
            "grid_template_rows": null,
            "height": "100px",
            "justify_content": null,
            "justify_items": null,
            "left": null,
            "margin": null,
            "max_height": null,
            "max_width": null,
            "min_height": null,
            "min_width": null,
            "object_fit": null,
            "object_position": null,
            "order": null,
            "overflow": null,
            "overflow_x": null,
            "overflow_y": null,
            "padding": null,
            "right": null,
            "top": null,
            "visibility": null,
            "width": "50%"
          }
        },
        "b69c310b740646e987f4b51742e54079": {
          "model_module": "@jupyter-widgets/controls",
          "model_name": "ButtonStyleModel",
          "model_module_version": "1.5.0",
          "state": {
            "_model_module": "@jupyter-widgets/controls",
            "_model_module_version": "1.5.0",
            "_model_name": "ButtonStyleModel",
            "_view_count": null,
            "_view_module": "@jupyter-widgets/base",
            "_view_module_version": "1.2.0",
            "_view_name": "StyleView",
            "button_color": null,
            "font_weight": ""
          }
        },
        "1f2ad114900647f5a9044557145e727a": {
          "model_module": "@jupyter-widgets/controls",
          "model_name": "ButtonModel",
          "model_module_version": "1.5.0",
          "state": {
            "_dom_classes": [],
            "_model_module": "@jupyter-widgets/controls",
            "_model_module_version": "1.5.0",
            "_model_name": "ButtonModel",
            "_view_count": null,
            "_view_module": "@jupyter-widgets/controls",
            "_view_module_version": "1.5.0",
            "_view_name": "ButtonView",
            "button_style": "danger",
            "description": "Pericolo!",
            "disabled": false,
            "icon": "",
            "layout": "IPY_MODEL_f3555fb6b6e94d4b84b1cf021a3fa286",
            "style": "IPY_MODEL_3b62768ecff144068aa878a0a78b7404",
            "tooltip": ""
          }
        },
        "f3555fb6b6e94d4b84b1cf021a3fa286": {
          "model_module": "@jupyter-widgets/base",
          "model_name": "LayoutModel",
          "model_module_version": "1.2.0",
          "state": {
            "_model_module": "@jupyter-widgets/base",
            "_model_module_version": "1.2.0",
            "_model_name": "LayoutModel",
            "_view_count": null,
            "_view_module": "@jupyter-widgets/base",
            "_view_module_version": "1.2.0",
            "_view_name": "LayoutView",
            "align_content": null,
            "align_items": null,
            "align_self": null,
            "border": null,
            "bottom": null,
            "display": null,
            "flex": null,
            "flex_flow": null,
            "grid_area": null,
            "grid_auto_columns": null,
            "grid_auto_flow": null,
            "grid_auto_rows": null,
            "grid_column": null,
            "grid_gap": null,
            "grid_row": null,
            "grid_template_areas": null,
            "grid_template_columns": null,
            "grid_template_rows": null,
            "height": null,
            "justify_content": null,
            "justify_items": null,
            "left": null,
            "margin": null,
            "max_height": null,
            "max_width": null,
            "min_height": null,
            "min_width": null,
            "object_fit": null,
            "object_position": null,
            "order": null,
            "overflow": null,
            "overflow_x": null,
            "overflow_y": null,
            "padding": null,
            "right": null,
            "top": null,
            "visibility": null,
            "width": null
          }
        },
        "3b62768ecff144068aa878a0a78b7404": {
          "model_module": "@jupyter-widgets/controls",
          "model_name": "ButtonStyleModel",
          "model_module_version": "1.5.0",
          "state": {
            "_model_module": "@jupyter-widgets/controls",
            "_model_module_version": "1.5.0",
            "_model_name": "ButtonStyleModel",
            "_view_count": null,
            "_view_module": "@jupyter-widgets/base",
            "_view_module_version": "1.2.0",
            "_view_name": "StyleView",
            "button_color": null,
            "font_weight": ""
          }
        },
        "805a923ecee04dbabf13bcf0c3fa9610": {
          "model_module": "@jupyter-widgets/controls",
          "model_name": "ButtonModel",
          "model_module_version": "1.5.0",
          "state": {
            "_dom_classes": [],
            "_model_module": "@jupyter-widgets/controls",
            "_model_module_version": "1.5.0",
            "_model_name": "ButtonModel",
            "_view_count": null,
            "_view_module": "@jupyter-widgets/controls",
            "_view_module_version": "1.5.0",
            "_view_name": "ButtonView",
            "button_style": "",
            "description": "Bottone verde",
            "disabled": false,
            "icon": "",
            "layout": "IPY_MODEL_6c1c9ceb7d7942a39bcafa387aff1375",
            "style": "IPY_MODEL_a34d381227b742c192968f5b973f8769",
            "tooltip": ""
          }
        },
        "6c1c9ceb7d7942a39bcafa387aff1375": {
          "model_module": "@jupyter-widgets/base",
          "model_name": "LayoutModel",
          "model_module_version": "1.2.0",
          "state": {
            "_model_module": "@jupyter-widgets/base",
            "_model_module_version": "1.2.0",
            "_model_name": "LayoutModel",
            "_view_count": null,
            "_view_module": "@jupyter-widgets/base",
            "_view_module_version": "1.2.0",
            "_view_name": "LayoutView",
            "align_content": null,
            "align_items": null,
            "align_self": null,
            "border": null,
            "bottom": null,
            "display": null,
            "flex": null,
            "flex_flow": null,
            "grid_area": null,
            "grid_auto_columns": null,
            "grid_auto_flow": null,
            "grid_auto_rows": null,
            "grid_column": null,
            "grid_gap": null,
            "grid_row": null,
            "grid_template_areas": null,
            "grid_template_columns": null,
            "grid_template_rows": null,
            "height": null,
            "justify_content": null,
            "justify_items": null,
            "left": null,
            "margin": null,
            "max_height": null,
            "max_width": null,
            "min_height": null,
            "min_width": null,
            "object_fit": null,
            "object_position": null,
            "order": null,
            "overflow": null,
            "overflow_x": null,
            "overflow_y": null,
            "padding": null,
            "right": null,
            "top": null,
            "visibility": null,
            "width": null
          }
        },
        "a34d381227b742c192968f5b973f8769": {
          "model_module": "@jupyter-widgets/controls",
          "model_name": "ButtonStyleModel",
          "model_module_version": "1.5.0",
          "state": {
            "_model_module": "@jupyter-widgets/controls",
            "_model_module_version": "1.5.0",
            "_model_name": "ButtonStyleModel",
            "_view_count": null,
            "_view_module": "@jupyter-widgets/base",
            "_view_module_version": "1.2.0",
            "_view_name": "StyleView",
            "button_color": "lightgreen",
            "font_weight": ""
          }
        },
        "d0291717ceaf4bd59fd8a39a1186927d": {
          "model_module": "@jupyter-widgets/controls",
          "model_name": "HBoxModel",
          "model_module_version": "1.5.0",
          "state": {
            "_dom_classes": [],
            "_model_module": "@jupyter-widgets/controls",
            "_model_module_version": "1.5.0",
            "_model_name": "HBoxModel",
            "_view_count": null,
            "_view_module": "@jupyter-widgets/controls",
            "_view_module_version": "1.5.0",
            "_view_name": "HBoxView",
            "box_style": "",
            "children": [
              "IPY_MODEL_f96a6b31823d46d6900d2c8b13973c1c",
              "IPY_MODEL_e321f5fc56e34c3594c4b593519007d5"
            ],
            "layout": "IPY_MODEL_8f0de00fb3d74399b81145da31f8163e"
          }
        },
        "f96a6b31823d46d6900d2c8b13973c1c": {
          "model_module": "@jupyter-widgets/controls",
          "model_name": "LabelModel",
          "model_module_version": "1.5.0",
          "state": {
            "_dom_classes": [],
            "_model_module": "@jupyter-widgets/controls",
            "_model_module_version": "1.5.0",
            "_model_name": "LabelModel",
            "_view_count": null,
            "_view_module": "@jupyter-widgets/controls",
            "_view_module_version": "1.5.0",
            "_view_name": "LabelView",
            "description": "",
            "description_tooltip": null,
            "layout": "IPY_MODEL_6ad144410ee7436ca5a1e39817cdcea6",
            "placeholder": "​",
            "style": "IPY_MODEL_400c09b0b4dc4634a3dfa1b30baded77",
            "value": "Premi questo bottone per iniziare il test:"
          }
        },
        "e321f5fc56e34c3594c4b593519007d5": {
          "model_module": "@jupyter-widgets/controls",
          "model_name": "ButtonModel",
          "model_module_version": "1.5.0",
          "state": {
            "_dom_classes": [],
            "_model_module": "@jupyter-widgets/controls",
            "_model_module_version": "1.5.0",
            "_model_name": "ButtonModel",
            "_view_count": null,
            "_view_module": "@jupyter-widgets/controls",
            "_view_module_version": "1.5.0",
            "_view_name": "ButtonView",
            "button_style": "",
            "description": "Inizia",
            "disabled": false,
            "icon": "",
            "layout": "IPY_MODEL_dbb36f5db6cb46a9aedfe5f31b0aee90",
            "style": "IPY_MODEL_9392df441b304269bccffd0dd093c1f9",
            "tooltip": ""
          }
        },
        "8f0de00fb3d74399b81145da31f8163e": {
          "model_module": "@jupyter-widgets/base",
          "model_name": "LayoutModel",
          "model_module_version": "1.2.0",
          "state": {
            "_model_module": "@jupyter-widgets/base",
            "_model_module_version": "1.2.0",
            "_model_name": "LayoutModel",
            "_view_count": null,
            "_view_module": "@jupyter-widgets/base",
            "_view_module_version": "1.2.0",
            "_view_name": "LayoutView",
            "align_content": null,
            "align_items": null,
            "align_self": null,
            "border": null,
            "bottom": null,
            "display": null,
            "flex": null,
            "flex_flow": null,
            "grid_area": null,
            "grid_auto_columns": null,
            "grid_auto_flow": null,
            "grid_auto_rows": null,
            "grid_column": null,
            "grid_gap": null,
            "grid_row": null,
            "grid_template_areas": null,
            "grid_template_columns": null,
            "grid_template_rows": null,
            "height": null,
            "justify_content": null,
            "justify_items": null,
            "left": null,
            "margin": null,
            "max_height": null,
            "max_width": null,
            "min_height": null,
            "min_width": null,
            "object_fit": null,
            "object_position": null,
            "order": null,
            "overflow": null,
            "overflow_x": null,
            "overflow_y": null,
            "padding": null,
            "right": null,
            "top": null,
            "visibility": null,
            "width": null
          }
        },
        "6ad144410ee7436ca5a1e39817cdcea6": {
          "model_module": "@jupyter-widgets/base",
          "model_name": "LayoutModel",
          "model_module_version": "1.2.0",
          "state": {
            "_model_module": "@jupyter-widgets/base",
            "_model_module_version": "1.2.0",
            "_model_name": "LayoutModel",
            "_view_count": null,
            "_view_module": "@jupyter-widgets/base",
            "_view_module_version": "1.2.0",
            "_view_name": "LayoutView",
            "align_content": null,
            "align_items": null,
            "align_self": null,
            "border": null,
            "bottom": null,
            "display": null,
            "flex": null,
            "flex_flow": null,
            "grid_area": null,
            "grid_auto_columns": null,
            "grid_auto_flow": null,
            "grid_auto_rows": null,
            "grid_column": null,
            "grid_gap": null,
            "grid_row": null,
            "grid_template_areas": null,
            "grid_template_columns": null,
            "grid_template_rows": null,
            "height": null,
            "justify_content": null,
            "justify_items": null,
            "left": null,
            "margin": null,
            "max_height": null,
            "max_width": null,
            "min_height": null,
            "min_width": null,
            "object_fit": null,
            "object_position": null,
            "order": null,
            "overflow": null,
            "overflow_x": null,
            "overflow_y": null,
            "padding": null,
            "right": null,
            "top": null,
            "visibility": null,
            "width": null
          }
        },
        "400c09b0b4dc4634a3dfa1b30baded77": {
          "model_module": "@jupyter-widgets/controls",
          "model_name": "DescriptionStyleModel",
          "model_module_version": "1.5.0",
          "state": {
            "_model_module": "@jupyter-widgets/controls",
            "_model_module_version": "1.5.0",
            "_model_name": "DescriptionStyleModel",
            "_view_count": null,
            "_view_module": "@jupyter-widgets/base",
            "_view_module_version": "1.2.0",
            "_view_name": "StyleView",
            "description_width": ""
          }
        },
        "dbb36f5db6cb46a9aedfe5f31b0aee90": {
          "model_module": "@jupyter-widgets/base",
          "model_name": "LayoutModel",
          "model_module_version": "1.2.0",
          "state": {
            "_model_module": "@jupyter-widgets/base",
            "_model_module_version": "1.2.0",
            "_model_name": "LayoutModel",
            "_view_count": null,
            "_view_module": "@jupyter-widgets/base",
            "_view_module_version": "1.2.0",
            "_view_name": "LayoutView",
            "align_content": null,
            "align_items": null,
            "align_self": null,
            "border": null,
            "bottom": null,
            "display": null,
            "flex": null,
            "flex_flow": null,
            "grid_area": null,
            "grid_auto_columns": null,
            "grid_auto_flow": null,
            "grid_auto_rows": null,
            "grid_column": null,
            "grid_gap": null,
            "grid_row": null,
            "grid_template_areas": null,
            "grid_template_columns": null,
            "grid_template_rows": null,
            "height": null,
            "justify_content": null,
            "justify_items": null,
            "left": null,
            "margin": null,
            "max_height": null,
            "max_width": null,
            "min_height": null,
            "min_width": null,
            "object_fit": null,
            "object_position": null,
            "order": null,
            "overflow": null,
            "overflow_x": null,
            "overflow_y": null,
            "padding": null,
            "right": null,
            "top": null,
            "visibility": null,
            "width": null
          }
        },
        "9392df441b304269bccffd0dd093c1f9": {
          "model_module": "@jupyter-widgets/controls",
          "model_name": "ButtonStyleModel",
          "model_module_version": "1.5.0",
          "state": {
            "_model_module": "@jupyter-widgets/controls",
            "_model_module_version": "1.5.0",
            "_model_name": "ButtonStyleModel",
            "_view_count": null,
            "_view_module": "@jupyter-widgets/base",
            "_view_module_version": "1.2.0",
            "_view_name": "StyleView",
            "button_color": null,
            "font_weight": ""
          }
        },
        "ea87b2cef72446bd89b6dd54347b3802": {
          "model_module": "@jupyter-widgets/controls",
          "model_name": "VBoxModel",
          "model_module_version": "1.5.0",
          "state": {
            "_dom_classes": [],
            "_model_module": "@jupyter-widgets/controls",
            "_model_module_version": "1.5.0",
            "_model_name": "VBoxModel",
            "_view_count": null,
            "_view_module": "@jupyter-widgets/controls",
            "_view_module_version": "1.5.0",
            "_view_name": "VBoxView",
            "box_style": "",
            "children": [
              "IPY_MODEL_be0eb4321b184f7389d9edb2f6488f16",
              "IPY_MODEL_b5d757c4cdfa4273bfefe7c830375113"
            ],
            "layout": "IPY_MODEL_15b2076c7aed40239bf0f1159b82201e"
          }
        },
        "be0eb4321b184f7389d9edb2f6488f16": {
          "model_module": "@jupyter-widgets/controls",
          "model_name": "HBoxModel",
          "model_module_version": "1.5.0",
          "state": {
            "_dom_classes": [],
            "_model_module": "@jupyter-widgets/controls",
            "_model_module_version": "1.5.0",
            "_model_name": "HBoxModel",
            "_view_count": null,
            "_view_module": "@jupyter-widgets/controls",
            "_view_module_version": "1.5.0",
            "_view_name": "HBoxView",
            "box_style": "",
            "children": [
              "IPY_MODEL_d2f5db39f7ea4a37abfffb52bda280e6",
              "IPY_MODEL_01521d36596749bc90c7865fa345c794"
            ],
            "layout": "IPY_MODEL_50d96351589245cdb2ae321b26622c97"
          }
        },
        "b5d757c4cdfa4273bfefe7c830375113": {
          "model_module": "@jupyter-widgets/controls",
          "model_name": "HBoxModel",
          "model_module_version": "1.5.0",
          "state": {
            "_dom_classes": [],
            "_model_module": "@jupyter-widgets/controls",
            "_model_module_version": "1.5.0",
            "_model_name": "HBoxModel",
            "_view_count": null,
            "_view_module": "@jupyter-widgets/controls",
            "_view_module_version": "1.5.0",
            "_view_name": "HBoxView",
            "box_style": "",
            "children": [
              "IPY_MODEL_f39aa33487b94ff39eece23125b22c70",
              "IPY_MODEL_6738c2943a504d9aa30b37119b5d1b97"
            ],
            "layout": "IPY_MODEL_80b0b7dda36d4a799902adffd3a01c11"
          }
        },
        "15b2076c7aed40239bf0f1159b82201e": {
          "model_module": "@jupyter-widgets/base",
          "model_name": "LayoutModel",
          "model_module_version": "1.2.0",
          "state": {
            "_model_module": "@jupyter-widgets/base",
            "_model_module_version": "1.2.0",
            "_model_name": "LayoutModel",
            "_view_count": null,
            "_view_module": "@jupyter-widgets/base",
            "_view_module_version": "1.2.0",
            "_view_name": "LayoutView",
            "align_content": null,
            "align_items": null,
            "align_self": null,
            "border": null,
            "bottom": null,
            "display": null,
            "flex": null,
            "flex_flow": null,
            "grid_area": null,
            "grid_auto_columns": null,
            "grid_auto_flow": null,
            "grid_auto_rows": null,
            "grid_column": null,
            "grid_gap": null,
            "grid_row": null,
            "grid_template_areas": null,
            "grid_template_columns": null,
            "grid_template_rows": null,
            "height": null,
            "justify_content": null,
            "justify_items": null,
            "left": null,
            "margin": null,
            "max_height": null,
            "max_width": null,
            "min_height": null,
            "min_width": null,
            "object_fit": null,
            "object_position": null,
            "order": null,
            "overflow": null,
            "overflow_x": null,
            "overflow_y": null,
            "padding": null,
            "right": null,
            "top": null,
            "visibility": null,
            "width": null
          }
        },
        "d2f5db39f7ea4a37abfffb52bda280e6": {
          "model_module": "@jupyter-widgets/controls",
          "model_name": "ButtonModel",
          "model_module_version": "1.5.0",
          "state": {
            "_dom_classes": [],
            "_model_module": "@jupyter-widgets/controls",
            "_model_module_version": "1.5.0",
            "_model_name": "ButtonModel",
            "_view_count": null,
            "_view_module": "@jupyter-widgets/controls",
            "_view_module_version": "1.5.0",
            "_view_name": "ButtonView",
            "button_style": "",
            "description": "Uno",
            "disabled": false,
            "icon": "",
            "layout": "IPY_MODEL_cbc068913ead45e6bb9d5874644fb027",
            "style": "IPY_MODEL_ff80945c957b40a8ac2d628cc958912c",
            "tooltip": ""
          }
        },
        "01521d36596749bc90c7865fa345c794": {
          "model_module": "@jupyter-widgets/controls",
          "model_name": "ButtonModel",
          "model_module_version": "1.5.0",
          "state": {
            "_dom_classes": [],
            "_model_module": "@jupyter-widgets/controls",
            "_model_module_version": "1.5.0",
            "_model_name": "ButtonModel",
            "_view_count": null,
            "_view_module": "@jupyter-widgets/controls",
            "_view_module_version": "1.5.0",
            "_view_name": "ButtonView",
            "button_style": "",
            "description": "Due",
            "disabled": false,
            "icon": "",
            "layout": "IPY_MODEL_d47c59e1783e44c4871f77bc142f24f4",
            "style": "IPY_MODEL_5a24e720f3b449eab3741305f6c11898",
            "tooltip": ""
          }
        },
        "50d96351589245cdb2ae321b26622c97": {
          "model_module": "@jupyter-widgets/base",
          "model_name": "LayoutModel",
          "model_module_version": "1.2.0",
          "state": {
            "_model_module": "@jupyter-widgets/base",
            "_model_module_version": "1.2.0",
            "_model_name": "LayoutModel",
            "_view_count": null,
            "_view_module": "@jupyter-widgets/base",
            "_view_module_version": "1.2.0",
            "_view_name": "LayoutView",
            "align_content": null,
            "align_items": null,
            "align_self": null,
            "border": null,
            "bottom": null,
            "display": null,
            "flex": null,
            "flex_flow": null,
            "grid_area": null,
            "grid_auto_columns": null,
            "grid_auto_flow": null,
            "grid_auto_rows": null,
            "grid_column": null,
            "grid_gap": null,
            "grid_row": null,
            "grid_template_areas": null,
            "grid_template_columns": null,
            "grid_template_rows": null,
            "height": null,
            "justify_content": null,
            "justify_items": null,
            "left": null,
            "margin": null,
            "max_height": null,
            "max_width": null,
            "min_height": null,
            "min_width": null,
            "object_fit": null,
            "object_position": null,
            "order": null,
            "overflow": null,
            "overflow_x": null,
            "overflow_y": null,
            "padding": null,
            "right": null,
            "top": null,
            "visibility": null,
            "width": null
          }
        },
        "f39aa33487b94ff39eece23125b22c70": {
          "model_module": "@jupyter-widgets/controls",
          "model_name": "ButtonModel",
          "model_module_version": "1.5.0",
          "state": {
            "_dom_classes": [],
            "_model_module": "@jupyter-widgets/controls",
            "_model_module_version": "1.5.0",
            "_model_name": "ButtonModel",
            "_view_count": null,
            "_view_module": "@jupyter-widgets/controls",
            "_view_module_version": "1.5.0",
            "_view_name": "ButtonView",
            "button_style": "",
            "description": "Tre",
            "disabled": false,
            "icon": "",
            "layout": "IPY_MODEL_31272052b5f24e70aec1edd9f3307d9d",
            "style": "IPY_MODEL_bd6555abc75f43ef8904d6f00594e0ac",
            "tooltip": ""
          }
        },
        "6738c2943a504d9aa30b37119b5d1b97": {
          "model_module": "@jupyter-widgets/controls",
          "model_name": "ButtonModel",
          "model_module_version": "1.5.0",
          "state": {
            "_dom_classes": [],
            "_model_module": "@jupyter-widgets/controls",
            "_model_module_version": "1.5.0",
            "_model_name": "ButtonModel",
            "_view_count": null,
            "_view_module": "@jupyter-widgets/controls",
            "_view_module_version": "1.5.0",
            "_view_name": "ButtonView",
            "button_style": "",
            "description": "Quattro",
            "disabled": false,
            "icon": "",
            "layout": "IPY_MODEL_522a83cdd2694a2688ba7a676bd2c266",
            "style": "IPY_MODEL_443fc78140764e67b2dd6c9d1b554170",
            "tooltip": ""
          }
        },
        "80b0b7dda36d4a799902adffd3a01c11": {
          "model_module": "@jupyter-widgets/base",
          "model_name": "LayoutModel",
          "model_module_version": "1.2.0",
          "state": {
            "_model_module": "@jupyter-widgets/base",
            "_model_module_version": "1.2.0",
            "_model_name": "LayoutModel",
            "_view_count": null,
            "_view_module": "@jupyter-widgets/base",
            "_view_module_version": "1.2.0",
            "_view_name": "LayoutView",
            "align_content": null,
            "align_items": null,
            "align_self": null,
            "border": null,
            "bottom": null,
            "display": null,
            "flex": null,
            "flex_flow": null,
            "grid_area": null,
            "grid_auto_columns": null,
            "grid_auto_flow": null,
            "grid_auto_rows": null,
            "grid_column": null,
            "grid_gap": null,
            "grid_row": null,
            "grid_template_areas": null,
            "grid_template_columns": null,
            "grid_template_rows": null,
            "height": null,
            "justify_content": null,
            "justify_items": null,
            "left": null,
            "margin": null,
            "max_height": null,
            "max_width": null,
            "min_height": null,
            "min_width": null,
            "object_fit": null,
            "object_position": null,
            "order": null,
            "overflow": null,
            "overflow_x": null,
            "overflow_y": null,
            "padding": null,
            "right": null,
            "top": null,
            "visibility": null,
            "width": null
          }
        },
        "cbc068913ead45e6bb9d5874644fb027": {
          "model_module": "@jupyter-widgets/base",
          "model_name": "LayoutModel",
          "model_module_version": "1.2.0",
          "state": {
            "_model_module": "@jupyter-widgets/base",
            "_model_module_version": "1.2.0",
            "_model_name": "LayoutModel",
            "_view_count": null,
            "_view_module": "@jupyter-widgets/base",
            "_view_module_version": "1.2.0",
            "_view_name": "LayoutView",
            "align_content": null,
            "align_items": null,
            "align_self": null,
            "border": null,
            "bottom": null,
            "display": null,
            "flex": null,
            "flex_flow": null,
            "grid_area": null,
            "grid_auto_columns": null,
            "grid_auto_flow": null,
            "grid_auto_rows": null,
            "grid_column": null,
            "grid_gap": null,
            "grid_row": null,
            "grid_template_areas": null,
            "grid_template_columns": null,
            "grid_template_rows": null,
            "height": null,
            "justify_content": null,
            "justify_items": null,
            "left": null,
            "margin": null,
            "max_height": null,
            "max_width": null,
            "min_height": null,
            "min_width": null,
            "object_fit": null,
            "object_position": null,
            "order": null,
            "overflow": null,
            "overflow_x": null,
            "overflow_y": null,
            "padding": null,
            "right": null,
            "top": null,
            "visibility": null,
            "width": null
          }
        },
        "ff80945c957b40a8ac2d628cc958912c": {
          "model_module": "@jupyter-widgets/controls",
          "model_name": "ButtonStyleModel",
          "model_module_version": "1.5.0",
          "state": {
            "_model_module": "@jupyter-widgets/controls",
            "_model_module_version": "1.5.0",
            "_model_name": "ButtonStyleModel",
            "_view_count": null,
            "_view_module": "@jupyter-widgets/base",
            "_view_module_version": "1.2.0",
            "_view_name": "StyleView",
            "button_color": null,
            "font_weight": ""
          }
        },
        "d47c59e1783e44c4871f77bc142f24f4": {
          "model_module": "@jupyter-widgets/base",
          "model_name": "LayoutModel",
          "model_module_version": "1.2.0",
          "state": {
            "_model_module": "@jupyter-widgets/base",
            "_model_module_version": "1.2.0",
            "_model_name": "LayoutModel",
            "_view_count": null,
            "_view_module": "@jupyter-widgets/base",
            "_view_module_version": "1.2.0",
            "_view_name": "LayoutView",
            "align_content": null,
            "align_items": null,
            "align_self": null,
            "border": null,
            "bottom": null,
            "display": null,
            "flex": null,
            "flex_flow": null,
            "grid_area": null,
            "grid_auto_columns": null,
            "grid_auto_flow": null,
            "grid_auto_rows": null,
            "grid_column": null,
            "grid_gap": null,
            "grid_row": null,
            "grid_template_areas": null,
            "grid_template_columns": null,
            "grid_template_rows": null,
            "height": null,
            "justify_content": null,
            "justify_items": null,
            "left": null,
            "margin": null,
            "max_height": null,
            "max_width": null,
            "min_height": null,
            "min_width": null,
            "object_fit": null,
            "object_position": null,
            "order": null,
            "overflow": null,
            "overflow_x": null,
            "overflow_y": null,
            "padding": null,
            "right": null,
            "top": null,
            "visibility": null,
            "width": null
          }
        },
        "5a24e720f3b449eab3741305f6c11898": {
          "model_module": "@jupyter-widgets/controls",
          "model_name": "ButtonStyleModel",
          "model_module_version": "1.5.0",
          "state": {
            "_model_module": "@jupyter-widgets/controls",
            "_model_module_version": "1.5.0",
            "_model_name": "ButtonStyleModel",
            "_view_count": null,
            "_view_module": "@jupyter-widgets/base",
            "_view_module_version": "1.2.0",
            "_view_name": "StyleView",
            "button_color": null,
            "font_weight": ""
          }
        },
        "31272052b5f24e70aec1edd9f3307d9d": {
          "model_module": "@jupyter-widgets/base",
          "model_name": "LayoutModel",
          "model_module_version": "1.2.0",
          "state": {
            "_model_module": "@jupyter-widgets/base",
            "_model_module_version": "1.2.0",
            "_model_name": "LayoutModel",
            "_view_count": null,
            "_view_module": "@jupyter-widgets/base",
            "_view_module_version": "1.2.0",
            "_view_name": "LayoutView",
            "align_content": null,
            "align_items": null,
            "align_self": null,
            "border": null,
            "bottom": null,
            "display": null,
            "flex": null,
            "flex_flow": null,
            "grid_area": null,
            "grid_auto_columns": null,
            "grid_auto_flow": null,
            "grid_auto_rows": null,
            "grid_column": null,
            "grid_gap": null,
            "grid_row": null,
            "grid_template_areas": null,
            "grid_template_columns": null,
            "grid_template_rows": null,
            "height": null,
            "justify_content": null,
            "justify_items": null,
            "left": null,
            "margin": null,
            "max_height": null,
            "max_width": null,
            "min_height": null,
            "min_width": null,
            "object_fit": null,
            "object_position": null,
            "order": null,
            "overflow": null,
            "overflow_x": null,
            "overflow_y": null,
            "padding": null,
            "right": null,
            "top": null,
            "visibility": null,
            "width": null
          }
        },
        "bd6555abc75f43ef8904d6f00594e0ac": {
          "model_module": "@jupyter-widgets/controls",
          "model_name": "ButtonStyleModel",
          "model_module_version": "1.5.0",
          "state": {
            "_model_module": "@jupyter-widgets/controls",
            "_model_module_version": "1.5.0",
            "_model_name": "ButtonStyleModel",
            "_view_count": null,
            "_view_module": "@jupyter-widgets/base",
            "_view_module_version": "1.2.0",
            "_view_name": "StyleView",
            "button_color": null,
            "font_weight": ""
          }
        },
        "522a83cdd2694a2688ba7a676bd2c266": {
          "model_module": "@jupyter-widgets/base",
          "model_name": "LayoutModel",
          "model_module_version": "1.2.0",
          "state": {
            "_model_module": "@jupyter-widgets/base",
            "_model_module_version": "1.2.0",
            "_model_name": "LayoutModel",
            "_view_count": null,
            "_view_module": "@jupyter-widgets/base",
            "_view_module_version": "1.2.0",
            "_view_name": "LayoutView",
            "align_content": null,
            "align_items": null,
            "align_self": null,
            "border": null,
            "bottom": null,
            "display": null,
            "flex": null,
            "flex_flow": null,
            "grid_area": null,
            "grid_auto_columns": null,
            "grid_auto_flow": null,
            "grid_auto_rows": null,
            "grid_column": null,
            "grid_gap": null,
            "grid_row": null,
            "grid_template_areas": null,
            "grid_template_columns": null,
            "grid_template_rows": null,
            "height": null,
            "justify_content": null,
            "justify_items": null,
            "left": null,
            "margin": null,
            "max_height": null,
            "max_width": null,
            "min_height": null,
            "min_width": null,
            "object_fit": null,
            "object_position": null,
            "order": null,
            "overflow": null,
            "overflow_x": null,
            "overflow_y": null,
            "padding": null,
            "right": null,
            "top": null,
            "visibility": null,
            "width": null
          }
        },
        "443fc78140764e67b2dd6c9d1b554170": {
          "model_module": "@jupyter-widgets/controls",
          "model_name": "ButtonStyleModel",
          "model_module_version": "1.5.0",
          "state": {
            "_model_module": "@jupyter-widgets/controls",
            "_model_module_version": "1.5.0",
            "_model_name": "ButtonStyleModel",
            "_view_count": null,
            "_view_module": "@jupyter-widgets/base",
            "_view_module_version": "1.2.0",
            "_view_name": "StyleView",
            "button_color": null,
            "font_weight": ""
          }
        }
      }
    }
  },
  "cells": [
    {
      "cell_type": "markdown",
      "metadata": {
        "id": "view-in-github",
        "colab_type": "text"
      },
      "source": [
        "<a href=\"https://colab.research.google.com/github/beppezampieri/SPAZIO-DI-LAVORO/blob/master/Copia_di_Lezione_9_Python.ipynb\" target=\"_parent\"><img src=\"https://colab.research.google.com/assets/colab-badge.svg\" alt=\"Open In Colab\"/></a>"
      ]
    },
    {
      "cell_type": "markdown",
      "metadata": {
        "id": "wAbtnL7EsPCV"
      },
      "source": [
        "# PYTHON LEZIONE 9 - WIDGET\n",
        "---\n",
        "# Python al Liceo Scientifico Enrico Fermi - edizione 22/23\n",
        "\n",
        "Davide Bresolin<br>\n"
      ]
    },
    {
      "cell_type": "markdown",
      "metadata": {
        "id": "EjW5HxRhsb_M"
      },
      "source": [
        "# Preparazione\n",
        "\n",
        "*   Andate nel menù \"File\" e premete il pulsante \"Save a copy in drive\". Effettuate l'accesso con un **account gmail**. NB Potrebbe essere necessario provare due volte a fare \"Save a copy in drive\" perchè l'operazione funzioni.\n",
        "*   Una volta effettuato il login si aprirà una nuova pagina, il cui titolo sarà \"Copy of Lezione-9-Python\". A questo punto questo file sarà stato salvato all'interno del vostro drive una cartella denominata \"Colab Notebooks\". All'interno di questa cartella troverete quindi una copia del file Lezione-9-Python.\n",
        "*   All'interno del proprio Google Drive (https://drive.google.com) creare una cartella denominata Python all'interno della cartella \"Colab Notebooks\". Questa operazione va effettuata solo la prima volta. Se non trovate dove il file è stato salvato, potete andare ancora nel menu \"File\" e selezionare \"Trova su Drive\".\n",
        "*   Spostate quindi la copia del file Lezione-9-Python nella cartella Python che avete appena creato.\n",
        "\n",
        "NOTA IMPORTANTE: La pagina con titolo \"Lezione-9-Python\" che vi è stata condivisa dal padlet deve essere ***CHIUSA***. Dovete tenere aperta solamente la copia che avete creato nella cartella Python altrimenti rischiate di perdere le modifiche che fate durante il laboratorio."
      ]
    },
    {
      "cell_type": "markdown",
      "metadata": {
        "id": "k2-QbwCUofBa"
      },
      "source": [
        "## Altre impostazioni\n",
        "Andate nel menù \"Strumenti\", premete la voce \"Impostazioni\", poi cliccate sulla scheda \"Editor\" e mettete il visto sulla funzione \"Mostra numeri di riga\". Questo farà comparire i numeri di riga accanto al codice che scrivete."
      ]
    },
    {
      "cell_type": "markdown",
      "source": [
        "# Widget: cosa sono?\n",
        "\n",
        "Un **widget** è un componente grafico di una interfaccia utente di un programma, che ha lo scopo di facilitare all'utente l'interazione con il programma stesso.\n",
        "\n",
        "Abbiamo già visto un esempio di widget quando abbiamo usato la funzione `input` per chiedere all'utente di inserire un valore: il campo di testo dove va inserito il valore è un widget!"
      ],
      "metadata": {
        "id": "lISk5uYlT6xe"
      }
    },
    {
      "cell_type": "code",
      "source": [
        "nome = input(\"Come ti chiami?\\n\")\n",
        "print(\"Ciao\", nome)"
      ],
      "metadata": {
        "colab": {
          "base_uri": "https://localhost:8080/"
        },
        "id": "ytmcj5e9VTHK",
        "outputId": "53c17436-a231-4515-d6f3-d382a48c3f04"
      },
      "execution_count": null,
      "outputs": [
        {
          "output_type": "stream",
          "name": "stdout",
          "text": [
            "Come ti chiami?\n",
            "Davide\n",
            "Ciao Davide\n"
          ]
        }
      ]
    },
    {
      "cell_type": "markdown",
      "source": [
        "Altri esempi di widget sono:\n",
        "- bottoni\n",
        "- menù a tendina\n",
        "- immagini\n",
        "- cursori\n",
        "\n",
        "Il modulo `ipywidget` ci mette a disposizione diversi tipi di widget, che possiamo usare per creare notebook interattivi. Noi ne vedremo solo una piccola parte, la lista completa la potete trovare nella [documentazione ufficiale](https://ipywidgets.readthedocs.io/en/stable/examples/Widget%20List.html). \n",
        "Oppure potete eseguire il codice di questa cella:"
      ],
      "metadata": {
        "id": "YajZ65gmWQH7"
      }
    },
    {
      "cell_type": "code",
      "source": [
        "import ipywidgets as widgets\n",
        "\n",
        "print(dir(widgets))"
      ],
      "metadata": {
        "colab": {
          "base_uri": "https://localhost:8080/"
        },
        "id": "PdpgSdwHWPgu",
        "outputId": "6561910b-1a1e-4bed-f213-06711e423143"
      },
      "execution_count": null,
      "outputs": [
        {
          "output_type": "stream",
          "name": "stdout",
          "text": [
            "['Accordion', 'AppLayout', 'Audio', 'BoundedFloatText', 'BoundedIntText', 'Box', 'Button', 'ButtonStyle', 'CallbackDispatcher', 'Checkbox', 'Color', 'ColorPicker', 'Combobox', 'Controller', 'CoreWidget', 'DOMWidget', 'DatePicker', 'Datetime', 'Dropdown', 'FileUpload', 'FloatLogSlider', 'FloatProgress', 'FloatRangeSlider', 'FloatSlider', 'FloatText', 'GridBox', 'GridspecLayout', 'HBox', 'HTML', 'HTMLMath', 'Image', 'IntProgress', 'IntRangeSlider', 'IntSlider', 'IntText', 'Label', 'Layout', 'NumberFormat', 'Output', 'Password', 'Play', 'RadioButtons', 'Select', 'SelectMultiple', 'SelectionRangeSlider', 'SelectionSlider', 'SliderStyle', 'Style', 'Tab', 'Text', 'Textarea', 'ToggleButton', 'ToggleButtons', 'ToggleButtonsStyle', 'TwoByTwoLayout', 'VBox', 'Valid', 'ValueWidget', 'Video', 'Widget', '__builtins__', '__cached__', '__doc__', '__file__', '__jupyter_widgets_base_version__', '__jupyter_widgets_controls_version__', '__loader__', '__name__', '__package__', '__path__', '__protocol_version__', '__spec__', '__version__', '_handle_ipython', '_version', 'dlink', 'docutils', 'domwidget', 'fixed', 'get_ipython', 'handle_kernel', 'interact', 'interact_manual', 'interaction', 'interactive', 'interactive_output', 'jsdlink', 'jslink', 'link', 'load_ipython_extension', 'os', 'register', 'register_comm_target', 'trait_types', 'util', 'valuewidget', 'version_info', 'widget', 'widget_bool', 'widget_box', 'widget_button', 'widget_color', 'widget_controller', 'widget_core', 'widget_date', 'widget_description', 'widget_float', 'widget_int', 'widget_layout', 'widget_link', 'widget_media', 'widget_output', 'widget_selection', 'widget_selectioncontainer', 'widget_serialization', 'widget_string', 'widget_style', 'widget_templates', 'widget_upload', 'widgets']\n"
          ]
        }
      ]
    },
    {
      "cell_type": "markdown",
      "source": [
        "# Creare un widget\n",
        "\n",
        "Un widget può essere creato molto facilmente. Come primo esempio, proviamo a creare un bottone. Salviamo il widget in una variabile, e poi diciamo a Colab di mostrare il widget usando la funzione `display`:"
      ],
      "metadata": {
        "id": "vV8rr9cDWgBu"
      }
    },
    {
      "cell_type": "code",
      "source": [
        "from IPython.display import display\n",
        "\n",
        "btn = widgets.Button(description='Cliccami!')\n",
        "display(btn)"
      ],
      "metadata": {
        "id": "B5eIRPdrWu59",
        "colab": {
          "base_uri": "https://localhost:8080/",
          "height": 49,
          "referenced_widgets": [
            "2e5dedad18594cb7a7ed42a76614a77f",
            "c7532353c1cc4874abcdc32064853779",
            "521f285bca2a4b0b8b1aa62fd317e3e5"
          ]
        },
        "outputId": "987706c3-1339-4e33-b4ba-4dc4b37a1d1d"
      },
      "execution_count": null,
      "outputs": [
        {
          "output_type": "display_data",
          "data": {
            "text/plain": [
              "Button(description='Cliccami!', style=ButtonStyle())"
            ],
            "application/vnd.jupyter.widget-view+json": {
              "version_major": 2,
              "version_minor": 0,
              "model_id": "2e5dedad18594cb7a7ed42a76614a77f"
            }
          },
          "metadata": {}
        }
      ]
    },
    {
      "cell_type": "markdown",
      "source": [
        "Nella cella precedenta abbiamo aggiunto l'importazione della funzione di cui bisogno per visualizzare un widget e creato un semplice `Button`. Abbiamo dovuto specificare la sua **descrizione** in modo che il pulsante avesse un'etichetta. Infine abbiamo chiamato la funzione `display` e le abbiamo passato l'oggetto widget."
      ],
      "metadata": {
        "id": "sLh3c3tcZHtO"
      }
    },
    {
      "cell_type": "markdown",
      "source": [
        "# Proprietà di un widget\n",
        "\n",
        "I widget hanno anche delle **chiavi**, che sono cose come `description`, `icon`, e `disabled`. Per l'elenco completo delle chiavi di un widget, puoi consultare la documentazione per il widget, o semplicemente eseguire questo:"
      ],
      "metadata": {
        "id": "r84-mpv1NFkN"
      }
    },
    {
      "cell_type": "code",
      "source": [
        "btn.keys"
      ],
      "metadata": {
        "id": "LLBvSkKcqfLB",
        "colab": {
          "base_uri": "https://localhost:8080/"
        },
        "outputId": "a30da1a7-ae43-44dc-c37b-50d19c54ace4"
      },
      "execution_count": null,
      "outputs": [
        {
          "output_type": "execute_result",
          "data": {
            "text/plain": [
              "['_dom_classes',\n",
              " '_model_module',\n",
              " '_model_module_version',\n",
              " '_model_name',\n",
              " '_view_count',\n",
              " '_view_module',\n",
              " '_view_module_version',\n",
              " '_view_name',\n",
              " 'button_style',\n",
              " 'description',\n",
              " 'disabled',\n",
              " 'icon',\n",
              " 'layout',\n",
              " 'style',\n",
              " 'tooltip']"
            ]
          },
          "metadata": {},
          "execution_count": 6
        }
      ]
    },
    {
      "cell_type": "markdown",
      "source": [
        "Proviamo per esempio a cambiare l'etichetta del bottone che abbiamo creato sopra:"
      ],
      "metadata": {
        "id": "W6lridsScTre"
      }
    },
    {
      "cell_type": "code",
      "source": [
        "btn.description = \"Nuova etichetta\""
      ],
      "metadata": {
        "id": "gB8xednKceuV"
      },
      "execution_count": null,
      "outputs": []
    },
    {
      "cell_type": "markdown",
      "source": [
        "e poi a disabilitarlo:"
      ],
      "metadata": {
        "id": "pALs-SUyN0oE"
      }
    },
    {
      "cell_type": "code",
      "source": [
        "btn.disabled = False"
      ],
      "metadata": {
        "id": "GTVyGkD7N4eX"
      },
      "execution_count": null,
      "outputs": []
    },
    {
      "cell_type": "markdown",
      "source": [
        "# Eventi\n",
        "\n",
        "Un **evento** si verifica quando interagisci con un widget. Ad esempio, quando si preme un pulsante, si parla di evento **clic**. Diamo un'occhiata a un esempio di come potrebbe funzionare utilizzando un bottone."
      ],
      "metadata": {
        "id": "ROLQFxATcwtk"
      }
    },
    {
      "cell_type": "code",
      "source": [
        "btn = widgets.Button(description='Test')\n",
        "display(btn)\n",
        "\n",
        "\n",
        "def gestore_evento(b):\n",
        "    print('Hai premuto il bottone', b.description)\n",
        "    \n",
        "btn.on_click(gestore_evento)"
      ],
      "metadata": {
        "colab": {
          "base_uri": "https://localhost:8080/",
          "height": 153,
          "referenced_widgets": [
            "0cd8e4e49db646448766283f19af031e",
            "4179bcb5cb234f7e80984978806ebd64",
            "902315b35a0c47369e5cfbf59f65becf"
          ]
        },
        "id": "86mCabaRPQeT",
        "outputId": "085fcfe2-dddb-471a-f0ba-f3fd311c368c"
      },
      "execution_count": null,
      "outputs": [
        {
          "output_type": "display_data",
          "data": {
            "text/plain": [
              "Button(description='Test', style=ButtonStyle())"
            ],
            "application/vnd.jupyter.widget-view+json": {
              "version_major": 2,
              "version_minor": 0,
              "model_id": "0cd8e4e49db646448766283f19af031e"
            }
          },
          "metadata": {}
        },
        {
          "output_type": "stream",
          "name": "stdout",
          "text": [
            "Hai premuto il bottone Test\n",
            "Hai premuto il bottone Test\n",
            "Hai premuto il bottone Test\n",
            "Hai premuto il bottone Test\n",
            "Hai premuto il bottone Test\n",
            "Hai premuto il bottone Test\n"
          ]
        }
      ]
    },
    {
      "cell_type": "markdown",
      "source": [
        "In questo esempio abbiamo creato un pulsante e una funzione denominata `gestore_evento`. Questa funzione è il **gestore dell'evento** a cui assoceresti l'evento del tuo widget. Per associare effettivamente l'evento *click* del bottone a questo gestore, devi chiamare `on_click` e passargli la funzione a cui vuoi che sia associato. \n",
        "\n",
        "Nota che il gestore dell'evento accetta implicitamente un argomento, che è il bottone stesso. Ciò ci consente di accedere alle proprietà del bottone, ed in questo caso ci permette di stampare l'etichetta del pulsante ogni volta che viene premuto.\n",
        "\n",
        "Passare il bottono come argomento della funzione ci permette di associare più pulsanti allo stesso gestore di eventi. Ecco come potresti farlo:"
      ],
      "metadata": {
        "id": "96KWGyohc8tD"
      }
    },
    {
      "cell_type": "code",
      "source": [
        "btn1 = widgets.Button(description='Uno')\n",
        "btn2 = widgets.Button(description='Due')\n",
        "display(btn1)\n",
        "display(btn2)\n",
        "    \n",
        "btn1.on_click(gestore_evento)\n",
        "btn2.on_click(gestore_evento)"
      ],
      "metadata": {
        "id": "awPg8shqc8Bg",
        "colab": {
          "base_uri": "https://localhost:8080/",
          "height": 272,
          "referenced_widgets": [
            "37a49191c51d4be2adcdfda3e6354062",
            "ba26a4a83a48447aa59af5f08c9167cb",
            "f24df684594044439977ef06d4297e19",
            "ec823e22bdd3444c94f6b633b6600b08",
            "71b9bd8f1d4042fb8ee0e51d14f58c0c",
            "02d6440ae92646b9838050510ba2869a"
          ]
        },
        "outputId": "9748e567-6a08-44dc-b8e7-59fb9b562ac7"
      },
      "execution_count": null,
      "outputs": [
        {
          "output_type": "display_data",
          "data": {
            "text/plain": [
              "Button(description='Uno', style=ButtonStyle())"
            ],
            "application/vnd.jupyter.widget-view+json": {
              "version_major": 2,
              "version_minor": 0,
              "model_id": "37a49191c51d4be2adcdfda3e6354062"
            }
          },
          "metadata": {}
        },
        {
          "output_type": "display_data",
          "data": {
            "text/plain": [
              "Button(description='Due', style=ButtonStyle())"
            ],
            "application/vnd.jupyter.widget-view+json": {
              "version_major": 2,
              "version_minor": 0,
              "model_id": "ec823e22bdd3444c94f6b633b6600b08"
            }
          },
          "metadata": {}
        },
        {
          "output_type": "stream",
          "name": "stdout",
          "text": [
            "Hai premuto il bottone Uno\n",
            "Hai premuto il bottone Uno\n",
            "Hai premuto il bottone Uno\n",
            "Hai premuto il bottone Uno\n",
            "Hai premuto il bottone Due\n",
            "Hai premuto il bottone Due\n",
            "Hai premuto il bottone Due\n",
            "Hai premuto il bottone Uno\n",
            "Hai premuto il bottone Uno\n",
            "Hai premuto il bottone Uno\n",
            "Hai premuto il bottone Due\n"
          ]
        }
      ]
    },
    {
      "cell_type": "markdown",
      "source": [
        "# Layout\n",
        "\n",
        "I widget hanno anche un attributo `layout` che ci consente di impostare una serie di proprietà per controllare l'aspetto grafico dei widget. Queste proprietà includono dimensioni, posizionamento e altro. Per esempio, possiamo utilizzare la funzione `Layout` per fare in modo che i widget cambino dimensioni in base allo spazio disponibile sullo schermo.\n",
        "\n",
        "Diamo un'occhiata a un semplice esempio:"
      ],
      "metadata": {
        "id": "FqiYYeCNdOob"
      }
    },
    {
      "cell_type": "code",
      "source": [
        "layout = widgets.Layout(width='50%', height='100px')\n",
        "\n",
        "btn = widgets.Button(description='bottone (larghezza 50%, altezza 100px)',\n",
        "             layout=layout)\n",
        "display(btn)"
      ],
      "metadata": {
        "id": "_Hq034nXdOFT",
        "colab": {
          "base_uri": "https://localhost:8080/",
          "height": 121,
          "referenced_widgets": [
            "d68d6a89c69a43398d591ca5848618bc",
            "f437fa7bd1274d8fb9c7ac572b58dd6f",
            "b69c310b740646e987f4b51742e54079"
          ]
        },
        "outputId": "3c8cafdf-b30a-4ddf-dfb5-e9b36ed8442e"
      },
      "execution_count": null,
      "outputs": [
        {
          "output_type": "display_data",
          "data": {
            "text/plain": [
              "Button(description='bottone (larghezza 50%, altezza 100px)', layout=Layout(height='100px', width='50%'), style…"
            ],
            "application/vnd.jupyter.widget-view+json": {
              "version_major": 2,
              "version_minor": 0,
              "model_id": "d68d6a89c69a43398d591ca5848618bc"
            }
          },
          "metadata": {}
        }
      ]
    },
    {
      "cell_type": "markdown",
      "source": [
        "In questo esempio abbiamo impostato il layout in modo tale che il widget occupi il 50% della larghezza disponibile e 100 pixel di altezza. Quindi assegniamo l'argomento `layout` del pulsante al layout che abbiamo appena creato.\n",
        "\n",
        "Potete trovare la lista completa delle proprietà di un `Layout` nella [documentazione ufficiale](https://ipywidgets.readthedocs.io/en/stable/examples/Widget%20Layout.html)."
      ],
      "metadata": {
        "id": "wHLeJ4RKY0AO"
      }
    },
    {
      "cell_type": "markdown",
      "source": [
        "# Stile\n",
        "\n",
        "Altri aspetti grafici di un widget possono essere impostati cambiando lo **stile** di un widget. \n",
        "\n",
        "Molti widget consentono di scegliere in un elenco di stili predefiniti.\n",
        "Ad esempio, il widget `Button` ha un attributo `button_style` che può assumere 5 valori diversi:\n",
        "\n",
        "- `'primary'`\n",
        "- `'success'`\n",
        "- `'info'`\n",
        "- `'warning'`\n",
        "- `'danger'`\n",
        "\n",
        "oltre al valore predefinito stringa vuota `''` (nessuno stile particolare)."
      ],
      "metadata": {
        "id": "3X2YExxLSV0I"
      }
    },
    {
      "cell_type": "code",
      "source": [
        "btn_pericolo = widgets.Button(description='Pericolo!', button_style='danger')\n",
        "display(btn_pericolo)"
      ],
      "metadata": {
        "colab": {
          "base_uri": "https://localhost:8080/",
          "height": 49,
          "referenced_widgets": [
            "1f2ad114900647f5a9044557145e727a",
            "f3555fb6b6e94d4b84b1cf021a3fa286",
            "3b62768ecff144068aa878a0a78b7404"
          ]
        },
        "id": "PG_TZ13MU-4h",
        "outputId": "ed86e1c8-de84-43f3-a11e-1d897e837e40"
      },
      "execution_count": null,
      "outputs": [
        {
          "output_type": "display_data",
          "data": {
            "text/plain": [
              "Button(button_style='danger', description='Pericolo!', style=ButtonStyle())"
            ],
            "application/vnd.jupyter.widget-view+json": {
              "version_major": 2,
              "version_minor": 0,
              "model_id": "1f2ad114900647f5a9044557145e727a"
            }
          },
          "metadata": {}
        }
      ]
    },
    {
      "cell_type": "markdown",
      "source": [
        "L'attributo `style` viene utilizzato per esporre gli attributi di stile dei widget come colore, tipo e la dimensione del font, eccetera.\n",
        "\n",
        "Tuttavia, le proprietà dell'attributo `style` sono specifiche per ciascun tipo di widget."
      ],
      "metadata": {
        "id": "a2mVs0kSVURL"
      }
    },
    {
      "cell_type": "code",
      "source": [
        "b1 = widgets.Button(description='Bottone verde')\n",
        "b1.style.button_color = 'lightgreen'\n",
        "display(b1)"
      ],
      "metadata": {
        "colab": {
          "base_uri": "https://localhost:8080/",
          "height": 49,
          "referenced_widgets": [
            "805a923ecee04dbabf13bcf0c3fa9610",
            "6c1c9ceb7d7942a39bcafa387aff1375",
            "a34d381227b742c192968f5b973f8769"
          ]
        },
        "id": "mA-7THv1VpHL",
        "outputId": "b8f57e36-d817-4352-896d-9fbd6d294a02"
      },
      "execution_count": null,
      "outputs": [
        {
          "output_type": "display_data",
          "data": {
            "text/plain": [
              "Button(description='Bottone verde', style=ButtonStyle(button_color='lightgreen'))"
            ],
            "application/vnd.jupyter.widget-view+json": {
              "version_major": 2,
              "version_minor": 0,
              "model_id": "805a923ecee04dbabf13bcf0c3fa9610"
            }
          },
          "metadata": {}
        }
      ]
    },
    {
      "cell_type": "markdown",
      "source": [
        "Puoi ottenere un elenco degli attributi di stile per un widget con la proprietà `keys`."
      ],
      "metadata": {
        "id": "SEBP5-ZBV6n0"
      }
    },
    {
      "cell_type": "code",
      "source": [
        "b1.style.keys"
      ],
      "metadata": {
        "colab": {
          "base_uri": "https://localhost:8080/"
        },
        "id": "CX0lIlEWV3a1",
        "outputId": "9831e17e-b21d-4a1c-c286-7466875a1af7"
      },
      "execution_count": null,
      "outputs": [
        {
          "output_type": "execute_result",
          "data": {
            "text/plain": [
              "['_model_module',\n",
              " '_model_module_version',\n",
              " '_model_name',\n",
              " '_view_count',\n",
              " '_view_module',\n",
              " '_view_module_version',\n",
              " '_view_name',\n",
              " 'button_color',\n",
              " 'font_weight']"
            ]
          },
          "metadata": {},
          "execution_count": 24
        }
      ]
    },
    {
      "cell_type": "markdown",
      "source": [
        "Potete trovare la altri esempi delle proprietà di stile nella [documentazione ufficiale](https://ipywidgets.readthedocs.io/en/stable/examples/Widget%20Styling.html)."
      ],
      "metadata": {
        "id": "Dzf9CgWfWGRS"
      }
    },
    {
      "cell_type": "markdown",
      "source": [
        "# Disporre i widget\n",
        "\n",
        "Ci sono alcune funzioni di supporto come `HBox` e `VBox` che puoi usare per combinare i widget e disporli visivamente. `HBox` dispone i widget in una linea orizzontale da sinistra a destra. Usiamo un `HBox` e un widget `Label` per mostrare un testo a fianco ad un bottone:"
      ],
      "metadata": {
        "id": "9Oz5UnoLXAxz"
      }
    },
    {
      "cell_type": "code",
      "source": [
        "descrizione = widgets.Label('Premi questo bottone per iniziare il test:')\n",
        "btn = widgets.Button(description='Inizia')\n",
        "riga = widgets.HBox([descrizione, btn])\n",
        "display(riga)"
      ],
      "metadata": {
        "id": "2uJMAu-_rwHO",
        "colab": {
          "base_uri": "https://localhost:8080/",
          "height": 49,
          "referenced_widgets": [
            "d0291717ceaf4bd59fd8a39a1186927d",
            "f96a6b31823d46d6900d2c8b13973c1c",
            "e321f5fc56e34c3594c4b593519007d5",
            "8f0de00fb3d74399b81145da31f8163e",
            "6ad144410ee7436ca5a1e39817cdcea6",
            "400c09b0b4dc4634a3dfa1b30baded77",
            "dbb36f5db6cb46a9aedfe5f31b0aee90",
            "9392df441b304269bccffd0dd093c1f9"
          ]
        },
        "outputId": "5f4a3d33-d32a-466b-d6d7-d1a371ce38ad"
      },
      "execution_count": null,
      "outputs": [
        {
          "output_type": "display_data",
          "data": {
            "text/plain": [
              "HBox(children=(Label(value='Premi questo bottone per iniziare il test:'), Button(description='Inizia', style=B…"
            ],
            "application/vnd.jupyter.widget-view+json": {
              "version_major": 2,
              "version_minor": 0,
              "model_id": "d0291717ceaf4bd59fd8a39a1186927d"
            }
          },
          "metadata": {}
        }
      ]
    },
    {
      "cell_type": "markdown",
      "source": [
        "Come ci si potrebbe aspettare, possiamo utilizzare una combinazione di `HBox` e `VBox` per creare layout complessi dei widget. Ad esempio, possiamo aggiungere un paio di widget a un `HBox` e un altro paio a un secondo `HBox` e quindi aggiungere entrambi gli `HBox` a un `VBox` per creare una griglia. Vediamo come potrebbe funzionare."
      ],
      "metadata": {
        "id": "VA__A2Q_Z-nH"
      }
    },
    {
      "cell_type": "code",
      "source": [
        "btn1 = widgets.Button(description='Uno') \n",
        "btn2 = widgets.Button(description='Due')\n",
        "btn3 = widgets.Button(description='Tre')\n",
        "btn4 = widgets.Button(description='Quattro')\n",
        "\n",
        "riga1 = widgets.HBox([btn1, btn2])\n",
        "riga2 = widgets.HBox([btn3, btn4])\n",
        "\n",
        "griglia = widgets.VBox([riga1, riga2])\n",
        "display(griglia)"
      ],
      "metadata": {
        "colab": {
          "base_uri": "https://localhost:8080/",
          "height": 81,
          "referenced_widgets": [
            "ea87b2cef72446bd89b6dd54347b3802",
            "be0eb4321b184f7389d9edb2f6488f16",
            "b5d757c4cdfa4273bfefe7c830375113",
            "15b2076c7aed40239bf0f1159b82201e",
            "d2f5db39f7ea4a37abfffb52bda280e6",
            "01521d36596749bc90c7865fa345c794",
            "50d96351589245cdb2ae321b26622c97",
            "f39aa33487b94ff39eece23125b22c70",
            "6738c2943a504d9aa30b37119b5d1b97",
            "80b0b7dda36d4a799902adffd3a01c11",
            "cbc068913ead45e6bb9d5874644fb027",
            "ff80945c957b40a8ac2d628cc958912c",
            "d47c59e1783e44c4871f77bc142f24f4",
            "5a24e720f3b449eab3741305f6c11898",
            "31272052b5f24e70aec1edd9f3307d9d",
            "bd6555abc75f43ef8904d6f00594e0ac",
            "522a83cdd2694a2688ba7a676bd2c266",
            "443fc78140764e67b2dd6c9d1b554170"
          ]
        },
        "id": "TTz3yM_hajOR",
        "outputId": "0ab1591a-8d1e-42e0-8f68-421645e7ea56"
      },
      "execution_count": null,
      "outputs": [
        {
          "output_type": "display_data",
          "data": {
            "text/plain": [
              "VBox(children=(HBox(children=(Button(description='Uno', style=ButtonStyle()), Button(description='Due', style=…"
            ],
            "application/vnd.jupyter.widget-view+json": {
              "version_major": 2,
              "version_minor": 0,
              "model_id": "ea87b2cef72446bd89b6dd54347b3802"
            }
          },
          "metadata": {}
        }
      ]
    },
    {
      "cell_type": "markdown",
      "metadata": {
        "id": "eBedmMw4JcEs"
      },
      "source": [
        "# Conclusioni\n",
        "\n",
        "In questa lezione abbiamo imparato molto su come creare e utilizzare widget. Abbiamo anche imparato come possiamo mostrarli, modellarli e disporli. Ci sono molte altre cose che puoi imparare sui widget controllando la documentazione del modulo `ipywidgets` o leggendo alcuni tutorial sul web.\n",
        "Tuttavia, ora ne sappiamo abbastanza per provare a creare un semplice gioco interattivo: proseguite la lezione dal notebook con gli esercizi."
      ]
    }
  ]
}