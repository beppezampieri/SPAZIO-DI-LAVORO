{
  "nbformat": 4,
  "nbformat_minor": 0,
  "metadata": {
    "colab": {
      "provenance": [],
      "collapsed_sections": [
        "XMW5y9UFu87C",
        "iogfm4dAu1yL",
        "eyBmOxK2QTi2"
      ],
      "include_colab_link": true
    },
    "kernelspec": {
      "name": "python3",
      "display_name": "Python 3"
    }
  },
  "cells": [
    {
      "cell_type": "markdown",
      "metadata": {
        "id": "view-in-github",
        "colab_type": "text"
      },
      "source": [
        "<a href=\"https://colab.research.google.com/github/beppezampieri/SPAZIO-DI-LAVORO/blob/master/Copia_di_Lezione_5_Python.ipynb\" target=\"_parent\"><img src=\"https://colab.research.google.com/assets/colab-badge.svg\" alt=\"Open In Colab\"/></a>"
      ]
    },
    {
      "cell_type": "markdown",
      "metadata": {
        "id": "wAbtnL7EsPCV"
      },
      "source": [
        "# PYTHON LEZIONE 5 - ITERAZIONE\n",
        "---\n",
        "# Python al Liceo Scientifico Enrico Fermi - edizione 22/23\n",
        "\n",
        "Davide Bresolin<br>\n"
      ]
    },
    {
      "cell_type": "markdown",
      "metadata": {
        "id": "7Nbzsv5za4AX"
      },
      "source": [
        "# Fonti consigliate"
      ]
    },
    {
      "cell_type": "markdown",
      "metadata": {
        "id": "3TtwhUZd68dw"
      },
      "source": [
        "Libro online consigliato [Pensare in Python: come pensare da Informatico, Seconda Edizione](https://github.com/AllenDowney/ThinkPythonItalian/raw/master/thinkpython_italian.pdf)\n",
        "*   Capitolo 7\n",
        "    * Iterazione\n",
        "*   Capitolo 8\n",
        "    * Stringhe\n",
        "\n",
        "[Tutorial Colab online](https://www.tutorialspoint.com/google_colab/google_colab_quick_guide.htm) (solo introduzione fino al capitolo \"Google Colab - Saving Your Work\", sezione \"Saving to Google Drive\". Si può saltare \"Google Colab - Documenting Your Code\")"
      ]
    },
    {
      "cell_type": "markdown",
      "metadata": {
        "id": "EjW5HxRhsb_M"
      },
      "source": [
        "# Preparazione\n",
        "\n",
        "*   Andate nel menù \"File\" e premete il pulsante \"Save a copy in drive\". Effettuate l'accesso con un **account gmail**. NB Potrebbe essere necessario provare due volte a fare \"Save a copy in drive\" perchè l'operazione funzioni.\n",
        "*   Una volta effettuato il login si aprirà una nuova pagina, il cui titolo sarà \"Copy of Lezione-5-Python\". A questo punto questo file sarà stato salvato all'interno del vostro drive una cartella denominata \"Colab Notebooks\". All'interno di questa cartella troverete quindi una copia del file Lezione-5-Python.\n",
        "*   All'interno del proprio Google Drive (https://drive.google.com) creare una cartella denominata Python all'interno della cartella \"Colab Notebooks\". Questa operazione va effettuata solo la prima volta. Se non trovate dove il file è stato salvato, potete andare ancora nel menu \"File\" e selezionare \"Trova su Drive\".\n",
        "*   Spostate quindi la copia del file Lezione-5-Python nella cartella Python che avete appena creato.\n",
        "\n",
        "NOTA IMPORTANTE: La pagina con titolo \"Lezione-5-Python\" che vi è stata condivisa dal padlet deve essere ***CHIUSA***. Dovete tenere aperta solamente la copia che avete creato nella cartella Python altrimenti rischiate di perdere le modifiche che fate durante il laboratorio."
      ]
    },
    {
      "cell_type": "markdown",
      "metadata": {
        "id": "k2-QbwCUofBa"
      },
      "source": [
        "## Altre impostazioni\n",
        "Andate nel menù \"Strumenti\", premete la voce \"Impostazioni\", poi cliccate sulla scheda \"Editor\" e mettete il visto sulla funzione \"Mostra numeri di riga\". Questo farà comparire i numeri di riga accanto al codice che scrivete."
      ]
    },
    {
      "cell_type": "markdown",
      "source": [
        "# Iterazione (WHILE)\n",
        "\n",
        "Python mette a disposizione vari costrutti per ripetere una serie di comandi.\n",
        "Abbiamo già visto il costrutto `for`. Un’altra istruzione di iterazione è `while`.  Vediamo un esempio di conto alla rovescia scritto usando il `while`:"
      ],
      "metadata": {
        "id": "vfJtu507nToE"
      }
    },
    {
      "cell_type": "code",
      "source": [
        "n = 10\n",
        "while n > 0:\n",
        "  # le prossime istruzioni formano il \"corpo\" del while\n",
        "  print(n)\n",
        "  n = n - 1\n",
        "# qui siamo fuori dal while\n",
        "print(\"VIA!\")"
      ],
      "metadata": {
        "id": "LebTAVUznVJJ",
        "colab": {
          "base_uri": "https://localhost:8080/"
        },
        "outputId": "a168533f-2150-4c5e-84fe-f7f9b0d001f6"
      },
      "execution_count": null,
      "outputs": [
        {
          "output_type": "stream",
          "name": "stdout",
          "text": [
            "10\n",
            "9\n",
            "8\n",
            "7\n",
            "6\n",
            "5\n",
            "4\n",
            "3\n",
            "2\n",
            "1\n",
            "VIA!\n"
          ]
        }
      ]
    },
    {
      "cell_type": "markdown",
      "source": [
        "L'esecuzione di un `while` procede come segue:\n",
        "\n",
        "1.   Valuta la condizione, ottenendo un valore `True` oppure `False`\n",
        "2.   Se la condizione è falsa, esci dal `while` e contina l'esecuzione dalla prima istruzione fuori dal while\n",
        "3.   Se la condizione è vera, esegui le istruzioni nel corpo del `while` e poi ripeti da 1.\n",
        "\n",
        "Questo tipo di flusso di esecuzione è chiamato un **ciclo** (o **loop**) perché il terzo punto ritorna al punto di partenza.\n",
        "\n",
        "**NB:** Come nel caso di `if`/`elif`/`else`, tutte le istruzioni che sono comprese all'interno del ciclo `while` vanno riportate un TAB più a destra.\n",
        "\n",
        "\n",
        "\n"
      ],
      "metadata": {
        "id": "PxJgzrNPnrYU"
      }
    },
    {
      "cell_type": "markdown",
      "source": [
        "### Cicli infiniti\n",
        "\n",
        "Il corpo di un while deve contenere delle istruzioni che cambiano il valore di una o più variabili in modo che ad un certo punto la condizione diventi falsa. Altrimenti il ciclo si ripete per sempre, creando quello che si chiama **ciclo infinito**.\n",
        "\n",
        "Nell'esempio del conto alla rovescia il ciclo termina perché il valore di `n` inizia da 10 e descresce ad ogni iterazione, fino a diventare 0 dopo 10 iterazioni. "
      ],
      "metadata": {
        "id": "GKVYe0H2pcB0"
      }
    },
    {
      "cell_type": "markdown",
      "source": [
        "Un errore tipico è quello di \"dimenticarsi\" di cambiare il valore delle variabili che compaiono nella condizione del di uscita dal ciclo:"
      ],
      "metadata": {
        "id": "ASdqdCo0rf1j"
      }
    },
    {
      "cell_type": "code",
      "source": [
        "n = 10\n",
        "while n > 0:\n",
        "  print(n)\n",
        "  n = n -1\n",
        "  # cosa mai potrà andare storto?"
      ],
      "metadata": {
        "id": "NOtXHIqQr6Me",
        "colab": {
          "base_uri": "https://localhost:8080/"
        },
        "outputId": "cf153879-0391-4ddd-f782-80592dae800b"
      },
      "execution_count": null,
      "outputs": [
        {
          "output_type": "stream",
          "name": "stdout",
          "text": [
            "10\n",
            "9\n",
            "8\n",
            "7\n",
            "6\n",
            "5\n",
            "4\n",
            "3\n",
            "2\n",
            "1\n"
          ]
        }
      ]
    },
    {
      "cell_type": "markdown",
      "source": [
        "In altri casi, non è facile capire se un ciclo termina:"
      ],
      "metadata": {
        "id": "saXU_HcyrZFd"
      }
    },
    {
      "cell_type": "code",
      "source": [
        "n = 10003\n",
        "while n != 1:\n",
        "  print(n)\n",
        "  if n%2 == 0:      # n è pari\n",
        "    n = n//2\n",
        "  else:             # n è dispari\n",
        "    n = n*3 + 1"
      ],
      "metadata": {
        "id": "hNuvcjohqo2q",
        "colab": {
          "base_uri": "https://localhost:8080/"
        },
        "outputId": "892fd056-718c-4516-aa0b-31c41fb9bdc1"
      },
      "execution_count": null,
      "outputs": [
        {
          "output_type": "stream",
          "name": "stdout",
          "text": [
            "10003\n",
            "30010\n",
            "15005\n",
            "45016\n",
            "22508\n",
            "11254\n",
            "5627\n",
            "16882\n",
            "8441\n",
            "25324\n",
            "12662\n",
            "6331\n",
            "18994\n",
            "9497\n",
            "28492\n",
            "14246\n",
            "7123\n",
            "21370\n",
            "10685\n",
            "32056\n",
            "16028\n",
            "8014\n",
            "4007\n",
            "12022\n",
            "6011\n",
            "18034\n",
            "9017\n",
            "27052\n",
            "13526\n",
            "6763\n",
            "20290\n",
            "10145\n",
            "30436\n",
            "15218\n",
            "7609\n",
            "22828\n",
            "11414\n",
            "5707\n",
            "17122\n",
            "8561\n",
            "25684\n",
            "12842\n",
            "6421\n",
            "19264\n",
            "9632\n",
            "4816\n",
            "2408\n",
            "1204\n",
            "602\n",
            "301\n",
            "904\n",
            "452\n",
            "226\n",
            "113\n",
            "340\n",
            "170\n",
            "85\n",
            "256\n",
            "128\n",
            "64\n",
            "32\n",
            "16\n",
            "8\n",
            "4\n",
            "2\n"
          ]
        }
      ]
    },
    {
      "cell_type": "markdown",
      "source": [
        "# Esercizi"
      ],
      "metadata": {
        "id": "dEvlzDImp-WP"
      }
    },
    {
      "cell_type": "markdown",
      "metadata": {
        "id": "IWfdzDRq5ugv"
      },
      "source": [
        "## Esercizio 1\n",
        "Stampare la \"tabellina\" del 5, un valore per riga\n"
      ]
    },
    {
      "cell_type": "code",
      "metadata": {
        "id": "9vNIr0E87DLG"
      },
      "source": [],
      "execution_count": null,
      "outputs": []
    },
    {
      "cell_type": "markdown",
      "metadata": {
        "id": "AgeEDB9J6Rf6"
      },
      "source": [
        "## Esercizio 2\n",
        "Stampare la \"tabellina\" del 5, in una sola riga separando i numeri con uno spazio (ricordatevi del parametro `end` del comando print).\n"
      ]
    },
    {
      "cell_type": "code",
      "metadata": {
        "id": "CPsksYAT6jJD"
      },
      "source": [],
      "execution_count": null,
      "outputs": []
    },
    {
      "cell_type": "markdown",
      "source": [
        "## Esercizio 3\n",
        "\n",
        "Scrivere una funzione `tabellina` che riceve un numero 'n' come argomento e stampa la \"tabellina\" di quel numero in una sola riga separando i numeri con uno spazio o un TAB (ricordatevi del parametro `end` del comando print). "
      ],
      "metadata": {
        "id": "-YtOUzDgrfHG"
      }
    },
    {
      "cell_type": "markdown",
      "metadata": {
        "id": "sF82Atlg6jrN"
      },
      "source": [
        "## Esercizio 4\n",
        "Usate la funzione `tabellina` dell'esercizio precedente per stampare le \"tabelline\" dei primi 10 numeri, ciascuna in una sola riga."
      ]
    },
    {
      "cell_type": "code",
      "metadata": {
        "id": "T_W8Rj0j639D"
      },
      "source": [],
      "execution_count": null,
      "outputs": []
    },
    {
      "cell_type": "markdown",
      "source": [
        "## Esercizio 5\n",
        "\n",
        "La funzione predefinita `eval` valuta un’espressione sotto forma di stringa, usando l’interprete Python. Ad esempio:"
      ],
      "metadata": {
        "id": "L_jLJWppsmDw"
      }
    },
    {
      "cell_type": "code",
      "source": [
        "eval('1 + 2 * 3')"
      ],
      "metadata": {
        "id": "dvZ4peqBsqnT"
      },
      "execution_count": null,
      "outputs": []
    },
    {
      "cell_type": "markdown",
      "source": [
        "Scrivete una funzione di nome `eval_ciclo` che chieda iterativamente all’utente di inserire un dato, prenda il dato inserito e lo valuti con `eval`, infine visualizzi il risultato.\n",
        "\n",
        "La funzione deve continuare fino a quando l’utente non scrive `fatto`."
      ],
      "metadata": {
        "id": "nCT3_p6Msvgv"
      }
    },
    {
      "cell_type": "code",
      "source": [],
      "metadata": {
        "id": "dRP_ycw3uL5J"
      },
      "execution_count": null,
      "outputs": []
    },
    {
      "cell_type": "markdown",
      "source": [
        "## Esercizio 6\n",
        "\n",
        "Spesso si usano i cicli per calcolare risultati numerici, partendo da un valore approssimativo che viene migliorato iterativamente con approssimazioni successive.\n",
        "\n",
        "Per esempio, un modo di calcolare le radici quadrate è il metodo di Newton. Supponiamo di voler calcolare la radice quadrata di $a$. A partire da una qualunque stima, $x$, possiamo calcolare una stima migliore con la formula seguente:\n",
        "\n",
        "$$y = \\frac{x + a/x}{2}$$\n",
        "\n",
        "Supponiamo per esempio che $a$ sia 4 e $x$ sia 3:"
      ],
      "metadata": {
        "id": "ZIyEIqbouN4_"
      }
    },
    {
      "cell_type": "code",
      "source": [
        "a = 4.0\n",
        "x = 3.0\n",
        "y = (x + a/x) / 2\n",
        "print(y)"
      ],
      "metadata": {
        "colab": {
          "base_uri": "https://localhost:8080/"
        },
        "id": "KlEkS_HRvfIv",
        "outputId": "0f9a85cb-873b-415c-fe5c-7312b2375e19"
      },
      "execution_count": null,
      "outputs": [
        {
          "output_type": "stream",
          "name": "stdout",
          "text": [
            "2.1666666666666665\n"
          ]
        }
      ]
    },
    {
      "cell_type": "markdown",
      "source": [
        "Il risultato è vicino al valore vero ($\\sqrt{4} = 2$).  Se ripetiamo il procedimento usando la nuova stima, ci avviciniamo ulteriormente:"
      ],
      "metadata": {
        "id": "_wijeaBuwQ2W"
      }
    },
    {
      "cell_type": "code",
      "source": [
        "x = y\n",
        "y = (x + a/x) / 2\n",
        "print(y)"
      ],
      "metadata": {
        "colab": {
          "base_uri": "https://localhost:8080/"
        },
        "id": "Q85Q0J45wSOI",
        "outputId": "edaa0f81-ba87-4dc9-e9c5-d341d64c4771"
      },
      "execution_count": null,
      "outputs": [
        {
          "output_type": "stream",
          "name": "stdout",
          "text": [
            "2.0064102564102564\n"
          ]
        }
      ]
    },
    {
      "cell_type": "markdown",
      "source": [
        "Dopo qualche ulteriore passaggio, la stima diventa quasi esatta:"
      ],
      "metadata": {
        "id": "RBBe8s1Vwieq"
      }
    },
    {
      "cell_type": "code",
      "source": [
        "x = y\n",
        "y = (x + a/x) / 2\n",
        "print(y)\n",
        "x = y\n",
        "y = (x + a/x) / 2\n",
        "print(y)"
      ],
      "metadata": {
        "colab": {
          "base_uri": "https://localhost:8080/"
        },
        "id": "1YyB0KiMwk29",
        "outputId": "b8138089-4d50-4689-86fa-69dcdf4e8e0f"
      },
      "execution_count": null,
      "outputs": [
        {
          "output_type": "stream",
          "name": "stdout",
          "text": [
            "2.0000102400262145\n",
            "2.0000000000262146\n"
          ]
        }
      ]
    },
    {
      "cell_type": "markdown",
      "source": [
        "In generale, non possiamo sapere *a priori* quanti passaggi ci vorranno per ottenere la risposta esatta, ma sapremo che ci saremo arrivati quando la stima non cambierà più:"
      ],
      "metadata": {
        "id": "dl_nifu1wrea"
      }
    },
    {
      "cell_type": "code",
      "source": [
        "x = y\n",
        "y = (x + a/x) / 2\n",
        "print(y)\n",
        "x = y\n",
        "y = (x + a/x) / 2\n",
        "print(y)"
      ],
      "metadata": {
        "colab": {
          "base_uri": "https://localhost:8080/"
        },
        "outputId": "d75eaea7-a9a3-426e-dcd6-187c75bcb3b3",
        "id": "1_7Yi1DJxCcB"
      },
      "execution_count": null,
      "outputs": [
        {
          "output_type": "stream",
          "name": "stdout",
          "text": [
            "2.0\n",
            "2.0\n"
          ]
        }
      ]
    },
    {
      "cell_type": "markdown",
      "source": [
        "Per calcolare la radice quadrata possiamo quindi usare un ciclo che parte da una stima iniziale, `x`, e la migliora fino a quando non cambia più (`y == x`).\n",
        "\n",
        "Per la maggior parte dei valori di `a`, questo approccio funziona bene, ma in genere è pericoloso testare l'uguaglianza su valori decimali di tipo `float`,\n",
        "perché sono solo approssimativamente esatti: la maggior parte dei numeri razionali come $1/3$, e irrazionali, come $\\sqrt{2}$, non possono essere rappresentati in modo preciso con un `float`.\n",
        "\n",
        "Piuttosto di controllare se `x` e `y` sono identici, è meglio usare la funzione predefinita `abs` per calcolare il valore assoluto della loro differenza:\n",
        "\n",
        "```\n",
        "while abs(y-x) < epsilon:\n",
        "   # calcola una stima migliore della radice quadrata\n",
        "```\n",
        "\n",
        "Dove `epsilon` è un valore molto piccolo, come `0.0000001`, che determina quando i due numeri confrontati sono abbastanza vicini da poter essere considerati praticamente uguali.\n",
        "\n",
        "Scrivete una funzione di nome `mia_radq` che prenda `a` come parametro, scelga un valore appropriato di `x`, e stampi una stima del valore della radice quadrata di `a`. Controllate il risultato confrontandolo con `math.sqrt(a)`."
      ],
      "metadata": {
        "id": "XAQEeGbSxFp4"
      }
    },
    {
      "cell_type": "code",
      "source": [],
      "metadata": {
        "id": "uksc_GZ1yg9L"
      },
      "execution_count": null,
      "outputs": []
    }
  ]
}