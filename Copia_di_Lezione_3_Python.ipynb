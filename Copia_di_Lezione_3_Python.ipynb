{
  "nbformat": 4,
  "nbformat_minor": 0,
  "metadata": {
    "colab": {
      "provenance": [],
      "include_colab_link": true
    },
    "kernelspec": {
      "name": "python3",
      "display_name": "Python 3"
    }
  },
  "cells": [
    {
      "cell_type": "markdown",
      "metadata": {
        "id": "view-in-github",
        "colab_type": "text"
      },
      "source": [
        "<a href=\"https://colab.research.google.com/github/beppezampieri/SPAZIO-DI-LAVORO/blob/master/Copia_di_Lezione_3_Python.ipynb\" target=\"_parent\"><img src=\"https://colab.research.google.com/assets/colab-badge.svg\" alt=\"Open In Colab\"/></a>"
      ]
    },
    {
      "cell_type": "markdown",
      "metadata": {
        "id": "wAbtnL7EsPCV"
      },
      "source": [
        "# PYTHON LEZIONE 3 - LE FUNZIONI\n",
        "---\n",
        "# Python al Liceo Scientifico Enrico Fermi - edizione 22/23\n",
        "\n",
        "Davide Bresolin<br>\n"
      ]
    },
    {
      "cell_type": "markdown",
      "metadata": {
        "id": "7Nbzsv5za4AX"
      },
      "source": [
        "# Fonti consigliate"
      ]
    },
    {
      "cell_type": "markdown",
      "metadata": {
        "id": "3TtwhUZd68dw"
      },
      "source": [
        "Libro online consigliato [Pensare in Python: come pensare da Informatico, Seconda Edizione](https://github.com/AllenDowney/ThinkPythonItalian/raw/master/thinkpython_italian.pdf)\n",
        "*   Capitolo 3\n",
        "    * Funzioni\n",
        "\n",
        "[Tutorial Colab online](https://www.tutorialspoint.com/google_colab/google_colab_quick_guide.htm) (solo introduzione fino al capitolo \"Google Colab - Saving Your Work\", sezione \"Saving to Google Drive\". Si può saltare \"Google Colab - Documenting Your Code\")"
      ]
    },
    {
      "cell_type": "markdown",
      "metadata": {
        "id": "EjW5HxRhsb_M"
      },
      "source": [
        "# Preparazione\n",
        "\n",
        "*   Andate nel menù \"File\" e premete il pulsante \"Save a copy in drive\". Effettuate l'accesso con un **account gmail**. NB Potrebbe essere necessario provare due volte a fare \"Save a copy in drive\" perchè l'operazione funzioni.\n",
        "*   Una volta effettuato il login si aprirà una nuova pagina, il cui titolo sarà \"Copy of Lezione-3-Python\". A questo punto questo file sarà stato salvato all'interno del vostro drive una cartella denominata \"Colab Notebooks\". All'interno di questa cartella troverete quindi una copia del file Lezione-3-Python.\n",
        "*   All'interno del proprio Google Drive (https://drive.google.com) creare una cartella denominata Python all'interno della cartella \"Colab Notebooks\". Questa operazione va effettuata solo la prima volta. Se non trovate dove il file è stato salvato, potete andare ancora nel menu \"File\" e selezionare \"Trova su Drive\".\n",
        "*   Spostate quindi la copia del file Lezione-3-Python nella cartella Python che avete appena creato.\n",
        "\n",
        "NOTA IMPORTANTE: La pagina con titolo \"Lezione-3-Python\" che vi è stata condivisa dal padlet deve essere ***CHIUSA***. Dovete tenere aperta solamente la copia che avete creato nella cartella Python altrimenti rischiate di perdere le modifiche che fate durante il laboratorio."
      ]
    },
    {
      "cell_type": "markdown",
      "metadata": {
        "id": "zTJfqbZWaKz1"
      },
      "source": [
        "## Altre impostazioni\n",
        "Andate nel menù \"Strumenti\", premete la voce \"Impostazioni\", poi cliccate sulla scheda \"Editor\" e mettete il visto sulla funzione \"Mostra numeri di riga\". Questo farà comparire i numeri di riga accanto al codice che scrivete."
      ]
    },
    {
      "cell_type": "markdown",
      "metadata": {
        "id": "M02lMo1hDi7e"
      },
      "source": [
        "# Chiamate di funzione\n",
        "\n",
        "Nella programmazione, una **funzione** è una serie di istruzioni che esegue una computazione ed è identificata da un nome. Per definire una funzione, dobbiamo specificarne il nome e scrivere la serie di istruzioni. In un secondo tempo, potete \"chiamare\" la funzione usando il nome che le avete assegnato.\n",
        "\n",
        "Abbiamo già visto esempi di **chiamata di funzione**:"
      ]
    },
    {
      "cell_type": "code",
      "metadata": {
        "id": "KioztWCcmAWo",
        "colab": {
          "base_uri": "https://localhost:8080/"
        },
        "outputId": "0b5dd06b-c827-44a7-8f9a-c6c39594bc11"
      },
      "source": [
        "type(32)"
      ],
      "execution_count": null,
      "outputs": [
        {
          "output_type": "execute_result",
          "data": {
            "text/plain": [
              "int"
            ]
          },
          "metadata": {},
          "execution_count": 1
        }
      ]
    },
    {
      "cell_type": "markdown",
      "source": [
        "Il nome di questa funzione è ``type``. L’espressione tra parentesi è l'**argomento** della funzione, e il risultato che produce è il tipo dell’argomento che abbiamo inserito. Si usa dire che una funzione “prende” o “riceve” un argomento e, una volta eseguita l'elaborazione, “ritorna” o “restituisce” un risultato. Il risultato è detto **valore di ritorno**."
      ],
      "metadata": {
        "id": "_GlyjQiB7E5n"
      }
    },
    {
      "cell_type": "markdown",
      "source": [
        "# Funzioni Matematiche\n",
        "\n",
        "Python è provvisto di un modulo matematico che comprende buona parte delle funzioni matematiche d’uso frequente. Un **modulo** è una raccolta di funzioni correlate.\n",
        "\n",
        "Prima di poter usare le funzioni contenute in un modulo, lo dobbiamo importare con un’istruzione di importazione:"
      ],
      "metadata": {
        "id": "VoMCKeAgtKwf"
      }
    },
    {
      "cell_type": "code",
      "source": [
        "import math"
      ],
      "metadata": {
        "id": "uA4sJF4ptpDl"
      },
      "execution_count": null,
      "outputs": []
    },
    {
      "cell_type": "markdown",
      "source": [
        "L'istruzione `import` crea un **oggetto modulo** chiamato `math`. Se visualizzate l’oggetto modulo, ottenete alcune informazioni a riguardo:"
      ],
      "metadata": {
        "id": "GL6fX_t2tqrJ"
      }
    },
    {
      "cell_type": "code",
      "source": [
        "math"
      ],
      "metadata": {
        "id": "iO6Kumjst2lu",
        "colab": {
          "base_uri": "https://localhost:8080/"
        },
        "outputId": "a374dbb6-cd22-4847-e92c-74fc60a6a229"
      },
      "execution_count": null,
      "outputs": [
        {
          "output_type": "execute_result",
          "data": {
            "text/plain": [
              "<module 'math' (built-in)>"
            ]
          },
          "metadata": {},
          "execution_count": 3
        }
      ]
    },
    {
      "cell_type": "markdown",
      "source": [
        "L'oggetto modulo contiene le funzioni e le variabili definite all’interno del modulo stesso. Per accedere a una funzione del modulo, dovete specificare, nell’ordine, il nome del modulo e il nome della funzione, separati da un punto. Questo formato è chiamato **notazione a punto** o *dot notation*.\n",
        "\n",
        "Usiamo la funzione `math.log10` per calcolare un rapporto segnale/rumore in decibel."
      ],
      "metadata": {
        "id": "VZRyqRdlt_5x"
      }
    },
    {
      "cell_type": "code",
      "source": [
        "potenza_segnale = 100\n",
        "potenza_rumore = 1.5\n",
        "rapporto = potenza_segnale / potenza_rumore\n",
        "decibel = 10 * math.log10(rapporto)\n",
        "print(decibel)"
      ],
      "metadata": {
        "id": "SMJWJ5lnuKMj",
        "colab": {
          "base_uri": "https://localhost:8080/"
        },
        "outputId": "7ddf898d-5d0c-4aeb-8cca-6538e8442215"
      },
      "execution_count": null,
      "outputs": [
        {
          "output_type": "stream",
          "name": "stdout",
          "text": [
            "18.23908740944319\n"
          ]
        }
      ]
    },
    {
      "cell_type": "markdown",
      "source": [
        "Come secondo esempio calcolamo il seno della variabile `radianti`. Il nome della variabile spiega già che le funzioni trigonometriche (`sin`, `cos`, `tan`, ecc.) accettano argomenti espressi in radianti. "
      ],
      "metadata": {
        "id": "BGOFRxqQvKp8"
      }
    },
    {
      "cell_type": "code",
      "source": [
        "radianti = 0.7\n",
        "altezza = math.sin(radianti)\n",
        "print(altezza)"
      ],
      "metadata": {
        "id": "qpwDIGKqvUsG",
        "colab": {
          "base_uri": "https://localhost:8080/"
        },
        "outputId": "25a4a7ad-2946-47ed-dc4e-6c8ae92fbcfe"
      },
      "execution_count": null,
      "outputs": [
        {
          "output_type": "stream",
          "name": "stdout",
          "text": [
            "0.644217687237691\n"
          ]
        }
      ]
    },
    {
      "cell_type": "markdown",
      "source": [
        "Per convertire da gradi in radianti occorre dividere per 180 e moltiplicare per π. L’espressione `math.pi` ricava la variabile `pi` dal modulo matematico. Il suo valore è un numero decimale, approssimazione di π, accurata a circa 15 cifre."
      ],
      "metadata": {
        "id": "I65HOUDWveWu"
      }
    },
    {
      "cell_type": "code",
      "source": [
        "gradi = 45\n",
        "radianti = gradi / 180 * math.pi\n",
        "altezza = math.sin(radianti)\n",
        "print(altezza)"
      ],
      "metadata": {
        "id": "aCKvY3FevhEt",
        "colab": {
          "base_uri": "https://localhost:8080/"
        },
        "outputId": "ce80b33a-a573-4ca0-8528-c0591de47377"
      },
      "execution_count": null,
      "outputs": [
        {
          "output_type": "stream",
          "name": "stdout",
          "text": [
            "0.7071067811865475\n"
          ]
        }
      ]
    },
    {
      "cell_type": "markdown",
      "source": [
        "# Composizione\n",
        "\n",
        "Finora, abbiamo considerato gli elementi di un programma -- variabili, espressioni e istruzioni -- separatamente, senza discutere di come utilizzarli insieme.\n",
        "\n",
        "Una delle caratteristiche più utili dei linguaggi di programmazione è la loro capacità di prendere dei piccoli mattoni e **comporli** tra loro. Per esempio, l’argomento di una funzione può essere un qualunque tipo di espressione, include le operazioni aritmetiche e le chiamate di funzione:"
      ],
      "metadata": {
        "id": "T60O74SgvzCt"
      }
    },
    {
      "cell_type": "code",
      "source": [
        "x = math.sin(gradi / 360.0 * 2 * math.pi)\n",
        "print(x)\n",
        "x = math.exp(math.log(x+1))\n",
        "print(x)"
      ],
      "metadata": {
        "id": "53iL95izwHtC",
        "colab": {
          "base_uri": "https://localhost:8080/"
        },
        "outputId": "e120c65e-8215-4045-a9cf-66895c179043"
      },
      "execution_count": null,
      "outputs": [
        {
          "output_type": "stream",
          "name": "stdout",
          "text": [
            "0.7071067811865475\n",
            "1.7071067811865475\n"
          ]
        }
      ]
    },
    {
      "cell_type": "markdown",
      "source": [
        "In linea generale, dovunque potete mettere un valore potete anche mettere un’espressione a piacere, con un’eccezione: il lato sinistro di un’istruzione di assegnazione deve essere un nome di variabile. Ogni altra espressione darebbe un errore di sintassi."
      ],
      "metadata": {
        "id": "q32XEO41wNbt"
      }
    },
    {
      "cell_type": "code",
      "source": [
        "ore = 2\n",
        "minuti = ore * 60                 # giusto\n",
        "# ore * 60 = minuti                 # sbagliato!"
      ],
      "metadata": {
        "id": "5DHM7PQ6wSSV"
      },
      "execution_count": null,
      "outputs": []
    },
    {
      "cell_type": "markdown",
      "source": [
        "# Aggiungere nuove funzioni\n",
        "\n",
        "Finora abbiamo usato solo funzioni che sono parte integrante di Python, ma è anche possibile crearne di nuove. Una **definizione di funzione** specifica il nome di una nuova funzione e la serie di istruzioni che viene eseguita quando la funzione viene chiamata.\n",
        "\n",
        "Esempio: funzione che stampa il ritornello di una canzone famosa."
      ],
      "metadata": {
        "id": "c1dIrWvWDSyg"
      }
    },
    {
      "cell_type": "code",
      "source": [
        "def stampa_ritornello():\n",
        "  print(\"Cerco un centro di gravità permanente\")\n",
        "  print(\"che non mi faccia mai cambiare idea sulle cose sulla gente\")"
      ],
      "metadata": {
        "id": "jxwAD10p7D0U"
      },
      "execution_count": null,
      "outputs": []
    },
    {
      "cell_type": "markdown",
      "source": [
        "`def` è una parola riservata che indica la definizione di una nuova funzione. Il nome della funzione è `stampa_brani`. Le regole per i nomi delle funzioni sono le stesse dei nomi delle variabili: \n",
        "\n",
        "* lettere, numeri e underscore (`_`) sono permessi\n",
        "* il primo carattere non può essere un numero\n",
        "\n",
        "Non si possono usare parole riservate, e bisogna evitare di avere una funzione e una variabile con lo stesso nome\n",
        "\n",
        "Le parentesi vuote dopo il nome indicano che la funzione non accetta alcun argomento.\n",
        "\n",
        "La prima riga della definizione di funzione è chiamata **intestazione**; il resto è detto **corpo**. Come nel caso di `if` e `while`, tutte le istruzioni che sono comprese nel corpo della funzione vanno riportate un TAB più a destra.\n",
        "\n",
        "Eseguendo la cella sopra non si ottiene niente in output. Questo perchè abbiamo definito la funzione, ma non l'abbiamo invocata. La definizione di una funzione crea un **oggetto funzione** che è di tipo function:"
      ],
      "metadata": {
        "id": "0TaLFZH5eHGg"
      }
    },
    {
      "cell_type": "code",
      "source": [
        "print(stampa_ritornello)\n",
        "type(stampa_ritornello)"
      ],
      "metadata": {
        "id": "d58aicmp6rP-",
        "colab": {
          "base_uri": "https://localhost:8080/"
        },
        "outputId": "2807d19a-baaf-4be3-f366-c5f4f1547231"
      },
      "execution_count": null,
      "outputs": [
        {
          "output_type": "stream",
          "name": "stdout",
          "text": [
            "<function stampa_ritornello at 0x7fcc2da61ca0>\n"
          ]
        },
        {
          "output_type": "execute_result",
          "data": {
            "text/plain": [
              "function"
            ]
          },
          "metadata": {},
          "execution_count": 11
        }
      ]
    },
    {
      "cell_type": "markdown",
      "source": [
        "Per chiamare la nuova funzione si usa la stessa sintassi che abbiamo visto per le funzioni predefinite di Python."
      ],
      "metadata": {
        "id": "YWY3ejbk7U5Y"
      }
    },
    {
      "cell_type": "code",
      "source": [
        "stampa_ritornello()"
      ],
      "metadata": {
        "id": "fRrd1jj-Hfyw",
        "colab": {
          "base_uri": "https://localhost:8080/"
        },
        "outputId": "4becf422-31e4-442d-b85b-3f6f3f1f4d88"
      },
      "execution_count": null,
      "outputs": [
        {
          "output_type": "stream",
          "name": "stdout",
          "text": [
            "Cerco un centro di gravità permanente\n",
            "che non mi faccia mai cambiare idea sulle cose sulla gente\n"
          ]
        }
      ]
    },
    {
      "cell_type": "markdown",
      "source": [
        "Una volta definita una funzione, possiamo utilizzarla all'interno di un'altra funzione. Per esempio, per ripetere due volte il ritorello possiamo scrivere una funzione ``ripeti_ritornello``."
      ],
      "metadata": {
        "id": "bIY2G0NlIbpT"
      }
    },
    {
      "cell_type": "code",
      "source": [
        "def ripeti_ritornello():\n",
        "  stampa_ritornello()\n",
        "  stampa_ritornello()\n",
        "\n",
        "# ora possiamo invocare ripeti_ritornello\n",
        "ripeti_ritornello()"
      ],
      "metadata": {
        "id": "p09RsfCKIvjJ",
        "colab": {
          "base_uri": "https://localhost:8080/"
        },
        "outputId": "c3584f5f-5e91-41ed-aac8-d8d56a02b589"
      },
      "execution_count": null,
      "outputs": [
        {
          "output_type": "stream",
          "name": "stdout",
          "text": [
            "Cerco un centro di gravità permanente\n",
            "che non mi faccia mai cambiare idea sulle cose sulla gente\n",
            "Cerco un centro di gravità permanente\n",
            "che non mi faccia mai cambiare idea sulle cose sulla gente\n"
          ]
        }
      ]
    },
    {
      "cell_type": "markdown",
      "source": [
        "**Nota:** una funzione deve essere definita prima di poterla usare: la definizione della funzione deve sempre precedere la sua chiamata. Se invochiamo una funzione prima di definirla otteniamo un messaggio d'errore."
      ],
      "metadata": {
        "id": "1Ds_5aksJIMa"
      }
    },
    {
      "cell_type": "code",
      "source": [
        "\n",
        "\n",
        "def stampa_strofa():\n",
        "  print(\"over and over again...\")\n",
        "\n",
        "stampa_strofa()"
      ],
      "metadata": {
        "id": "z1AGR1UMJ1sV",
        "colab": {
          "base_uri": "https://localhost:8080/"
        },
        "outputId": "557aaaaf-c748-4272-b41d-c8c1a592b747"
      },
      "execution_count": null,
      "outputs": [
        {
          "output_type": "stream",
          "name": "stdout",
          "text": [
            "over and over again...\n"
          ]
        }
      ]
    },
    {
      "cell_type": "markdown",
      "source": [
        "# Parametri e argomenti\n",
        "\n",
        "Alcune delle funzioni che abbiamo visto richiedono degli argomenti. Per esempio, se vogliamo sapere la lunghezza di una stringa usando la funzione `len`, dobbiamo passarle quella stringa come argomento. Alcune funzioni ricevono più di un argomento: a `replace` ne servono due, che sono la sequenza originale e la sua sostituzione.\n",
        "\n",
        "All'interno di una funzione, gli argomenti che le vengono passati sono assegnati ad altrettante variabili chiamate **parametri**. Ecco un esempio di definizione di una funzione che riceve un argomento:"
      ],
      "metadata": {
        "id": "DWMGiyICfjpo"
      }
    },
    {
      "cell_type": "code",
      "source": [
        "def stampa2volte(testo):\n",
        "  print(testo)\n",
        "  print(testo)"
      ],
      "metadata": {
        "id": "h7Di48j4gS-k"
      },
      "execution_count": null,
      "outputs": []
    },
    {
      "cell_type": "markdown",
      "source": [
        "Questa funzione assegna l’argomento ricevuto ad un parametro chiamato ``testo``. Quando la funzione viene chiamata, stampa il valore del parametro (qualunque esso sia) due volte."
      ],
      "metadata": {
        "id": "cvBfLjY6gaOo"
      }
    },
    {
      "cell_type": "code",
      "source": [
        "stampa2volte('Spam')          # il parametro può essere una stringa\n",
        "stampa2volte(35)              # un intero\n",
        "stampa2volte(len('Spam'))     # il valore di ritorno di una funzione\n",
        "stampa2volte(37/2 - 1)        # una espressione\n",
        "strofa = \"Cuccurucucù paloma\"\n",
        "stampa2volte(strofa)          # una variabile\n",
        "                              # e molto altro ancora ...."
      ],
      "metadata": {
        "id": "ANMnfiZDg11M",
        "colab": {
          "base_uri": "https://localhost:8080/"
        },
        "outputId": "9cba235e-682d-4856-8268-a49acc625ab5"
      },
      "execution_count": null,
      "outputs": [
        {
          "output_type": "stream",
          "name": "stdout",
          "text": [
            "Spam\n",
            "Spam\n",
            "35\n",
            "35\n",
            "4\n",
            "4\n",
            "17.5\n",
            "17.5\n",
            "Cuccurucucù paloma\n",
            "Cuccurucucù paloma\n"
          ]
        }
      ]
    },
    {
      "cell_type": "markdown",
      "source": [
        "## Variabili e parametri sono locali\n",
        "\n",
        "Quando create una variabile in una funzione, essa è locale, cioè esiste solo all'interno della funzione. Per esempio, questa funzione prende due argomenti, li concatena e poi stampa il risultato per due volte:"
      ],
      "metadata": {
        "id": "KZQsO0XjhCgn"
      }
    },
    {
      "cell_type": "code",
      "source": [
        "def cat2volte(parte1, parte2):\n",
        "  cat = parte1 + parte2\n",
        "  stampa2volte(cat)\n",
        "\n",
        "riga1 = 'E gira tutto intorno alla stanza '\n",
        "riga2 = 'mentre si danza'\n",
        "cat2volte(riga1, riga2)"
      ],
      "metadata": {
        "id": "Wzv63vc9QOWt",
        "colab": {
          "base_uri": "https://localhost:8080/"
        },
        "outputId": "6c31c7c4-96fb-4937-ac51-674ffdd22506"
      },
      "execution_count": null,
      "outputs": [
        {
          "output_type": "stream",
          "name": "stdout",
          "text": [
            "E gira tutto intorno alla stanza mentre si danza\n",
            "E gira tutto intorno alla stanza mentre si danza\n"
          ]
        }
      ]
    },
    {
      "cell_type": "markdown",
      "source": [
        "Quando `cat2volte` termina, la variabile `cat` viene distrutta. Se provassimo a stamparla, otterremmo infatti un messaggio d’errore. Anche i parametri sono locali: esternamente alla funzione `cat2volte`, non esiste nulla di nome `parte1` o `parte2`."
      ],
      "metadata": {
        "id": "X7p99JPlRw6o"
      }
    },
    {
      "cell_type": "code",
      "source": [
        "# print(cat)"
      ],
      "metadata": {
        "id": "tCZi4EyfhWF_"
      },
      "execution_count": null,
      "outputs": []
    },
    {
      "cell_type": "markdown",
      "source": [
        "# Funzioni produttive e funzioni vuote\n",
        "\n",
        "Alcune delle funzioni che abbiamo usato restituiscono dei risultati: le chiameremo **funzioni “produttive”**. Altre funzioni, come `stampa2volte`, eseguono un'azione ma non restituiscono alcun valore. Le chiameremo **funzioni “vuote”**.\n",
        "\n",
        "Quando chiamate una funzione produttiva, quasi sempre è per fare qualcosa di utile con il suo risultato, tipo assegnarlo a una variabile o usarlo come parte di un'espressione."
      ],
      "metadata": {
        "id": "lISk5uYlT6xe"
      }
    },
    {
      "cell_type": "code",
      "source": [
        "x = math.cos(radianti)\n",
        "aureo = (math.sqrt(5) + 1) / 2\n",
        "print(aureo)"
      ],
      "metadata": {
        "id": "ytmcj5e9VTHK",
        "colab": {
          "base_uri": "https://localhost:8080/"
        },
        "outputId": "2ca3b4e9-1a33-4790-e556-254d08a15552"
      },
      "execution_count": null,
      "outputs": [
        {
          "output_type": "stream",
          "name": "stdout",
          "text": [
            "1.618033988749895\n"
          ]
        }
      ]
    },
    {
      "cell_type": "markdown",
      "source": [
        "Se invochiamo una funzione all'interno di una cella, Colab ne mostra il risultato:"
      ],
      "metadata": {
        "id": "YajZ65gmWQH7"
      }
    },
    {
      "cell_type": "code",
      "source": [
        "math.sqrt(3)"
      ],
      "metadata": {
        "colab": {
          "base_uri": "https://localhost:8080/"
        },
        "id": "PdpgSdwHWPgu",
        "outputId": "72032953-8e3b-41b9-d704-971e48063733"
      },
      "execution_count": null,
      "outputs": [
        {
          "output_type": "execute_result",
          "data": {
            "text/plain": [
              "1.7320508075688772"
            ]
          },
          "metadata": {},
          "execution_count": 24
        }
      ]
    },
    {
      "cell_type": "markdown",
      "source": [
        "Ma se chiamate una funzione produttiva così come è, il valore di ritorno è perso!"
      ],
      "metadata": {
        "id": "vV8rr9cDWgBu"
      }
    },
    {
      "cell_type": "markdown",
      "source": [
        "Le funzioni vuote possono visualizzare qualcosa sullo schermo o avere qualche altro effetto, ma non restituiscono un valore. Se provate comunque ad assegnare il risultato ad una variabile, ottenete un valore speciale chiamato `None` (nulla)."
      ],
      "metadata": {
        "id": "9Oz5UnoLXAxz"
      }
    },
    {
      "cell_type": "code",
      "source": [
        "risultato = stampa2volte(\"Bing!\")\n",
        "print(risultato)"
      ],
      "metadata": {
        "colab": {
          "base_uri": "https://localhost:8080/"
        },
        "id": "OvREKqc8XLxJ",
        "outputId": "341c1135-5abe-44ff-d83f-954ac2dff5e8"
      },
      "execution_count": null,
      "outputs": [
        {
          "output_type": "stream",
          "name": "stdout",
          "text": [
            "Bing!\n",
            "Bing!\n",
            "None\n"
          ]
        }
      ]
    },
    {
      "cell_type": "markdown",
      "source": [
        "Le funzioni che abbiamo scritto finora sono vuote. Cominceremo a scriverne di produttive nelle prossime lezioni."
      ],
      "metadata": {
        "id": "ly6uffuzYG2J"
      }
    }
  ]
}