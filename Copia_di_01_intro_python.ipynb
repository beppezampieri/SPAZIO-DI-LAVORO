{
  "cells": [
    {
      "cell_type": "markdown",
      "metadata": {
        "id": "view-in-github",
        "colab_type": "text"
      },
      "source": [
        "<a href=\"https://colab.research.google.com/github/beppezampieri/SPAZIO-DI-LAVORO/blob/master/Copia_di_01_intro_python.ipynb\" target=\"_parent\"><img src=\"https://colab.research.google.com/assets/colab-badge.svg\" alt=\"Open In Colab\"/></a>"
      ]
    },
    {
      "cell_type": "markdown",
      "metadata": {
        "id": "9ZRk-WP2hcbE"
      },
      "source": [
        "# Analisi e Gestione dei Dati in Python\n",
        "\n",
        "# Parte 1: Python Basics\n",
        "\n",
        "### Mara Pistellato (mara.pistellato@unive.it)\n",
        "#### DAIS, Ca'Foscari University of Venice\n"
      ]
    },
    {
      "cell_type": "markdown",
      "metadata": {
        "id": "7oTnahKEhjjk"
      },
      "source": [
        "# Google Colab & Python notebooks\n",
        "\n",
        "Google Colab è uno strumento online che permette di gestire Python notebooks come questo.\n",
        "\n",
        "Le componenti base che formano un notebook sono le **celle**.\n",
        "Ogni cella è una sezione di documento e può mostrare  diversi tipi di contenuto. Possiamo distinguere tra:\n",
        "\n",
        "- **Celle di codice**: contengono codice Python che può essere eseguito. Il pulsante **\"+ Code\"** (in alto sotto al menù) permette di aggiungere una nuova cella contenente codice Python.\n",
        "- **Celle di testo**: contengono testo in formato markdown, utile per descrivere e integrare le parti di codice (quello che state leggendo in questo momento). È possibile aggiungere una nuova casella contenente testo attraverso il pulsante **\"+ Text\"**\n",
        "\n",
        "Selezionando una cella appare un menù (in alto a destra della cella stessa).\n",
        "I pulsanti **freccia su/giu** permettono di spostare la cella. Lo stesso menù include altre operazioni sulle celle (copia, elimina, ecc).\n",
        "\n",
        "---\n",
        "\n",
        "### Celle di testo: Markdown\n",
        "Markdown è un linguaggio di markup che definisce un semplice stile di formattazione del testo (https://it.wikipedia.org/wiki/Markdown). Per modificare il testo originale è sufficiente fare doppio click sulla cella o selezionarla e premere invio. Per visualizzare il testo formattato è sufficiente \"eseguire\" la cella di testo (ctrl+invio) o selezionare un'altra cella.\n",
        "\n",
        "---\n",
        "\n",
        "### Eseguire codice Python\n",
        "- Per eseguire del codice Python presente all'interno di una cella, è sufficiente selezionarla e cliccare il pulsante **Play/run** (nella parte sinistra della cella) o la combinazione di tasti **ctrl+enter**.\n",
        "- L'eventuale output (come il print su standard output o grafici) sarà visualizzato sotto la cella.\n",
        "- Le variabili definite nelle celle esistono globalmente in tutto il notebook, a meno che l'ambiente non venga riavviato (\"restart kernel\")\n",
        "\n",
        "---\n",
        "\n",
        "### Shortcuts\n",
        "- **ctrl+enter** esegue la cella selezionata.\n",
        "- **shift+enter** esegue la cella selezionata e seleziona la successiva.\n",
        "- **ctrl+M B** inserisce una cella sottostante.\n",
        "- **ctrl+M M** rende la cella una cella di testo.\n",
        "- **ctrl+M D** elimina la cella."
      ]
    },
    {
      "cell_type": "code",
      "execution_count": null,
      "metadata": {
        "id": "ZTCFBB_Uhebj"
      },
      "outputs": [],
      "source": [
        "# this is a comment in a code cell\n",
        "print('Hello world!')"
      ]
    },
    {
      "cell_type": "markdown",
      "metadata": {
        "id": "RqCB9RXanabr"
      },
      "source": [
        "# Pyhton Basics"
      ]
    },
    {
      "cell_type": "markdown",
      "metadata": {
        "id": "OY6mtipmo34r"
      },
      "source": [
        "## Variabili e Tipi\n",
        "\n",
        "- Python è un linguaggio **dinamicamente tipato**: ogni oggetto è associato ad un tipo, ma le variabili usate possono assumere tipi diversi durante l'esecuzione del programma. Questo non accade per altri inguaggi di programmazione, dove il tipo della variabile è dichiarato all'inizio del programma e non cambia.\n",
        "- Ogni **variabile** in Python può essere vista come **un'etichetta**, ovvero un nome all'interno del programma che viene associato a dei dati in memoria, i quali hanno un tipo.\n",
        "\n",
        "Alcuni tipi di dati con cui lavoreremo sono:\n",
        "- ```bool```\n",
        "- ```int ```\n",
        "- ```float```\n",
        "- ```string```\n",
        "- ```list```\n",
        "\n",
        "Lista completa che descrive i tipi di dato definiti dal linguaggio: https://docs.python.org/3/library/stdtypes.html\n",
        "\n",
        "Inoltre:\n",
        "\n",
        "- Il tipo di un'espressione o di un variabile può essere stampato attraverso la funzione ```type()```\n",
        "- La funzione ```len()``` ritorna la lunghezza di diversi tipi di oggetti come stringhe o liste.\n",
        "- Le funzioni built-in definite dal linguaggio sono elencate qua: https://docs.python.org/3/library/functions.html"
      ]
    },
    {
      "cell_type": "code",
      "execution_count": null,
      "metadata": {
        "id": "eVWPIhKNrIpJ"
      },
      "outputs": [],
      "source": [
        "# type() function\n",
        "print(type(True))\n",
        "print(type(2))\n",
        "print(type(4.5))\n",
        "print(type('Hello'))\n",
        "print(type([0,1,2,3,4]))"
      ]
    },
    {
      "cell_type": "code",
      "execution_count": null,
      "metadata": {
        "id": "1oQXnX_L9-oe"
      },
      "outputs": [],
      "source": [
        "# len() function\n",
        "print(len(\"Ciao\"))\n",
        "print(len([0,1,2,3,4]))"
      ]
    },
    {
      "cell_type": "code",
      "execution_count": null,
      "metadata": {
        "id": "1Als23wd-N-A"
      },
      "outputs": [],
      "source": [
        "# definiamo due variabili di tipo float\n",
        "n = 17.0\n",
        "pi = 3.141592653589793\n",
        "print('n ->', n, type(n))\n",
        "print(pi, '--->', type(pi))\n",
        "\n",
        "# assegnamo la variabile n ad un tipo diverso\n",
        "n = 'Hello!'\n",
        "print('n->', n, type(n))"
      ]
    },
    {
      "cell_type": "markdown",
      "metadata": {
        "id": "Hhsgc0orruRQ"
      },
      "source": [
        "## Conditionals\n",
        "\n",
        "- Come per altri linguaggi, i costrutti `if` e `if-else` eseguono diverse porzioni di codice a seconda del valore di un'espressione booleana.\n",
        "- Un'espressione booleana ritorna ```True``` o ```False``` (tipo ```bool```, ovvero un valore binario che può essere 0 o 1).\n",
        "\n",
        "**Indentazioni**\n",
        "\n",
        "- In Pyhton i blocchi di codice sono identificati come delle righe **indentate ed allineate allo stesso livello**. Questo è diverso da altri linguaggi, dove i blocchi di codice sono racchiusi tra parentesi graffe <tt>{ ... }</tt> o specifiche parole chiave come <tt>begin ... end</tt>.\n",
        "- Per convenzione, ogni livello di indentazione corrisponde a quattro spazi: l'editor indenta in maniera automatica ma è necessario comunque prestare attenzione per evitare possibili errori.\n",
        "\n",
        "### `if` syntax\n",
        "\n",
        "```python\n",
        "if x > 0:\n",
        "    print('the condition is True')\n",
        "    print('x is positive')\n",
        "```\n",
        "\n",
        "### `if-else` syntax\n",
        "\n",
        "```python\n",
        "if x % 2 == 0:\n",
        "    print('the first branch was taken.')\n",
        "    print('x is even')\n",
        "else:\n",
        "    print('x is odd')\n",
        "```        \n",
        "\n",
        "### Operatori Relazionali\n",
        "\n",
        "```   \n",
        "     x == y           # test if x is equal to y\n",
        "     x != y           # test if x is not equal to y\n",
        "     x > y            # test if x is greater than y\n",
        "     x < y            # test if x is less than y\n",
        "     x >= y           # test if x is greater than or equal to y\n",
        "     x <= y           # test if x is less than or equal to y\n",
        "```\n",
        "\n",
        "La documentazione Python definisce le relazioni di precedenza tra gli operatori [qui](https://docs.python.org/3/reference/expressions.html#operator-precedence).\n",
        "\n"
      ]
    },
    {
      "cell_type": "code",
      "execution_count": null,
      "metadata": {
        "id": "G5feDwrl2sQp"
      },
      "outputs": [],
      "source": [
        "x = 17\n",
        "\n",
        "if x%2 == 0:\n",
        "  print(x,'is even')\n",
        "else:\n",
        "  print(x,'is odd')"
      ]
    },
    {
      "cell_type": "markdown",
      "metadata": {
        "id": "qaBOB5i3gE2k"
      },
      "source": [
        "## Liste\n",
        "\n",
        "Python definisce il tipo di dato **list** (https://docs.python.org/3/tutorial/datastructures.html#more-on-lists).\n",
        "- Una lista è una sequenza di valori eterogenei: possiamo infatti avere tipi diversi all'interno della stessa lista.\n",
        "\n",
        "```python\n",
        "     [10, 15, 2]\n",
        "     [\"Jan\", \"Feb\", \"Mar\", \"Apr\", \"May\", \"Jun\", \"Jul\", \"Aug\", \"Sep\", \"Oct\", \"Nov\", \"Dec\"]\n",
        "     ['spam', 2.0, 5, [10, 20]]\n",
        "```"
      ]
    },
    {
      "cell_type": "code",
      "execution_count": null,
      "metadata": {
        "id": "lc94-R_jhIWk"
      },
      "outputs": [],
      "source": [
        "empty_list = [] # lista vuota\n",
        "cheeses = ['Parmigiano', 'Pecorino', 'Piave']\n",
        "numbers = [123, 42]\n",
        "my_list = [4.2, \"Hello\", [1,2,3]]\n",
        "\n",
        "print(cheeses, numbers, empty_list)\n",
        "print(len(empty_list))\n",
        "print(len(cheeses))\n",
        "print(len(numbers))"
      ]
    },
    {
      "cell_type": "markdown",
      "metadata": {
        "id": "P0QlGQYkhwud"
      },
      "source": [
        "- Per accedere agli elementi di una lista usiamo le parentesi quadre (gli indici partono da zero).\n",
        "- Gli indici possono anche essere negativi: -1 rappresenta l'ultimo elemento della lista, -2 il penultimo e così via.\n",
        "\n",
        "| posizione nella lista | 1° | 2° | 3° | 4° | ... | penultimo | ultimo |\n",
        "|---|---|---|---|---|---|---|---|\n",
        "| indici positivi | 0 | 1 | 2 | 3 | ... | len(var) -2 | len(var) -1 |\n",
        "| indici negativi |-len(var) | -(len(var)-1) | -(len(var) -2) | -len(var)+3 | ... | -2 | -1 |"
      ]
    },
    {
      "cell_type": "code",
      "execution_count": null,
      "metadata": {
        "id": "Cj9_0O7sq-ys"
      },
      "outputs": [],
      "source": [
        "my_lst = [7,10,14,20,27,30,31,55,60]\n",
        "print(my_lst[3])\n",
        "print(my_lst[-3])\n",
        "\n",
        "# modifichiamo l'elemento nella seconda posizione\n",
        "my_lst[1] = 33 \n",
        "print(\"After the change: \", my_lst)"
      ]
    },
    {
      "cell_type": "markdown",
      "metadata": {
        "id": "QzT3oVrGpvSF"
      },
      "source": [
        "Un altro modo per accedere agli elementi della lista è lo *slicing*:\n",
        "\n",
        "- La notazione `[n:m]` restituisce gli indici da n a m-1 (m escluso)\n",
        "- Omettendo il primo indice prima dei due punti (`[:m]`) gli indici iniziano dallo zero\n",
        "- Omettendo il secondo indice dopo i due punti (`[n:]`) gli indici finiranno in corrispondenza dell'ultimo elemento (len(lista)-1)\n",
        "- Un terzo valore (`[n:m:s]`) aggiunge uno *step* s tra indici successivi (se omesso è 1)\n"
      ]
    },
    {
      "cell_type": "code",
      "execution_count": null,
      "metadata": {
        "id": "qaKBBOVqrbNi"
      },
      "outputs": [],
      "source": [
        "my_lst = [15, 93, 44.1, 72, 97.65, 12, 48.1, 99.2, 5.3]\n",
        "print(my_lst[1:3])\n",
        "print(my_lst[:5])\n",
        "print(my_lst[:5:2])\n",
        "\n",
        "\n",
        "print('[1:1]: ', my_lst[1:1]) # empty list!\n",
        "\n",
        "# indici negativi\n",
        "print('[-1]:', my_lst[-1])    # last char\n",
        "print('[-9:-6]:', my_lst[-9:-6]) # it works, as delta is -6-(-9) = 3, \n",
        "                                # so starts from -9 and prints 3 chars: [-9, -8, -7] (extreme -6 excluded)\n",
        "print('[-6:-9]:', my_lst[-6:-9]) # does not work, -9-(-6) = -3: negative delta\n"
      ]
    },
    {
      "cell_type": "markdown",
      "metadata": {
        "id": "j8NdESSkrbu_"
      },
      "source": [
        "- Aggiungere e modificare elementi: il metodo append consente di aggiungere elementi in coda alla lista"
      ]
    },
    {
      "cell_type": "code",
      "execution_count": null,
      "metadata": {
        "id": "aPRYodhqiBbi"
      },
      "outputs": [],
      "source": [
        "t =  ['a', 'b', 'c']\n",
        "\n",
        "# append: aggiungo un elemento alla fine\n",
        "t.append('d')\n",
        "print(t)\n",
        "\n",
        "# concatenazione di liste\n",
        "t = t + ['k', 'x']\n",
        "print(t)\n",
        "t.append(\"ciao\")\n",
        "t.append(1)\n",
        "print(t)"
      ]
    },
    {
      "cell_type": "markdown",
      "metadata": {
        "id": "nod8siMelbLh"
      },
      "source": [
        "- Ordinamento: per ordinare una lista, i suoi elementi devono essere dello stesso tipo. Ci sono due metodi principali per odinare una lista:\n",
        "    - sort() metodo che ordina gli elementi della lista in-place\n",
        "    - sorted() funzione che ritorna una nuova lista ordinata, non modifica quella originale"
      ]
    },
    {
      "cell_type": "code",
      "execution_count": null,
      "metadata": {
        "id": "SSEu75OGlMzk"
      },
      "outputs": [],
      "source": [
        "s = [\"Jan\", \"Feb\", \"Mar\", \"Apr\", \"May\", \"Jun\", \"Jul\", \"Aug\", \"Sep\", \"Oct\", \"Nov\", \"Dec\"] # stringhe\n",
        "#s = [1, 45, 2, 17.1]   # valori numerici\n",
        "\n",
        "# sorted() è una funzione che ritorna una nuova lista ordinata, non modifica quella originale\n",
        "print(sorted(s))  \n",
        "print(s)\n",
        "\n",
        "# sort è un metodo che ordina gli elementi di s in-place, non restituisce una nuova lista\n",
        "s.sort()\n",
        "print(s) \n",
        "\n",
        "# stampa None, perchè sort() non ritorna un valore!\n",
        "print(s.sort())   "
      ]
    },
    {
      "cell_type": "markdown",
      "metadata": {
        "id": "EvGL3RsIwHd0"
      },
      "source": [
        "## Ciclo `for`\n",
        "\n",
        "La sintassi generica per il <tt>for</tt> loop è\n",
        "  ```python\n",
        "  for <var> in <list>:\n",
        "      <statement>\n",
        "      ....\n",
        "      <statement>\n",
        "  ```\n",
        "\n",
        "\n",
        "- Il ciclo `for` itera su tutti gli oggetti contenuti in una certa collezione (oggetto iterabile)\n",
        "- Per ogni elemento, esegue il blocco di codice (indentato) al suo interno.\n"
      ]
    },
    {
      "cell_type": "code",
      "execution_count": null,
      "metadata": {
        "id": "c0N4-iWeCCDG"
      },
      "outputs": [],
      "source": [
        "# iterare su una lista generica\n",
        "names =  ['Mara', 'Emma', 'Giada', 'Silvia']\n",
        "\n",
        "for n in names:\n",
        "    print(\"Hello\", n, \"!\")"
      ]
    },
    {
      "cell_type": "code",
      "execution_count": null,
      "metadata": {
        "id": "Eyby_LFbQSr8"
      },
      "outputs": [],
      "source": [
        "# iterare su valori: stampo gli interi da 0 a 4\n",
        "for i in range(5):\n",
        "  print(i)"
      ]
    },
    {
      "cell_type": "markdown",
      "metadata": {
        "id": "VVDP7lRtP_ac"
      },
      "source": [
        "La funzione range() genera un oggetto iterabile che itera sugli interi da 0 a 5 (non incluso). Può essere chiamata in diversi modi:\n",
        "- range(N): un argomento, gli indici partono da zero a N-1 (con step = 1)\n",
        "- range(M,N): da M a N-1 (con step = 1)\n",
        "- range(M,N,S): da M a N-1, con step = S"
      ]
    },
    {
      "cell_type": "code",
      "execution_count": null,
      "metadata": {
        "id": "A51SK48iQnA1"
      },
      "outputs": [],
      "source": [
        "# un argomento: da zero a N-1\n",
        "print(list(range(10)))\n",
        "\n",
        "# due argomenti: da M an N-1\n",
        "print(list(range(3,10)))\n",
        "\n",
        "# tre argomenti: da M an N-1 con step S\n",
        "print(list(range(3,10,2)))\n",
        "\n",
        "# con valori negativi\n",
        "print(list(range(-10,-3)))\n",
        "\n",
        "# ordine decrescente con step negativo\n",
        "print(list(range(10,0, -1)))"
      ]
    },
    {
      "cell_type": "markdown",
      "metadata": {
        "id": "xk_1zOFYHJkc"
      },
      "source": [
        "### List Comprehension\n",
        "\n",
        "Python supporta un costrutto chiamato [list comprehensions](https://docs.python.org/3.8/tutorial/datastructures.html#list-comprehensions), che può essere usato per costruire liste in maniera rapida e simile alla notazione matematica di insiemi finiti:\n",
        "\n",
        "$S = \\{x^2 \\mid x \\in \\{0, \\ldots, 9\\}\\}$\n",
        "\n",
        "$V = \\{2^i \\mid i \\in \\{1, \\ldots, 12\\}\\}$ \n",
        "\n",
        "$M = \\{x \\mid x \\in S \\wedge x\\ \\text{is even}\\}$\n",
        "\n",
        "In Python:\n",
        "\n",
        "```python\n",
        "S = [x**2 for x in range(10)]\n",
        "V = [2**(i+1) for i in range(12)]\n",
        "M = [x for x in S if x % 2 == 0]\n",
        "```\n",
        "\n",
        "Le list comprehensions offrono una modo più compatto per creare una lista a partire da una struttura già esistente.\n",
        "Per esempio, la lista ```S``` avrebbe potuto essere creata con il seguente codice:\n",
        "\n",
        "```python\n",
        "S = []\n",
        "for i in range(10):\n",
        "    S.append(i**2)\n",
        "```"
      ]
    },
    {
      "cell_type": "code",
      "execution_count": null,
      "metadata": {
        "id": "tHqmVu2aiuKD"
      },
      "outputs": [],
      "source": [
        "S = [x**2 for x in range(10)]\n",
        "V = [2**(i+1) for i in range(12)]\n",
        "M = [x for x in S if x % 2 == 0]\n",
        "\n",
        "print(\"S:\\n\", S)\n",
        "print(\"V:\\n\", V)\n",
        "print(\"M:\\n\", M)\n",
        "\n",
        "# iteriamo su una lista senza nome\n",
        "for i in [x**2 for x in range(10)]: \n",
        "    print(i)"
      ]
    },
    {
      "cell_type": "markdown",
      "metadata": {
        "id": "0nZLB5jZCCDI"
      },
      "source": [
        "## Dizionari\n",
        "\n",
        "- Struttura dati che contiene coppie (chiave, valore): https://docs.python.org/3/library/stdtypes.html#dict\n",
        "- Iterabile con un for loop"
      ]
    },
    {
      "cell_type": "code",
      "execution_count": null,
      "metadata": {
        "id": "7fzXoOBUCCDI"
      },
      "outputs": [],
      "source": [
        "my_dict = {\n",
        "  \"brand\": \"Ford\",\n",
        "  \"model\": \"Mustang\",\n",
        "  \"year\": 1964\n",
        "}\n",
        "print(my_dict)\n",
        "print(type(my_dict))\n",
        "\n",
        "print(\"Model:\", my_dict[\"model\"])\n",
        "\n",
        "# il metodo keys() ritorna la lista delle chiavi\n",
        "print(my_dict.keys())\n",
        "\n",
        "# il metodo values() ritorna la lista dei valori\n",
        "print(my_dict.values())\n",
        "\n",
        "# il metodo items() ritorna una lista di coppie (chiave,valore)\n",
        "print(my_dict.items())"
      ]
    },
    {
      "cell_type": "code",
      "execution_count": null,
      "metadata": {
        "id": "elsy6rG4CCDI"
      },
      "outputs": [],
      "source": [
        "capital_city = {\n",
        "    \"Spain\": \"Madrid\",\n",
        "    \"Nepal\": \"Kathmandu\",\n",
        "    \"Italy\": \"Rome\",\n",
        "    \"England\": \"London\",\n",
        "    \"France\": \"Paris\"}\n",
        "\n",
        "# add one element\n",
        "capital_city[\"Japan\"] = \"Tokyo\"\n",
        "\n",
        "for k,v in capital_city.items():\n",
        "    print(\"The capital of\", k, \"is\", v)"
      ]
    },
    {
      "cell_type": "markdown",
      "metadata": {
        "id": "vvctdAMXf7BH"
      },
      "source": [
        "## Funzioni\n",
        "\n",
        "La sintassi per definire una funzione è la seguente:\n",
        "\n",
        "```python\n",
        "        def name_of_function([<comma-separated parameters>]):  # the list can be empty\n",
        "            < indented block of statements>\n",
        "```\n",
        "\n",
        "Per invocare la funzione:\n",
        "\n",
        "```python\n",
        "        name_of_function([<comma-separated arguments>])        # function call\n",
        "```\n"
      ]
    },
    {
      "cell_type": "code",
      "execution_count": null,
      "metadata": {
        "id": "ZXdK9QHlTcJB"
      },
      "outputs": [],
      "source": [
        "def print_twice(word1, word2):\n",
        "    print(word1, word2)\n",
        "    print(word1, word2)\n",
        "\n",
        "print_twice('Hello', 'world')"
      ]
    },
    {
      "cell_type": "markdown",
      "metadata": {
        "id": "K45IntJqTcq7"
      },
      "source": [
        "- Gli argomenti (parametri della funzione) possono essere associati ad un nome (*named parameters*) ed avere un valore di default.\n",
        "- I parametri con nome devono essere inseriti dopo tutti i parametri senza nome:"
      ]
    },
    {
      "cell_type": "code",
      "execution_count": null,
      "metadata": {
        "id": "zJUSmK6BTnPG"
      },
      "outputs": [],
      "source": [
        "def print_greet(str1, name='Mara, ', str2='How are you?'):\n",
        "    print(str1, name, str2)\n",
        "\n",
        "print_greet('Hello', name=\"Giovanni!\", str2='How old are you?')\n",
        "print_greet('Hello', str2=\"Giovanni!\")\n",
        "print_greet('Hello', name=\"Marco\")\n",
        "print_greet('Hello')\n",
        "print_greet('Ciao')"
      ]
    },
    {
      "cell_type": "markdown",
      "metadata": {
        "id": "xP7jvmAlpzjb"
      },
      "source": [
        "I parametri ed i nomi delle variabili definite all'interno della funzione sono locali.\n",
        "\n",
        "- Quando viene creata una variabile dentro alla funzione, questa smette di esistere una volta che il codice all'interno alla funzione è stato eseguito e la funzione ritorna.\n",
        "- Anche i parametri della funzione sono variabili locali e non accessibili all'esterno\n"
      ]
    },
    {
      "cell_type": "code",
      "execution_count": null,
      "metadata": {
        "id": "Y7wKmHWeqqD9"
      },
      "outputs": [],
      "source": [
        "def foo(val):\n",
        "  incr = 12\n",
        "  a = 10\n",
        "  val = val + incr + 10\n",
        "  print(val)\n",
        "\n",
        "\n",
        "a = 20\n",
        "val = 10\n",
        "foo(8) # stampa 8+12+10\n",
        "\n",
        "print('a = ',a) # a vale ancora 20 (siamo all'esterno della funzione)\n",
        "#print(incr) # errore: incr è definito solo dentro la funzione \n",
        "print('val = ',val)\n"
      ]
    },
    {
      "cell_type": "markdown",
      "metadata": {
        "id": "1ecslpnmCCDK"
      },
      "source": [
        "## Lambda Functions\n",
        "\n",
        "- In Python possiamo definire delle funzioni anonime attraverso le lambda functions.\n",
        "- Una lambda function può avere un numero qualsiasi di parametri ma è composta da un'unica espressione"
      ]
    },
    {
      "cell_type": "code",
      "execution_count": null,
      "metadata": {
        "id": "z_FCyxVACCDK"
      },
      "outputs": [],
      "source": [
        "# definisco una funzione x che somma due numeri\n",
        "x = lambda a, b : a * b\n",
        "print(x(5, 6))"
      ]
    },
    {
      "cell_type": "markdown",
      "metadata": {
        "id": "rEmg6kuvCCDK"
      },
      "source": [
        "- La funzione filter (https://docs.python.org/3/library/functions.html#filter) prende in input una funzione ed un oggetto iterabile (lista, dizionario, ...)\n",
        "- Restituisce solo gli elementi per cui la funzione dà True\n",
        "- La funzione può essere definita utilizzando una lambda"
      ]
    },
    {
      "cell_type": "code",
      "execution_count": null,
      "metadata": {
        "id": "MseF9qRKCCDK"
      },
      "outputs": [],
      "source": [
        "# given a list of numbers, find numbers divisible  by 13\n",
        "my_list = [12, 65, 54, 39, 102, 339, 221, 50, 70 ]\n",
        "  \n",
        "# use anonymous function to filter if divisible or not\n",
        "result = list(filter(lambda x: (x % 13 == 0), my_list)) \n",
        "print(result) "
      ]
    },
    {
      "cell_type": "markdown",
      "metadata": {
        "id": "zOpezlmrCCDL"
      },
      "source": [
        "## Files\n"
      ]
    },
    {
      "cell_type": "code",
      "execution_count": null,
      "metadata": {
        "id": "inuA_0RVCCDL"
      },
      "outputs": [],
      "source": [
        "with open('files/abc.txt') as f:\n",
        "    for line in f:\n",
        "        print(line)"
      ]
    },
    {
      "cell_type": "code",
      "execution_count": null,
      "metadata": {
        "id": "jkvvuTirCCDL"
      },
      "outputs": [],
      "source": [
        "# read the first n lines of a file\n",
        "def read_nlines(fname, nlines):\n",
        "    \n",
        "    counter = 0\n",
        "    with open(fname) as f:\n",
        "        for line in f:\n",
        "            print(\"Line %d: %s\"%(counter,line))\n",
        "            counter += 1\n",
        "            if counter >= nlines:\n",
        "                break\n",
        "\n",
        "read_nlines('files/abc.txt', 2)"
      ]
    },
    {
      "cell_type": "markdown",
      "metadata": {
        "id": "a5sqcMxDCCDL"
      },
      "source": [
        "### csv files\n"
      ]
    },
    {
      "cell_type": "code",
      "execution_count": null,
      "metadata": {
        "id": "jobuBrV3CCDM"
      },
      "outputs": [],
      "source": [
        "# read each row from a given csv file and print a list of strings\n",
        "import csv\n",
        "with open('files/departments.csv', newline='') as csvfile:\n",
        "    data = csv.reader(csvfile)\n",
        "    for row in data:\n",
        "        print(row)"
      ]
    },
    {
      "cell_type": "markdown",
      "metadata": {
        "id": "iRiUSee2CCDM"
      },
      "source": [
        "- read a given CSV file as a dictionary"
      ]
    },
    {
      "cell_type": "code",
      "execution_count": null,
      "metadata": {
        "id": "KuiwZT7nCCDM"
      },
      "outputs": [],
      "source": [
        "# Create an object that operates like a regular reader but maps the \n",
        "# information in each row to a dict whose keys are given by the optional fieldnames parameter.\n",
        "import csv\n",
        "\n",
        "with open(\"files/departments.csv\") as csvfile:\n",
        "    data = csv.DictReader(csvfile)\n",
        "\n",
        "    fields = data.fieldnames # list with the column names\n",
        "    #print(data.fieldnames)\n",
        "\n",
        "    for row in data:\n",
        "        #print(row) # row is a dictionary\n",
        "        print(row[fields[1]])"
      ]
    },
    {
      "cell_type": "markdown",
      "metadata": {
        "id": "QC77xBqeCCDM"
      },
      "source": []
    }
  ],
  "metadata": {
    "colab": {
      "provenance": [],
      "toc_visible": true,
      "include_colab_link": true
    },
    "kernelspec": {
      "display_name": "base",
      "language": "python",
      "name": "python3"
    },
    "language_info": {
      "codemirror_mode": {
        "name": "ipython",
        "version": 3
      },
      "file_extension": ".py",
      "mimetype": "text/x-python",
      "name": "python",
      "nbconvert_exporter": "python",
      "pygments_lexer": "ipython3",
      "version": "3.8.5"
    },
    "vscode": {
      "interpreter": {
        "hash": "40d3a090f54c6569ab1632332b64b2c03c39dcf918b08424e98f38b5ae0af88f"
      }
    }
  },
  "nbformat": 4,
  "nbformat_minor": 0
}