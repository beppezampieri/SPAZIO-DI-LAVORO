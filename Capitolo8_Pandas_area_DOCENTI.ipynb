{
 "cells": [
  {
   "cell_type": "markdown",
   "id": "33b04584",
   "metadata": {},
   "source": [
    "# Capitolo 8 Pandas\n",
    "## Manipolare dati strutturati"
   ]
  },
  {
   "cell_type": "markdown",
   "id": "47d58f69",
   "metadata": {},
   "source": [
    "## 2 Introduzione e tipi di dati"
   ]
  },
  {
   "cell_type": "code",
   "execution_count": null,
   "id": "ce7c034a",
   "metadata": {},
   "outputs": [],
   "source": [
    "import pandas as pd"
   ]
  },
  {
   "cell_type": "code",
   "execution_count": null,
   "id": "63261242",
   "metadata": {},
   "outputs": [],
   "source": [
    "matematici = pd.DataFrame(\n",
    "    {\"Nome\": [\"Alan Turing\", \"John von Neumann\", \n",
    "                                          \"Marvin Lee Minsky\", \"John Horton Conway\"],\n",
    "     \"Anno di nascita\": [1912, 1903, 1927, 1937],\n",
    "     \"Anno di morte\": [1954, 1957, 2016, 2020]\n",
    "    }\n",
    ")"
   ]
  },
  {
   "cell_type": "code",
   "execution_count": null,
   "id": "17a69609",
   "metadata": {},
   "outputs": [],
   "source": [
    "matematici"
   ]
  },
  {
   "cell_type": "code",
   "execution_count": null,
   "id": "cbb7cec3",
   "metadata": {},
   "outputs": [],
   "source": [
    "matematici.dtypes"
   ]
  },
  {
   "cell_type": "code",
   "execution_count": null,
   "id": "56cb1637",
   "metadata": {},
   "outputs": [],
   "source": [
    "matematici[\"Nome\"]"
   ]
  },
  {
   "cell_type": "code",
   "execution_count": null,
   "id": "6a1ae322",
   "metadata": {},
   "outputs": [],
   "source": [
    "matematici.info()"
   ]
  },
  {
   "cell_type": "code",
   "execution_count": null,
   "id": "3273276d",
   "metadata": {},
   "outputs": [],
   "source": [
    "matematici.columns"
   ]
  },
  {
   "cell_type": "markdown",
   "id": "31a5dc36",
   "metadata": {},
   "source": [
    "## 3 Leggere e osservare i dati"
   ]
  },
  {
   "cell_type": "code",
   "execution_count": null,
   "id": "0f81484e",
   "metadata": {},
   "outputs": [],
   "source": [
    "pinguini = pd.read_csv(\"./penguins_size.csv\")\n",
    "pinguini.head()"
   ]
  },
  {
   "cell_type": "code",
   "execution_count": null,
   "id": "419d2897",
   "metadata": {},
   "outputs": [],
   "source": [
    "pinguini.dtypes"
   ]
  },
  {
   "cell_type": "code",
   "execution_count": null,
   "id": "0a92752d",
   "metadata": {},
   "outputs": [],
   "source": [
    "pinguini.info()"
   ]
  },
  {
   "cell_type": "code",
   "execution_count": null,
   "id": "3a3d05da",
   "metadata": {},
   "outputs": [],
   "source": [
    "pinguini.describe()"
   ]
  },
  {
   "cell_type": "code",
   "execution_count": null,
   "id": "a0d1adc0",
   "metadata": {},
   "outputs": [],
   "source": [
    "pinguini[\"species\"].describe()"
   ]
  },
  {
   "cell_type": "code",
   "execution_count": null,
   "id": "48b276b9",
   "metadata": {},
   "outputs": [],
   "source": [
    "pinguini_ripuliti = pinguini.dropna()\n",
    "pinguini_ripuliti.info()"
   ]
  },
  {
   "cell_type": "code",
   "execution_count": null,
   "id": "5f5c38dc",
   "metadata": {},
   "outputs": [],
   "source": [
    "pinguini.dropna(inplace=True)\n",
    "pinguini.info()"
   ]
  },
  {
   "cell_type": "code",
   "execution_count": null,
   "id": "1162e93c",
   "metadata": {},
   "outputs": [],
   "source": [
    "pinguini.to_excel(\"./pinguini.xlsx\", sheet_name=\"pinguini\")"
   ]
  },
  {
   "cell_type": "markdown",
   "id": "43cbbbdf",
   "metadata": {},
   "source": [
    "## 4 Selezionare ed elaborare i dati"
   ]
  },
  {
   "cell_type": "code",
   "execution_count": null,
   "id": "7c54735f",
   "metadata": {},
   "outputs": [],
   "source": [
    "asteroidi_comete=pd.read_json(\"./neowise.json\")\n",
    "asteroidi_comete.head()"
   ]
  },
  {
   "cell_type": "code",
   "execution_count": null,
   "id": "c702f33f",
   "metadata": {},
   "outputs": [],
   "source": [
    "asteroidi_comete.info()"
   ]
  },
  {
   "cell_type": "code",
   "execution_count": null,
   "id": "a9b06056",
   "metadata": {
    "scrolled": false
   },
   "outputs": [],
   "source": [
    "asteroidi_comete_ridotto = asteroidi_comete[[\"designation\",\"discovery_date\",\n",
    "                                             \"h_mag\",\"period_yr\"]]\n",
    "asteroidi_comete_ridotto.head()"
   ]
  },
  {
   "cell_type": "code",
   "execution_count": null,
   "id": "e96b72e4",
   "metadata": {},
   "outputs": [],
   "source": [
    "asteroidi_comete_ridotto[asteroidi_comete_ridotto[\"period_yr\"]<1.0]"
   ]
  },
  {
   "cell_type": "code",
   "execution_count": null,
   "id": "b97b563d",
   "metadata": {},
   "outputs": [],
   "source": [
    "asteroidi_comete_ridotto[(asteroidi_comete_ridotto[\"period_yr\"]<1.0) &\n",
    "                         (asteroidi_comete_ridotto[\"discovery_date\"]>\"2014-01-01\")]"
   ]
  },
  {
   "cell_type": "code",
   "execution_count": null,
   "id": "4e4492a9",
   "metadata": {
    "scrolled": true
   },
   "outputs": [],
   "source": [
    "asteroidi_comete[\"period_day\"] = asteroidi_comete_ridotto[\"period_yr\"]*365\n",
    "asteroidi_comete.head()"
   ]
  },
  {
   "cell_type": "code",
   "execution_count": null,
   "id": "c84da768",
   "metadata": {
    "scrolled": true
   },
   "outputs": [],
   "source": [
    "asteroidi_comete_rinominato=asteroidi_comete.rename(\n",
    "                                    columns={\"designation\":\"nome\",\n",
    "                                             \"discovery_date\":\"data_scoperta\",\n",
    "                                             \"period_yr\":\"periodo_anni\",\n",
    "                                             \"orbit_class\":\"classe_orbitale\",\n",
    "                                             \"period_day\":\"periodo_giorni\"})\n",
    "asteroidi_comete_rinominato.head()"
   ]
  },
  {
   "cell_type": "code",
   "execution_count": null,
   "id": "7e7df9c2",
   "metadata": {},
   "outputs": [],
   "source": [
    "asteroidi_comete_rinominato[\"pha\"].replace(\"Y\",\"SI\",inplace=True)\n",
    "asteroidi_comete_rinominato[\"pha\"].replace(\"N\",\"NO\",inplace=True)\n",
    "asteroidi_comete_rinominato.head()"
   ]
  },
  {
   "cell_type": "code",
   "execution_count": null,
   "id": "cee3907b",
   "metadata": {},
   "outputs": [],
   "source": [
    "asteroidi_comete_rinominato[\"periodo_anni\"].values"
   ]
  },
  {
   "cell_type": "markdown",
   "id": "0e485d70",
   "metadata": {},
   "source": [
    "## 5 Aggregare i dati"
   ]
  },
  {
   "cell_type": "code",
   "execution_count": null,
   "id": "280d213a",
   "metadata": {},
   "outputs": [],
   "source": [
    "pinguini = pd.read_excel(\"./pinguini.xlsx\", index_col=0)\n",
    "pinguini.head()"
   ]
  },
  {
   "cell_type": "code",
   "execution_count": null,
   "id": "a65f2f4f",
   "metadata": {},
   "outputs": [],
   "source": [
    "print(f'Massimo: {pinguini[\"body_mass_g\"].max()}')\n",
    "print(f'Minimo: {pinguini[\"body_mass_g\"].min()}')\n",
    "print(f'Media: {pinguini[\"body_mass_g\"].mean()}')\n",
    "print(f'Deviazione standard: {pinguini[\"body_mass_g\"].std()}')\n",
    "print(f'Mediana: {pinguini[\"body_mass_g\"].median()}')"
   ]
  },
  {
   "cell_type": "code",
   "execution_count": null,
   "id": "44edd58d",
   "metadata": {},
   "outputs": [],
   "source": [
    "pinguini[\"species\"].unique()"
   ]
  },
  {
   "cell_type": "code",
   "execution_count": null,
   "id": "82a53b93",
   "metadata": {},
   "outputs": [],
   "source": [
    "pinguini[[\"sex\",\"body_mass_g\"]].groupby(\"sex\").mean()"
   ]
  },
  {
   "cell_type": "code",
   "execution_count": null,
   "id": "986e1c21",
   "metadata": {},
   "outputs": [],
   "source": [
    "pinguini[[\"species\",\"sex\",\"body_mass_g\"]].groupby([\"sex\",\"species\"]).mean()"
   ]
  },
  {
   "cell_type": "code",
   "execution_count": null,
   "id": "ebd61ac9",
   "metadata": {},
   "outputs": [],
   "source": [
    "pinguini[[\"sex\",\"species\"]].value_counts()"
   ]
  },
  {
   "cell_type": "code",
   "execution_count": null,
   "id": "d7ec41e5",
   "metadata": {},
   "outputs": [],
   "source": [
    "pinguini[[\"island\",\"species\"]].value_counts()"
   ]
  },
  {
   "cell_type": "markdown",
   "id": "ba9f1856",
   "metadata": {},
   "source": [
    "## 6 Rappresentare i dati"
   ]
  },
  {
   "cell_type": "code",
   "execution_count": null,
   "id": "f3d238dc",
   "metadata": {},
   "outputs": [],
   "source": [
    "import pandas as pd\n",
    "import matplotlib.pyplot as plt"
   ]
  },
  {
   "cell_type": "code",
   "execution_count": null,
   "id": "5254b941",
   "metadata": {},
   "outputs": [],
   "source": [
    "marziani = pd.read_csv(\"./marziani.csv\")\n",
    "marziani.head()"
   ]
  },
  {
   "cell_type": "code",
   "execution_count": null,
   "id": "52d23433",
   "metadata": {},
   "outputs": [],
   "source": [
    "pesoRobby = marziani[marziani[\"specie\"]==\"Robby\"][\"peso\"].values\n",
    "pesoMusk = marziani[marziani[\"specie\"]==\"Simmy\"][\"peso\"].values\n",
    "larghezzaRobby = marziani[marziani[\"specie\"]==\"Robby\"][\"larghezza\"].values\n",
    "larghezzaSimmy = marziani[marziani[\"specie\"]==\"Simmy\"][\"larghezza\"].values\n",
    "\n",
    "fig, ax = plt.subplots(figsize=(8,8))\n",
    "ax.scatter(pesoRobby, larghezzaRobby, c=\"r\", label=\"Robby\")\n",
    "ax.scatter(pesoMusk, larghezzaSimmy, c=\"g\", label=\"Simmy\")\n",
    "ax.set_xlabel(\"peso\",fontsize=16)\n",
    "ax.set_ylabel(\"larghezza\",fontsize=16)\n",
    "ax.tick_params(axis='x', labelsize=16)\n",
    "ax.tick_params(axis='y', labelsize=16)\n",
    "ax.set_title(\"Le caratteristiche degli esserini marziani\", fontsize=20)\n",
    "ax.grid(True)\n",
    "ax.legend(fontsize=16)\n",
    "plt.show()"
   ]
  },
  {
   "cell_type": "code",
   "execution_count": null,
   "id": "91cbb7ff",
   "metadata": {},
   "outputs": [],
   "source": [
    "fig, ax = plt.subplots(figsize=(8,8))\n",
    "marziani[marziani[\"specie\"]==\"Robby\"].plot.scatter(x=\"peso\",y=\"larghezza\",\n",
    "                                                  c=\"r\", label=\"Robby\", ax = ax)\n",
    "marziani[marziani[\"specie\"]==\"Simmy\"].plot.scatter(x=\"peso\",y=\"larghezza\",\n",
    "                                                  c=\"g\", label=\"Simmy\", ax = ax)\n",
    "ax.set_xlabel(\"peso\",fontsize=16)\n",
    "ax.set_ylabel(\"larghezza\",fontsize=16)\n",
    "ax.tick_params(axis='x', labelsize=16)\n",
    "ax.tick_params(axis='y', labelsize=16)\n",
    "ax.set_title(\"Le caratteristiche degli esserini Marziani\", fontsize=20)\n",
    "ax.grid(True)\n",
    "ax.legend(fontsize=16)\n",
    "plt.show()"
   ]
  }
 ],
 "metadata": {
  "kernelspec": {
   "display_name": "Python 3 (ipykernel)",
   "language": "python",
   "name": "python3"
  },
  "language_info": {
   "codemirror_mode": {
    "name": "ipython",
    "version": 3
   },
   "file_extension": ".py",
   "mimetype": "text/x-python",
   "name": "python",
   "nbconvert_exporter": "python",
   "pygments_lexer": "ipython3",
   "version": "3.8.8"
  }
 },
 "nbformat": 4,
 "nbformat_minor": 5
}
