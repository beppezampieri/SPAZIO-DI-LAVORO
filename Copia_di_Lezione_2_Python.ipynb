{
  "nbformat": 4,
  "nbformat_minor": 0,
  "metadata": {
    "colab": {
      "provenance": [],
      "collapsed_sections": [
        "XMW5y9UFu87C",
        "iogfm4dAu1yL",
        "eyBmOxK2QTi2"
      ],
      "include_colab_link": true
    },
    "kernelspec": {
      "name": "python3",
      "display_name": "Python 3"
    }
  },
  "cells": [
    {
      "cell_type": "markdown",
      "metadata": {
        "id": "view-in-github",
        "colab_type": "text"
      },
      "source": [
        "<a href=\"https://colab.research.google.com/github/beppezampieri/SPAZIO-DI-LAVORO/blob/master/Copia_di_Lezione_2_Python.ipynb\" target=\"_parent\"><img src=\"https://colab.research.google.com/assets/colab-badge.svg\" alt=\"Open In Colab\"/></a>"
      ]
    },
    {
      "cell_type": "markdown",
      "metadata": {
        "id": "3nyu9MjJJHKZ"
      },
      "source": [
        "# PYTHON LEZIONE 2 - VARIABILI\n",
        "---\n",
        "# Python al Liceo Scientifico Enrico Fermi - edizione 22/23\n",
        "\n",
        "Davide Bresolin<br>\n"
      ]
    },
    {
      "cell_type": "markdown",
      "metadata": {
        "id": "7Nbzsv5za4AX"
      },
      "source": [
        "# Fonti consigliate"
      ]
    },
    {
      "cell_type": "markdown",
      "metadata": {
        "id": "3TtwhUZd68dw"
      },
      "source": [
        "Libro online consigliato [Pensare in Python: come pensare da Informatico, Seconda Edizione](https://github.com/AllenDowney/ThinkPythonItalian/raw/master/thinkpython_italian.pdf)\n",
        "*   Capitolo 2\n",
        "    * Variabili\n",
        "\n",
        "[Tutorial Colab online](https://www.tutorialspoint.com/google_colab/google_colab_quick_guide.htm) (solo introduzione fino al capitolo \"Google Colab - Saving Your Work\", sezione \"Saving to Google Drive\". Si può saltare \"Google Colab - Documenting Your Code\")"
      ]
    },
    {
      "cell_type": "markdown",
      "metadata": {
        "id": "A6AniPRLAGvZ"
      },
      "source": [
        "# Preparazione\n",
        "\n",
        "*   Andate nel menù \"File\" e premete il pulsante \"Save a copy in drive\". Effettuate l'accesso con un **account gmail**. NB Potrebbe essere necessario provare due volte a fare \"Save a copy in drive\" perchè l'operazione funzioni.\n",
        "*   Una volta effettuato il login si aprirà una nuova pagina, il cui titolo sarà \"Copy of Lezione-2-Python\". A questo punto questo file sarà stato salvato all'interno del vostro drive una cartella denominata \"Colab Notebooks\". All'interno di questa cartella troverete quindi una copia del file Lezione-2-Python.\n",
        "*   All'interno del proprio Google Drive (https://drive.google.com) creare una cartella denominata Python all'interno della cartella \"Colab Notebooks\". Questa operazione va effettuata solo la prima volta. Se non trovate dove il file è stato salvato, potete andare ancora nel menu \"File\" e selezionare \"Trova su Drive\".\n",
        "*   Spostate quindi la copia del file Lezione-1-Python nella cartella Biologia che avete appena creato.\n",
        "\n",
        "NOTA IMPORTANTE: La pagina con titolo \"Lezione-2-Python\" che vi è stata condivisa dal padlet deve essere ***CHIUSA***. Dovete tenere aperta solamente la copia che avete creato nella cartella Python altrimenti rischiate di perdere le modifiche che fate durante il laboratorio."
      ]
    },
    {
      "cell_type": "markdown",
      "metadata": {
        "id": "zTJfqbZWaKz1"
      },
      "source": [
        "## Altre impostazioni\n",
        "Andate nel menù \"Strumenti\", premete la voce \"Impostazioni\", poi cliccate sulla scheda \"Editor\" e mettete il visto sulla funzione \"Mostra numeri di riga\". Questo farà comparire i numeri di riga accanto al codice che scrivete."
      ]
    },
    {
      "cell_type": "markdown",
      "metadata": {
        "id": "vjVg1mIJiW7a"
      },
      "source": [
        "# Variabili\n",
        "\n",
        "*   Una variabile è un \"contenitore\" per un valore\n",
        "*   Una variabile ha un nome, ad esempio: `a`, `nome`, `pippo`, ...\n",
        "\n",
        "Le variabili sono usate per:\n",
        "\n",
        "*   non ripetere di nuovo lo stesso calcolo\n",
        "*   dare dei nomi a dei valori importanti\n",
        "*   facilitare la lettura del codice\n",
        "\n",
        "Una variabile può assumere un valore mediante assegnazione\n"
      ]
    },
    {
      "cell_type": "markdown",
      "metadata": {
        "id": "6KG_1u36i6LB"
      },
      "source": [
        "Assegnamo il valore intero 10 ad una variabile *a*"
      ]
    },
    {
      "cell_type": "code",
      "metadata": {
        "id": "x9JEQOjUig9H"
      },
      "source": [
        "a = 10"
      ],
      "execution_count": null,
      "outputs": []
    },
    {
      "cell_type": "markdown",
      "metadata": {
        "id": "Ayt-sqSyjFpv"
      },
      "source": [
        "Assegnamo il valore stringa “ciao” ad una variabile *b*"
      ]
    },
    {
      "cell_type": "code",
      "metadata": {
        "id": "GxzEu5K3k356"
      },
      "source": [
        "b = \"ciao\""
      ],
      "execution_count": null,
      "outputs": []
    },
    {
      "cell_type": "markdown",
      "metadata": {
        "id": "E_RB9ttukyrE"
      },
      "source": [
        "Possiamo stampare il valore (ovvero il contenuto) di una variabile mediante la funzione `print()`"
      ]
    },
    {
      "cell_type": "code",
      "metadata": {
        "id": "-CDOPLjJijb4",
        "colab": {
          "base_uri": "https://localhost:8080/"
        },
        "outputId": "113c547e-8d07-40cc-e2fd-abdd9f3ad44d"
      },
      "source": [
        "print(a)"
      ],
      "execution_count": null,
      "outputs": [
        {
          "output_type": "stream",
          "name": "stdout",
          "text": [
            "10\n"
          ]
        }
      ]
    },
    {
      "cell_type": "code",
      "metadata": {
        "id": "SNHY_CAAiyO8",
        "colab": {
          "base_uri": "https://localhost:8080/"
        },
        "outputId": "5d32813b-8774-4198-9a61-adfc68c1b776"
      },
      "source": [
        "print(b)"
      ],
      "execution_count": null,
      "outputs": [
        {
          "output_type": "stream",
          "name": "stdout",
          "text": [
            "ciao\n"
          ]
        }
      ]
    },
    {
      "cell_type": "markdown",
      "metadata": {
        "id": "gApSVbZwpXBW"
      },
      "source": [
        "Possiamo quindi assegnare il valore intero *23* ad una variabile a e stamparne il contenuto.\n"
      ]
    },
    {
      "cell_type": "code",
      "metadata": {
        "id": "d2ue7Mh-pcx2",
        "colab": {
          "base_uri": "https://localhost:8080/"
        },
        "outputId": "83fce9fc-c027-4092-e155-eb3a3fe04f1e"
      },
      "source": [
        "a = 23\n",
        "print(a)"
      ],
      "execution_count": null,
      "outputs": [
        {
          "output_type": "stream",
          "name": "stdout",
          "text": [
            "23\n"
          ]
        }
      ]
    },
    {
      "cell_type": "markdown",
      "source": [
        "Possiamo anche usare le espressioni per assegnare il valore delle variabili"
      ],
      "metadata": {
        "id": "of5_GmVxastE"
      }
    },
    {
      "cell_type": "code",
      "source": [
        "c = 3 + 4\n",
        "d = a + c\n",
        "print(c)\n",
        "print(d)"
      ],
      "metadata": {
        "colab": {
          "base_uri": "https://localhost:8080/"
        },
        "id": "aU4G6Y82azV5",
        "outputId": "52c999ef-b3f8-4633-dd98-da8325372a63"
      },
      "execution_count": null,
      "outputs": [
        {
          "output_type": "stream",
          "name": "stdout",
          "text": [
            "7\n",
            "30\n"
          ]
        }
      ]
    },
    {
      "cell_type": "markdown",
      "metadata": {
        "id": "4yNDvktkphzD"
      },
      "source": [
        "### Ci sono regole per definire i nomi delle variabili!\n",
        "\n",
        " - composti da lettere, numeri e trattino basso `_`\n",
        " - iniziano con una lettera o col trattino basso\n",
        " - le maiuscole contano (`Mario` e' un nome diverso da `mario`)\n",
        " - niente spazi (ad esempio, `ciao ciao`, non è un nome di variabile valido)\n",
        " - niente numeri all'inizio (ad esempio, `123ciao` non è accettato)\n",
        " - Ci sono nomi \"già assegnati\" a elementi di sistema (ad esempio, `class`) e che quindi non possono essere usati!\n",
        " - In caso di errore, l’interprete da: `SyntaxError: invalid syntax`\n",
        "\n",
        "**Esempi di nomi validi:** `ninja`, `Ninja`, `n_i_n_j_a`\n",
        "\n",
        "**Esempi di nomi illegali:** `1337`, `1337ninja`\n",
        "\n",
        "### Convenzione Python \n",
        "\n",
        "Parole e numeri collegati da `_`\n",
        "\n",
        "**Esempi di nomi validi:** `elite_ninja`, `super_ninja`, `ninja_1337`\n",
        "\n",
        "**Esempi di nomi illegali:** `1337_ninja`\n",
        "\n"
      ]
    },
    {
      "cell_type": "markdown",
      "source": [
        "## Esempio: conversioni tra unità di misura\n",
        "\n",
        "Ricordiamoci la formula di conversione da Fahrenheit a Celsuis:\n",
        "\n",
        "$c = 5 / 9 * (f - 32)$\n",
        "\n",
        "#### Proviamo! \n",
        "\n",
        "$212$ Fahrenheit sono $100$ Celsius e $32$ Fahrenheit sono $0$ Celsius. Usiamo nomi significativi per le variabili nel codice."
      ],
      "metadata": {
        "id": "mYKb6trJaW-L"
      }
    },
    {
      "cell_type": "code",
      "source": [
        "temp_Fahrenheit = 32\n",
        "temp_Celsius = 5.0 / 9.0 * (temp_Fahrenheit - 32)\n",
        "print(temp_Celsius)"
      ],
      "metadata": {
        "colab": {
          "base_uri": "https://localhost:8080/"
        },
        "id": "euhKarPbcT1G",
        "outputId": "db5dae59-b895-4f72-dfdf-710b97d0de36"
      },
      "execution_count": null,
      "outputs": [
        {
          "output_type": "stream",
          "name": "stdout",
          "text": [
            "0.0\n"
          ]
        }
      ]
    },
    {
      "cell_type": "markdown",
      "source": [
        "La formula per la conversione da Celsius a Fahrenheit è\n",
        "\n",
        "$f = 9 / 5 * c + 32$\n",
        "\n",
        "\n",
        "#### proviamo! "
      ],
      "metadata": {
        "id": "CrlkT9AmcXjw"
      }
    },
    {
      "cell_type": "code",
      "source": [
        "temp_Celsius = 0\n",
        "temp_Fahrenheit = 9.0 / 5.0 * temp_Celsius + 32\n",
        "print(temp_Fahrenheit)"
      ],
      "metadata": {
        "colab": {
          "base_uri": "https://localhost:8080/"
        },
        "id": "l_2VuPIicj8k",
        "outputId": "ea9b69cc-76da-4e89-b8af-8a34d6f14e92"
      },
      "execution_count": null,
      "outputs": [
        {
          "output_type": "stream",
          "name": "stdout",
          "text": [
            "32.0\n"
          ]
        }
      ]
    },
    {
      "cell_type": "markdown",
      "metadata": {
        "id": "pF3x06uM5OJ9"
      },
      "source": [
        "# Esercizi sulle variabili\n",
        "\n",
        "Ora tocca a voi! Risolvete gli esercizi qui sotto riempiendo le celle di codice con la soluzione."
      ]
    },
    {
      "cell_type": "markdown",
      "source": [
        "### Esercizio 1\n",
        "Ci sono $5280$ piedi in un miglio. La cella qui sotto definisce una variable `miglia`. Scrivete un comando Python che definisca una variable `piedi` il cui valore è il numero di piedi equivalenti a `miglia` miglia."
      ],
      "metadata": {
        "id": "8LBCXkbkTEXB"
      }
    },
    {
      "cell_type": "code",
      "source": [
        "miglia = 13\n",
        "## Inserire la soluzione qui sotto\n",
        "\n",
        "## togliere il commento della riga seguente per mostrare il risultato\n",
        "# print(miglia, \"miglia sono equivalenti a\", piedi, \"piedi\")"
      ],
      "metadata": {
        "id": "I0i2Nv_aTOQ4"
      },
      "execution_count": null,
      "outputs": []
    },
    {
      "cell_type": "markdown",
      "source": [
        "### Esercizio 2\n",
        "\n",
        "La cella qui sotto definisce le variabili `ore`, `minuti` e `secondi`. \n",
        "Scrivete un comando Python che definisca una variable `tot_secondi` il cui valore è il numero di  secondi equivalenti a `ore` ore, `minuti` minuti e `secondi` secondi."
      ],
      "metadata": {
        "id": "ifdg2zXLTajU"
      }
    },
    {
      "cell_type": "code",
      "source": [
        "ore = 12\n",
        "minuti = 23\n",
        "secondi = 48\n",
        "## Inserire la soluzione qui sotto\n",
        "\n",
        "## togliere il commento della riga seguente per mostrare il risultato\n",
        "# print(ore, \"ore\", minuti, \"minuti e\", secondi, \"secondi sono equivalenti a\", tot_secondi, \"secondi\")"
      ],
      "metadata": {
        "id": "U55AqfBKTpet"
      },
      "execution_count": null,
      "outputs": []
    },
    {
      "cell_type": "markdown",
      "source": [
        "### Esercizio 3\n",
        "\n",
        "L'area di un rettangolo è $b h$, dove $b$ e $h$ sono la base e l'altezza del rettangolo.\n",
        "Notate che l'operazione di moltiplicazione non è mostrata esplicitamente nella formula. Questa è una convenzione comune in matematica ma non in programmazione. \n",
        "\n",
        "La cella qui sotto definisce le variabili `base` e `altezza` che contengono le misure dei lati del rettangolo.\n",
        "Scrivete un comando Python che definisca una variable `area` il cui valore è l'area del rettangolo."
      ],
      "metadata": {
        "id": "dS9-lnaFTqK6"
      }
    },
    {
      "cell_type": "code",
      "source": [
        "base = 4\n",
        "altezza = 11\n",
        "## Inserire la soluzione qui sotto\n",
        "\n",
        "## togliere il commento della riga seguente per mostrare il risultato\n",
        "# print(\"l'area del rettangolo di base\", base, \"e altezza\", altezza, \"e'\", area)"
      ],
      "metadata": {
        "id": "kxTDcAq5Txob"
      },
      "execution_count": null,
      "outputs": []
    },
    {
      "cell_type": "markdown",
      "source": [
        "### Esercizio 4\n",
        "\n",
        "Il perimetro di un rettangolo è $2 b + 2 h$, dove $b$ e $h$ sono la base e l'altezza del rettangolo. Usando le stesse variabili `base` e `altezza` dell'esercizio precedente, scrivete un comando Python che definisca una variable `perimetro` il cui valore è l'area del rettangolo."
      ],
      "metadata": {
        "id": "i1O8wsT-T0wC"
      }
    },
    {
      "cell_type": "code",
      "source": [
        "# le variabili base e altezza sono gia' state definite prima\n",
        "## Inserire la soluzione qui sotto\n",
        "\n",
        "## togliere il commento della riga seguente per mostrare il risultato\n",
        "# print(\"il perimetro del rettangolo di base\", base, \"e altezza\", altezza, \"e'\", perimetro)"
      ],
      "metadata": {
        "id": "U54EYq0cT9TC"
      },
      "execution_count": null,
      "outputs": []
    },
    {
      "cell_type": "markdown",
      "source": [
        "### Esercizio 5\n",
        "\n",
        "La circonferenza di un cerchio è $2 \\pi r$, dove $r$ è il raggio del cerchio. \n",
        "La cella qui sotto definisce la costante `PI` con il valore di $\\pi$ e la variable `raggio` che contiene il raggio del cerchio. Scrivete un comando Python che definisca una variable `circonferenza` il cui valore è la circonferenza del cerchio."
      ],
      "metadata": {
        "id": "xLEkeInsT71b"
      }
    },
    {
      "cell_type": "code",
      "source": [
        "PI = 3.14159\n",
        "raggio = 9\n",
        "## Inserire la soluzione qui sotto\n",
        "\n",
        "## togliere il commento della riga seguente per mostrare il risultato\n",
        "# print(\"la circonferenza del cerchio di raggio\", raggio, \"e'\", circonferenza)"
      ],
      "metadata": {
        "id": "ZL8JticXUFfk"
      },
      "execution_count": null,
      "outputs": []
    },
    {
      "cell_type": "markdown",
      "source": [
        "### Esercizio 6\n",
        "L'area di un cerchio è $\\pi r^2$, dove $r$ è il raggio del cerchio. Usando la costante `PI`  e la variable `raggio` dell'esercizio precedente, un comando Python che definisca una variable `area` il cui valore è l'area del cerchio."
      ],
      "metadata": {
        "id": "AX_IzxqcUGD8"
      }
    },
    {
      "cell_type": "code",
      "source": [
        "# PI e raggio gia' definite sopra\n",
        "## Inserire la soluzione qui sotto\n",
        "\n",
        "## togliere il commento della riga seguente per mostrare il risultato\n",
        "# print(\"l'area del cerchio di raggio\", raggio, \"e'\", area)"
      ],
      "metadata": {
        "id": "jSqGH85TUMkv"
      },
      "execution_count": null,
      "outputs": []
    },
    {
      "cell_type": "markdown",
      "source": [
        "### Esercizio 7\n",
        "Dati $c$ Euro, il valore futuro del capitale rivalutato per $n$ anni con un interesse composto $r$ percento è $c (1 + 0.01 r)^n$. Dati i valori `capitale`, `interesse` e `anni`, scrivete un comando Python che definisca una variabile `valore_futuro` con il valore futuro di `capitale` Euro rivalutati al `interesse` percento di interesse per `anni` anni.\n"
      ],
      "metadata": {
        "id": "lSpaVz0qUNRF"
      }
    },
    {
      "cell_type": "code",
      "source": [
        "capitale = 1000\n",
        "interesse = 7\n",
        "anni = 10\n",
        "## Inserire la soluzione qui sotto\n",
        "\n",
        "## togliere il commento della riga seguente per mostrare il risultato\n",
        "# print(\"il valore futuro di\", capitale, \"Euro rivalutati al\", interesse, \"percento per\", anni, \"anni e'\", valore_futuro, \"Euro\")"
      ],
      "metadata": {
        "id": "7Z2QQ0-jUUeu"
      },
      "execution_count": null,
      "outputs": []
    },
    {
      "cell_type": "markdown",
      "source": [
        "### Esercizio 8\n",
        "La distanza tra i punti $(x_0,y_0)$ e $(x_1, y_1)$ è $\\sqrt{(x_0-x_1)^2 + (y_0 - y_1)^2}$. \n",
        "Date le variabili `x0`, `y0`, `x1` e `y1` con le coordinate dei punti, \n",
        "scrivete un comando Python che definisca la variabile `distanza` con la distanza tra i due punti.\n",
        "\n",
        "**Suggerimento:** usate l'elevamento a potenza `**`, tenendo presente che la calcolare la radice quadrata è equivalente ad elevare alla potenza $\\frac{1}{2}$"
      ],
      "metadata": {
        "id": "UtrxwStiUVAB"
      }
    },
    {
      "cell_type": "code",
      "source": [
        "x0 = 2\n",
        "y0 = 2\n",
        "x1 = 5\n",
        "y1 = 6\n",
        "## Inserire la soluzione qui sotto\n",
        "\n",
        "## togliere il commento della riga seguente per mostrare il risultato\n",
        "# print(\"La distanza tra i punti (\",x0,\",\",y0,\") e (\",x1,\",\",y1,\") e'\", distanza)\n"
      ],
      "metadata": {
        "id": "GT6DiRbGUylO"
      },
      "execution_count": null,
      "outputs": []
    },
    {
      "cell_type": "markdown",
      "source": [
        "### Esercizio 9 (Sfida!)\n",
        "\n",
        "La [formula di Erone](https://it.wikipedia.org/wiki/Formula_di_Erone) afferma che l'area di un triangolo i cui lati abbiano lunghezze $a$, $b$, $c$ è data da \n",
        "$\\sqrt {p\\cdot (p-a)\\cdot (p-b)\\cdot (p-c)}$, dove $p$ è il semiperimetro $\\frac {a+b+c}{2}$.\n",
        "\n",
        "Date le variabili `x0`, `y0`, `x1`, `y1`, `x2` e `y2`, scrivere un programma Python che definisca la variabile `area` il cui valore è l'area del triangolo avente vertici $(x_0, y_0)$, $(x_1,y_1)$ e $(x_2, y_2)$.\n",
        "\n",
        "**Suggerimento:** la mia soluzione usa cinque assegnamenti in sequenza"
      ],
      "metadata": {
        "id": "XpPDUSwYfjx0"
      }
    },
    {
      "cell_type": "code",
      "source": [
        "x0 = 2\n",
        "y0 = 2\n",
        "x1 = 5\n",
        "y1 = 6\n",
        "x2 = 8\n",
        "y2 = 3\n",
        "## Inserire la soluzione qui sotto\n",
        "\n",
        "\n",
        "\n",
        "\n",
        "\n",
        "## togliere il commento della riga seguente per mostrare il risultato\n",
        "# print(\"l'area del triangolo con vertici (\",x0,\",\",y0,\"), (\",x1,\",\",y1,\") e (\",x2,\",\",y2,\") e'\", area)"
      ],
      "metadata": {
        "id": "EUaLdj29eUup"
      },
      "execution_count": null,
      "outputs": []
    }
  ]
}