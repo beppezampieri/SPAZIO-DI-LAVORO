{
  "nbformat": 4,
  "nbformat_minor": 0,
  "metadata": {
    "colab": {
      "provenance": [],
      "collapsed_sections": [
        "XMW5y9UFu87C",
        "iogfm4dAu1yL",
        "eyBmOxK2QTi2"
      ],
      "include_colab_link": true
    },
    "kernelspec": {
      "name": "python3",
      "display_name": "Python 3"
    }
  },
  "cells": [
    {
      "cell_type": "markdown",
      "metadata": {
        "id": "view-in-github",
        "colab_type": "text"
      },
      "source": [
        "<a href=\"https://colab.research.google.com/github/beppezampieri/SPAZIO-DI-LAVORO/blob/master/Copia_di_Lezione_6_Python.ipynb\" target=\"_parent\"><img src=\"https://colab.research.google.com/assets/colab-badge.svg\" alt=\"Open In Colab\"/></a>"
      ]
    },
    {
      "cell_type": "markdown",
      "metadata": {
        "id": "wAbtnL7EsPCV"
      },
      "source": [
        "# PYTHON LEZIONE 6 - FUNZIONI PRODUTTIVE\n",
        "---\n",
        "# Python al Liceo Scientifico Enrico Fermi - edizione 22/23\n",
        "\n",
        "Davide Bresolin<br>\n"
      ]
    },
    {
      "cell_type": "markdown",
      "metadata": {
        "id": "7Nbzsv5za4AX"
      },
      "source": [
        "# Fonti consigliate"
      ]
    },
    {
      "cell_type": "markdown",
      "metadata": {
        "id": "3TtwhUZd68dw"
      },
      "source": [
        "Libro online consigliato [Pensare in Python: come pensare da Informatico, Seconda Edizione](https://github.com/AllenDowney/ThinkPythonItalian/raw/master/thinkpython_italian.pdf)\n",
        "*   Capitolo 6\n",
        "    * Funzioni Produttive\n",
        "\n",
        "[Tutorial Colab online](https://www.tutorialspoint.com/google_colab/google_colab_quick_guide.htm) (solo introduzione fino al capitolo \"Google Colab - Saving Your Work\", sezione \"Saving to Google Drive\". Si può saltare \"Google Colab - Documenting Your Code\")"
      ]
    },
    {
      "cell_type": "markdown",
      "metadata": {
        "id": "EjW5HxRhsb_M"
      },
      "source": [
        "# Preparazione\n",
        "\n",
        "*   Andate nel menù \"File\" e premete il pulsante \"Save a copy in drive\". Effettuate l'accesso con un **account gmail**. NB Potrebbe essere necessario provare due volte a fare \"Save a copy in drive\" perchè l'operazione funzioni.\n",
        "*   Una volta effettuato il login si aprirà una nuova pagina, il cui titolo sarà \"Copy of Lezione-6-Python\". A questo punto questo file sarà stato salvato all'interno del vostro drive una cartella denominata \"Colab Notebooks\". All'interno di questa cartella troverete quindi una copia del file Lezione-6-Python.\n",
        "*   All'interno del proprio Google Drive (https://drive.google.com) creare una cartella denominata Python all'interno della cartella \"Colab Notebooks\". Questa operazione va effettuata solo la prima volta. Se non trovate dove il file è stato salvato, potete andare ancora nel menu \"File\" e selezionare \"Trova su Drive\".\n",
        "*   Spostate quindi la copia del file Lezione-6-Python nella cartella Python che avete appena creato.\n",
        "\n",
        "NOTA IMPORTANTE: La pagina con titolo \"Lezione-6-Python\" che vi è stata condivisa dal padlet deve essere ***CHIUSA***. Dovete tenere aperta solamente la copia che avete creato nella cartella Python altrimenti rischiate di perdere le modifiche che fate durante il laboratorio."
      ]
    },
    {
      "cell_type": "markdown",
      "metadata": {
        "id": "k2-QbwCUofBa"
      },
      "source": [
        "## Altre impostazioni\n",
        "Andate nel menù \"Strumenti\", premete la voce \"Impostazioni\", poi cliccate sulla scheda \"Editor\" e mettete il visto sulla funzione \"Mostra numeri di riga\". Questo farà comparire i numeri di riga accanto al codice che scrivete."
      ]
    },
    {
      "cell_type": "markdown",
      "source": [
        "# Funzioni produttive e funzioni vuote\n",
        "\n",
        "Molte tra le funzioni di Python che abbiamo usato, come quelle matematiche, producono dei valori di ritorno. Ma quelle che abbiamo scritto noi finora sono tutte \"vuote\": hanno un qualche effetto, come visualizzare un testo o muovere tartarughe, ma non hanno un valore di ritorno. In questo capitolo vedremo come si scrivono le funzioni che chiameremo **\"produttive\"**.\n",
        "\n",
        "Quando chiamate una funzione produttiva, quasi sempre è per fare qualcosa di utile con il suo risultato, tipo assegnarlo a una variabile o usarlo come parte di un'espressione."
      ],
      "metadata": {
        "id": "lISk5uYlT6xe"
      }
    },
    {
      "cell_type": "code",
      "source": [
        "import math\n",
        "\n",
        "raggio = 2\n",
        "radianti = 0.3\n",
        "altezza = raggio * math.sin(radianti)\n",
        "print(altezza)"
      ],
      "metadata": {
        "colab": {
          "base_uri": "https://localhost:8080/"
        },
        "id": "ytmcj5e9VTHK",
        "outputId": "95edb0c3-e6b8-4eab-b9c8-e3716c8e746c"
      },
      "execution_count": null,
      "outputs": [
        {
          "output_type": "stream",
          "name": "stdout",
          "text": [
            "0.5910404133226791\n"
          ]
        }
      ]
    },
    {
      "cell_type": "markdown",
      "source": [
        "Se invochiamo una funzione all'interno di una cella, Colab ne mostra il risultato:"
      ],
      "metadata": {
        "id": "YajZ65gmWQH7"
      }
    },
    {
      "cell_type": "code",
      "source": [
        "math.exp(1.0)"
      ],
      "metadata": {
        "colab": {
          "base_uri": "https://localhost:8080/"
        },
        "id": "PdpgSdwHWPgu",
        "outputId": "e32f0ce7-9c59-486b-8b7f-6e87380f2017"
      },
      "execution_count": null,
      "outputs": [
        {
          "output_type": "execute_result",
          "data": {
            "text/plain": [
              "2.718281828459045"
            ]
          },
          "metadata": {},
          "execution_count": 2
        }
      ]
    },
    {
      "cell_type": "markdown",
      "source": [
        "Ma se chiamate una funzione produttiva così come è, il valore di ritorno è perso!\n",
        "\n",
        "Oggi scriveremo finalmente delle funzioni **produttive** che restituiscono un valore. Facciamo un primo esempio con `area`, che calcola l'area di un cerchio di dato `raggio`:"
      ],
      "metadata": {
        "id": "vV8rr9cDWgBu"
      }
    },
    {
      "cell_type": "code",
      "source": [
        "def area(raggio):\n",
        "    a = math.pi * raggio**2\n",
        "    return a\n",
        "\n",
        "r = 2\n",
        "risultato = area(r)\n",
        "print(\"l'area del cerchio di raggio\", r, 'è', risultato)"
      ],
      "metadata": {
        "id": "B5eIRPdrWu59",
        "colab": {
          "base_uri": "https://localhost:8080/"
        },
        "outputId": "d0dfedf2-ce83-4b58-9554-091ecd39d2aa"
      },
      "execution_count": null,
      "outputs": [
        {
          "output_type": "stream",
          "name": "stdout",
          "text": [
            "l'area del cerchio di raggio 2 è 12.566370614359172\n"
          ]
        }
      ]
    },
    {
      "cell_type": "markdown",
      "source": [
        "Il significato dell'istruzione `return` è il seguente: \n",
        "\n",
        "> esci subito da questa funzione e usa l’espressione seguente come valore di ritorno. \n",
        "\n",
        "L’espressione può essere anche complessa, e allora possiamo riscrivere la funzione in modo più compatto:"
      ],
      "metadata": {
        "id": "sLh3c3tcZHtO"
      }
    },
    {
      "cell_type": "code",
      "source": [
        "def area(raggio):\n",
        "    return math.pi * raggio**2"
      ],
      "metadata": {
        "id": "LLBvSkKcqfLB"
      },
      "execution_count": null,
      "outputs": []
    },
    {
      "cell_type": "markdown",
      "source": [
        "Talvolta occorre prevedere più istruzioni di ritorno all'interno della stessa funzione, una per ciascun ramo di un'istruzione condizionale:"
      ],
      "metadata": {
        "id": "W6lridsScTre"
      }
    },
    {
      "cell_type": "code",
      "source": [
        "def valore_assoluto(x):\n",
        "  if x < 0:\n",
        "    return -x\n",
        "  else:\n",
        "    return x"
      ],
      "metadata": {
        "id": "gB8xednKceuV"
      },
      "execution_count": null,
      "outputs": []
    },
    {
      "cell_type": "markdown",
      "source": [
        "Dato che queste istruzioni `return` si trovano in due rami di una condizione alternativa, solo una delle due sarà effettivamente eseguita: \n",
        "non appena viene eseguita un'istruzione `return`, la funzione termina senza eseguire ulteriori istruzioni."
      ],
      "metadata": {
        "id": "ROLQFxATcwtk"
      }
    },
    {
      "cell_type": "code",
      "source": [
        "ris1 = valore_assoluto(5)\n",
        "ris2 = valore_assoluto(-23)\n",
        "print(ris1)\n",
        "print(ris2)"
      ],
      "metadata": {
        "colab": {
          "base_uri": "https://localhost:8080/"
        },
        "id": "86mCabaRPQeT",
        "outputId": "16f24ecb-038d-4d06-f3e2-158e43392070"
      },
      "execution_count": null,
      "outputs": [
        {
          "output_type": "stream",
          "name": "stdout",
          "text": [
            "5\n",
            "23\n"
          ]
        }
      ]
    },
    {
      "cell_type": "markdown",
      "source": [
        "In una funzione produttiva, occorre accertarsi che ogni possibile percorso del flusso di esecuzione del programma conduca ad un'istruzione return. Per esempio:"
      ],
      "metadata": {
        "id": "96KWGyohc8tD"
      }
    },
    {
      "cell_type": "code",
      "source": [
        "def valore_assoluto(x):\n",
        "  if x < 0:\n",
        "    return -x\n",
        "  elif x > 0:\n",
        "    return x"
      ],
      "metadata": {
        "id": "awPg8shqc8Bg"
      },
      "execution_count": null,
      "outputs": []
    },
    {
      "cell_type": "markdown",
      "source": [
        "Cosa succede quando `x` è uguale a 0? Quale valore di ritorno vi aspettate dalla funzione?"
      ],
      "metadata": {
        "id": "FqiYYeCNdOob"
      }
    },
    {
      "cell_type": "code",
      "source": [
        "risultato = valore_assoluto(0)\n",
        "print(risultato)"
      ],
      "metadata": {
        "id": "_Hq034nXdOFT",
        "colab": {
          "base_uri": "https://localhost:8080/"
        },
        "outputId": "4402bef0-94ec-4e13-86f6-abe0cfb41702"
      },
      "execution_count": null,
      "outputs": [
        {
          "output_type": "stream",
          "name": "stdout",
          "text": [
            "None\n"
          ]
        }
      ]
    },
    {
      "cell_type": "markdown",
      "source": [
        "## Esercizio 1\n",
        "\n",
        "Scrivete una funzione di nome `distanza` che restituisce la distanza tra due punti, note le coordinate $(x_1, y_1)$ e $(x_2, y_2)$.\n",
        "Per il teorema di Pitagora, la distanza è:\n",
        "\n",
        "$$\n",
        "\\mathrm{distanza} = \\sqrt{(x_2 - x_1)^2 + (y_2 - y_1)^2}\n",
        "$$\n",
        "\n",
        "La funzione deve prendere come argomenti le coordinate dei due punti `x1`, `y1`, `x2` e `y2` e avere come valore di ritorna la distanza, espressa con un valore decimale.\n",
        "\n",
        "Dopo averla scritta, provate la funzione su alcuni valori."
      ],
      "metadata": {
        "id": "9Oz5UnoLXAxz"
      }
    },
    {
      "cell_type": "code",
      "source": [],
      "metadata": {
        "id": "2uJMAu-_rwHO"
      },
      "execution_count": null,
      "outputs": []
    },
    {
      "cell_type": "markdown",
      "metadata": {
        "id": "eBedmMw4JcEs"
      },
      "source": [
        "## Esercizio 2 - Composizione di funzioni\n",
        "\n",
        "Come avrete intuito, è possibile chiamare una funzione dall'interno di un'altra funzione. In questo esercizio scriverete una funzione che prende due punti geometrici, il centro di un cerchio ed un punto sulla sua circonferenza, e calcola l'area del cerchio.\n",
        "\n",
        "Innanzitutto, bisogna trovare il raggio del cerchio, che è pari alla distanza tra i due punti. Usate la funzione `distanza` che avete appena scritto per calcolare il raggio del cerchio.\n",
        "\n",
        "Il passo successivo è trovare l'area del cerchio di quel raggio; anche questa funzione l'abbiamo già scritta: è la funzione `area` che abbiamo visto come primo esempio di funzione produttiva.\n",
        "\n",
        "Scrivete una funzione `area_cerchio` e prende come argomenti coordinate del centro del cerchio `xc` e `yc`, e quelle del punto sulla circonferenza `xp` e `yp`, e ritorna l'area del cerchio."
      ]
    },
    {
      "cell_type": "code",
      "metadata": {
        "id": "0hKWbXkNLOec"
      },
      "source": [],
      "execution_count": null,
      "outputs": []
    },
    {
      "cell_type": "markdown",
      "source": [
        "## Esercizio 3 - Funzioni Booleane\n",
        "\n",
        "Le funzioni possono anche restituire valori booleani (vero o falso), cosa che è spesso utilizzata per includere al loro interno dei test, anche complessi.  "
      ],
      "metadata": {
        "id": "9h369dsLwuTb"
      }
    },
    {
      "cell_type": "code",
      "source": [
        "def divisibile(x, y):\n",
        "    if x % y == 0:\n",
        "        return True\n",
        "    else:\n",
        "        return False"
      ],
      "metadata": {
        "id": "viC6VfKUxLPs"
      },
      "execution_count": null,
      "outputs": []
    },
    {
      "cell_type": "markdown",
      "source": [
        "È prassi assegnare come nomi alle funzioni booleane dei predicati che, con accezione interrogativa, attendono una risposta sì/no; `divisibile` restituisce `True` o `False` per rispondere alla domanda se è vero o no che `x` è divisibile per `y`.\n",
        "\n",
        "Facciamo un esempio:"
      ],
      "metadata": {
        "id": "NamelvWXxgx-"
      }
    },
    {
      "cell_type": "code",
      "source": [
        "print(divisibile(6, 4))\n",
        "print(divisibile(6, 3))"
      ],
      "metadata": {
        "id": "zgEz77-CxicV"
      },
      "execution_count": null,
      "outputs": []
    },
    {
      "cell_type": "markdown",
      "source": [
        "Possiamo scrivere la funzione in modo ancora più conciso, in quanto il risultato dell'operatore di confronto {\\tt ==} è anch'esso un booleano, restituendolo direttamente:"
      ],
      "metadata": {
        "id": "FcAadtnCxxeF"
      }
    },
    {
      "cell_type": "code",
      "source": [
        "def divisibile(x, y):\n",
        "    return x % y == 0"
      ],
      "metadata": {
        "id": "HvuScW-TxyOS"
      },
      "execution_count": null,
      "outputs": []
    },
    {
      "cell_type": "markdown",
      "source": [
        "Le funzioni booleane sono usate spesso nelle istruzioni condizionali:"
      ],
      "metadata": {
        "id": "NilWkGtCx2l-"
      }
    },
    {
      "cell_type": "code",
      "source": [
        "x = int(input('Inserisci un numero'))\n",
        "y = int(input('Inserisci un altro numero'))\n",
        "\n",
        "if divisibile(x, y):\n",
        "    print(x, 'è divisibile per', y)\n",
        "else:\n",
        "    print(x, 'non è divisibile per', y)"
      ],
      "metadata": {
        "id": "YtI-nRrzx5N7"
      },
      "execution_count": null,
      "outputs": []
    },
    {
      "cell_type": "markdown",
      "source": [
        "Potreste anche scrivere in questo modo, ma il confronto supplementare è superfluo:"
      ],
      "metadata": {
        "id": "m2o4j-6xxI6a"
      }
    },
    {
      "cell_type": "code",
      "source": [
        "if divisibile(x, y) == True:\n",
        "    print(x, 'è divisibile per', y)\n",
        "else:\n",
        "    print(x, 'non è divisibile per', y)"
      ],
      "metadata": {
        "id": "FYkVZtWyyLrR"
      },
      "execution_count": null,
      "outputs": []
    },
    {
      "cell_type": "markdown",
      "source": [
        "Scrivete ora, per esercizio, una funzione `compreso_tra(x, y, z)` che restituisca `True` se $x \\le y \\le z$ o `False` altrimenti. Provate l'esecuzione della funzione su alcuni valori di esempio."
      ],
      "metadata": {
        "id": "530DeNqpyQsS"
      }
    },
    {
      "cell_type": "code",
      "source": [],
      "metadata": {
        "id": "kbNWC-ATyaNC"
      },
      "execution_count": null,
      "outputs": []
    }
  ]
}