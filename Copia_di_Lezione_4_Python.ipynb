{
  "nbformat": 4,
  "nbformat_minor": 0,
  "metadata": {
    "colab": {
      "provenance": [],
      "collapsed_sections": [
        "XMW5y9UFu87C",
        "iogfm4dAu1yL",
        "eyBmOxK2QTi2"
      ],
      "include_colab_link": true
    },
    "kernelspec": {
      "name": "python3",
      "display_name": "Python 3"
    }
  },
  "cells": [
    {
      "cell_type": "markdown",
      "metadata": {
        "id": "view-in-github",
        "colab_type": "text"
      },
      "source": [
        "<a href=\"https://colab.research.google.com/github/beppezampieri/SPAZIO-DI-LAVORO/blob/master/Copia_di_Lezione_4_Python.ipynb\" target=\"_parent\"><img src=\"https://colab.research.google.com/assets/colab-badge.svg\" alt=\"Open In Colab\"/></a>"
      ]
    },
    {
      "cell_type": "markdown",
      "metadata": {
        "id": "wAbtnL7EsPCV"
      },
      "source": [
        "# PYTHON LEZIONE 4 - CONDIZIONALI\n",
        "---\n",
        "# Python al Liceo Scientifico Enrico Fermi - edizione 22/23\n",
        "\n",
        "Davide Bresolin<br>\n"
      ]
    },
    {
      "cell_type": "markdown",
      "metadata": {
        "id": "7Nbzsv5za4AX"
      },
      "source": [
        "# Fonti consigliate"
      ]
    },
    {
      "cell_type": "markdown",
      "metadata": {
        "id": "3TtwhUZd68dw"
      },
      "source": [
        "Libro online consigliato [Pensare in Python: come pensare da Informatico, Seconda Edizione](https://github.com/AllenDowney/ThinkPythonItalian/raw/master/thinkpython_italian.pdf)\n",
        "*   Capitolo 5\n",
        "    * Istruzioni condizionali\n",
        "\n",
        "[Tutorial Colab online](https://www.tutorialspoint.com/google_colab/google_colab_quick_guide.htm) (solo introduzione fino al capitolo \"Google Colab - Saving Your Work\", sezione \"Saving to Google Drive\". Si può saltare \"Google Colab - Documenting Your Code\")"
      ]
    },
    {
      "cell_type": "markdown",
      "metadata": {
        "id": "EjW5HxRhsb_M"
      },
      "source": [
        "# Preparazione\n",
        "\n",
        "*   Andate nel menù \"File\" e premete il pulsante \"Save a copy in drive\". Effettuate l'accesso con un **account gmail**. NB Potrebbe essere necessario provare due volte a fare \"Save a copy in drive\" perchè l'operazione funzioni.\n",
        "*   Una volta effettuato il login si aprirà una nuova pagina, il cui titolo sarà \"Copy of Lezione-4-Python\". A questo punto questo file sarà stato salvato all'interno del vostro drive una cartella denominata \"Colab Notebooks\". All'interno di questa cartella troverete quindi una copia del file Lezione-4-Python.\n",
        "*   All'interno del proprio Google Drive (https://drive.google.com) creare una cartella denominata Python all'interno della cartella \"Colab Notebooks\". Questa operazione va effettuata solo la prima volta. Se non trovate dove il file è stato salvato, potete andare ancora nel menu \"File\" e selezionare \"Trova su Drive\".\n",
        "*   Spostate quindi la copia del file Lezione-4-Python nella cartella Python che avete appena creato.\n",
        "\n",
        "NOTA IMPORTANTE: La pagina con titolo \"Lezione-4-Python\" che vi è stata condivisa dal padlet deve essere ***CHIUSA***. Dovete tenere aperta solamente la copia che avete creato nella cartella Python altrimenti rischiate di perdere le modifiche che fate durante il laboratorio."
      ]
    },
    {
      "cell_type": "markdown",
      "metadata": {
        "id": "zTJfqbZWaKz1"
      },
      "source": [
        "## Altre impostazioni\n",
        "Andate nel menù \"Strumenti\", premete la voce \"Impostazioni\", poi cliccate sulla scheda \"Editor\" e mettete il visto sulla funzione \"Mostra numeri di riga\". Questo farà comparire i numeri di riga accanto al codice che scrivete."
      ]
    },
    {
      "cell_type": "markdown",
      "metadata": {
        "id": "M02lMo1hDi7e"
      },
      "source": [
        "# Espressioni Booleane\n",
        "\n",
        "Una **espressione Booleana** è una espressione che può essere vera oppure falsa. \n",
        "\n",
        "Esempio: l'operatore `==` confronta due valori e produce `True` se sono uguali, `False` se sono diversi:"
      ]
    },
    {
      "cell_type": "code",
      "metadata": {
        "id": "KioztWCcmAWo",
        "colab": {
          "base_uri": "https://localhost:8080/"
        },
        "outputId": "6ebaa064-84bd-46b6-b3d0-ff4319a62195"
      },
      "source": [
        "5 == 5"
      ],
      "execution_count": null,
      "outputs": [
        {
          "output_type": "execute_result",
          "data": {
            "text/plain": [
              "True"
            ]
          },
          "metadata": {},
          "execution_count": 1
        }
      ]
    },
    {
      "cell_type": "code",
      "source": [
        "5 == 6"
      ],
      "metadata": {
        "colab": {
          "base_uri": "https://localhost:8080/"
        },
        "id": "MJptqzcKfBBD",
        "outputId": "1ec88fff-68ad-4410-90b8-04ac718f3971"
      },
      "execution_count": null,
      "outputs": [
        {
          "output_type": "execute_result",
          "data": {
            "text/plain": [
              "False"
            ]
          },
          "metadata": {},
          "execution_count": 2
        }
      ]
    },
    {
      "cell_type": "markdown",
      "source": [
        "`True` e `False` sono valori speciali che sono di tipo bool; non sono delle stringhe:"
      ],
      "metadata": {
        "id": "ubbkJiiJfCmw"
      }
    },
    {
      "cell_type": "code",
      "source": [
        "print(type(True))\n",
        "print(type(False))"
      ],
      "metadata": {
        "colab": {
          "base_uri": "https://localhost:8080/"
        },
        "id": "MUAQivinfH_7",
        "outputId": "dbf11d24-e21b-4a5c-b61e-3402bf8c6139"
      },
      "execution_count": null,
      "outputs": [
        {
          "output_type": "stream",
          "name": "stdout",
          "text": [
            "<class 'bool'>\n",
            "<class 'bool'>\n"
          ]
        }
      ]
    },
    {
      "cell_type": "markdown",
      "source": [
        "Vediamo altri esempi di espressioni Booleane. Prima di iniziare creiamo due variabili intere che saranno utili in seguito."
      ],
      "metadata": {
        "id": "_GlyjQiB7E5n"
      }
    },
    {
      "cell_type": "code",
      "source": [
        "x = 5\n",
        "y = 10"
      ],
      "metadata": {
        "id": "jxwAD10p7D0U"
      },
      "execution_count": null,
      "outputs": []
    },
    {
      "cell_type": "markdown",
      "source": [
        "L'operatore `==` è uno degli **operatori relazionali** (o **relazioni**) che Pyhton ci mette a disposizione. Gli altri sono:\n"
      ],
      "metadata": {
        "id": "0TaLFZH5eHGg"
      }
    },
    {
      "cell_type": "code",
      "source": [
        "print(x != y)      # x è diverso da y\n",
        "print(x > y)       # x maggiore di y\n",
        "print(x < y)       # x minore di y\n",
        "print(x >= y)      # x maggiore o ugale di y\n",
        "print(x <= y)      # x minore o uguale di y"
      ],
      "metadata": {
        "id": "d58aicmp6rP-",
        "colab": {
          "base_uri": "https://localhost:8080/"
        },
        "outputId": "bbd12f1f-ef0a-4516-c115-6b24b10bd9bc"
      },
      "execution_count": null,
      "outputs": [
        {
          "output_type": "stream",
          "name": "stdout",
          "text": [
            "True\n",
            "False\n",
            "True\n",
            "False\n",
            "True\n"
          ]
        }
      ]
    },
    {
      "cell_type": "markdown",
      "source": [
        "**NOTA:** un errore piuttosto comune è usare un uguale singolo (`=`) al posto del doppio uguale (`==`). Ricorda che `=` è l'operatore di assegnamento, mentre `==` è l'operatore relazionale di uguaglianza."
      ],
      "metadata": {
        "id": "YWY3ejbk7U5Y"
      }
    },
    {
      "cell_type": "markdown",
      "source": [
        "# Operatori Logici\n",
        "\n",
        "Ci sono tre **operatori logici**: `and`, `or`, e `not`. Il loro significato è simile a quello dei connettori \"e\", \"oppure\" e \"non\" in Italiano.\n",
        "\n",
        "Per esempio, l'espressione `x > 0 and x < 10` è vera solo quando `x` è maggiore di `0` **e** minore di `10`."
      ],
      "metadata": {
        "id": "DWMGiyICfjpo"
      }
    },
    {
      "cell_type": "code",
      "source": [
        "x = 12\n",
        "x > 0 and x < 10"
      ],
      "metadata": {
        "id": "h7Di48j4gS-k",
        "colab": {
          "base_uri": "https://localhost:8080/"
        },
        "outputId": "9e63ac7c-1870-47dd-dbb3-b8c8fd7eba7e"
      },
      "execution_count": null,
      "outputs": [
        {
          "output_type": "execute_result",
          "data": {
            "text/plain": [
              "False"
            ]
          },
          "metadata": {},
          "execution_count": 6
        }
      ]
    },
    {
      "cell_type": "markdown",
      "source": [
        "L'espressione `n%2 == 0 or n%3 == 0` è vera quando `n` è divisible per `2` **oppure** per 3."
      ],
      "metadata": {
        "id": "cvBfLjY6gaOo"
      }
    },
    {
      "cell_type": "code",
      "source": [
        "n = 5\n",
        "n%2 == 0 or n%3 == 0"
      ],
      "metadata": {
        "id": "ANMnfiZDg11M",
        "colab": {
          "base_uri": "https://localhost:8080/"
        },
        "outputId": "e55cd4a8-6f98-4812-dcbb-c666c1d812c4"
      },
      "execution_count": null,
      "outputs": [
        {
          "output_type": "execute_result",
          "data": {
            "text/plain": [
              "False"
            ]
          },
          "metadata": {},
          "execution_count": 8
        }
      ]
    },
    {
      "cell_type": "markdown",
      "source": [
        "Infine, l'operatore `not` nega il valore di un'espressione Booleana: `not (x > y)` è vera quando `x > y` è falsa, ossia quando `x` è minore o uguale di `y`."
      ],
      "metadata": {
        "id": "KZQsO0XjhCgn"
      }
    },
    {
      "cell_type": "code",
      "source": [
        "x = 10\n",
        "y = 10\n",
        "not (x > y)"
      ],
      "metadata": {
        "id": "tCZi4EyfhWF_",
        "colab": {
          "base_uri": "https://localhost:8080/"
        },
        "outputId": "cf20c6e3-965e-4308-d080-4fdcca7975e2"
      },
      "execution_count": null,
      "outputs": [
        {
          "output_type": "execute_result",
          "data": {
            "text/plain": [
              "True"
            ]
          },
          "metadata": {},
          "execution_count": 9
        }
      ]
    },
    {
      "cell_type": "markdown",
      "metadata": {
        "id": "Vt5DBTGwVQ9o"
      },
      "source": [
        "# Selezione (IF)\n",
        "\n",
        "In Python è possibile richiedere che alcune operazioni vengano eseguite solo nel caso in cui si verifichino determinate condizioni. Questo viene fatto attraverso i **costrutti condizionali**: `if`, `if` / `else` oppure `if` / `elif` / `else`. Esprimono un percorso logico basato su una condizione che è una espressione Booleana e il cui risultato finale deve quindi essere `True` oppure `False`.\n",
        "\n",
        "```console\n",
        "if condizione:\n",
        "  # istruzioni \n",
        "  ...\n",
        "else:\n",
        "  ...\n",
        "```"
      ]
    },
    {
      "cell_type": "markdown",
      "metadata": {
        "id": "sB7UvwfED3Lu"
      },
      "source": [
        "**NB:** Notare che le istruzioni successive ad `if`, `elif` ed `else` sono spostate a destra (di uno spazio corrispondente al carattere TAB). Questo è parte della sintassi Python e serve a distinguere univocamente ciò che è racchiuso all'interno della selezione."
      ]
    },
    {
      "cell_type": "code",
      "metadata": {
        "id": "JH_MyH3ASyP8"
      },
      "source": [
        "x = -4\n",
        "if x > 0:\n",
        "  print(\"x ha un valore positivo\")"
      ],
      "execution_count": null,
      "outputs": []
    },
    {
      "cell_type": "markdown",
      "metadata": {
        "id": "Z6yFfV4cZWrT"
      },
      "source": [
        "### Esecuzioni alternative\n",
        "\n",
        "Se una variabile n è < 5 e > 1, allora stampa \"Tra 1 e 5\"; altrimenti stampa \"Fuori intervallo\""
      ]
    },
    {
      "cell_type": "code",
      "metadata": {
        "id": "NdTWSVa8ZY4H",
        "colab": {
          "base_uri": "https://localhost:8080/"
        },
        "outputId": "564b57b2-805a-408d-c952-7092bbf4b735"
      },
      "source": [
        "n=10\n",
        "if (n > 1) and (n < 5):\n",
        "  print(\"Tra 1 e 5\")\n",
        "else:\n",
        "  print(\"Fuori intervallo\")"
      ],
      "execution_count": null,
      "outputs": [
        {
          "output_type": "stream",
          "name": "stdout",
          "text": [
            "Fuori intervallo\n"
          ]
        }
      ]
    },
    {
      "cell_type": "markdown",
      "source": [
        "Le due alternative sono chiamate **rami**, perché rappresentano le due possibili ramificazioni del percorso di esecuzione."
      ],
      "metadata": {
        "id": "w1EeODutiyne"
      }
    },
    {
      "cell_type": "markdown",
      "metadata": {
        "id": "u5FAKepHZfr4"
      },
      "source": [
        "### Catena di condizionali\n",
        "\n",
        "Quando ci sono più di due alternative possiamo usare il costrutto `elif` (abbreviazione di \"else if\").\n",
        "\n",
        "**Esempio:** Se una variabile n è < 5 stampa \"Minore di 5\"; se è >= 5 e < 10 stampa \"Tra 5 e 10\"; altrimenti stampa \"Fuori range\""
      ]
    },
    {
      "cell_type": "code",
      "metadata": {
        "id": "EYPdeI-lwY9b",
        "colab": {
          "base_uri": "https://localhost:8080/"
        },
        "outputId": "72622d70-b099-4a72-9e21-d84fdb8b1623"
      },
      "source": [
        "n=8\n",
        "if (n < 5):\n",
        "  print(\"Minore di 5\")\n",
        "elif (n < 10):\n",
        "  print(\"Tra 5 e 10\")\n",
        "else:\n",
        "  print(\"Fuori intervallo\")"
      ],
      "execution_count": null,
      "outputs": [
        {
          "output_type": "stream",
          "name": "stdout",
          "text": [
            "Tra 5 e 10\n"
          ]
        }
      ]
    },
    {
      "cell_type": "markdown",
      "source": [
        "Possiamo usare quanti rami `elif` vogliamo. Se c'è un ramo `else`, deve essere l'ultimo (ma non è obbligatorio che ci sia)."
      ],
      "metadata": {
        "id": "gsmANaPwiusS"
      }
    },
    {
      "cell_type": "code",
      "source": [
        "n=8\n",
        "if (n < 5):\n",
        "  print(\"Minore di 5\")\n",
        "elif (n < 10):\n",
        "  print(\"Tra 5 e 10\")\n",
        "elif (n < 20):\n",
        "  print(\"Tra 10 e 20\")"
      ],
      "metadata": {
        "id": "Obe7TrbwjcAr"
      },
      "execution_count": null,
      "outputs": []
    },
    {
      "cell_type": "markdown",
      "source": [
        "### Condizionali annidati\n",
        "\n",
        "I condizionali possono essere annidati uno dentro l'altro. Possiamo scrivere l'esempio tripartito anche in questo modo:"
      ],
      "metadata": {
        "id": "n62xonNAjtji"
      }
    },
    {
      "cell_type": "code",
      "metadata": {
        "id": "Z3SifM4oZhod"
      },
      "source": [
        "n=8\n",
        "if (n < 5):\n",
        "  print(\"Minore di 5\")\n",
        "else:\n",
        "  if (n < 10):\n",
        "    print(\"Tra 5 e 10\")\n",
        "  else:\n",
        "    print(\"Fuori intervallo\")"
      ],
      "execution_count": null,
      "outputs": []
    },
    {
      "cell_type": "markdown",
      "source": [
        "Il condizionale più esterno è formato da due rami. Il primo ramo contiene una istruzione semplice. Il secondo ramo contiene un altro `if`, che è formato a sua volta da due rami."
      ],
      "metadata": {
        "id": "9c4qy43FkWZV"
      }
    },
    {
      "cell_type": "markdown",
      "source": [
        "### Esercizio \n",
        "Gli operatori logici ci permettono di semplificare i condizionali innestati. Come possiamo riscrivere questo condizionale innestato usando un condizionale semplice?"
      ],
      "metadata": {
        "id": "W09IPTIGkr01"
      }
    },
    {
      "cell_type": "code",
      "source": [
        "x = 4\n",
        "if 0 < x:\n",
        "  if x < 10:\n",
        "    print('x è un numero positivo in singola cifra')"
      ],
      "metadata": {
        "id": "pOtefkpolRmy",
        "colab": {
          "base_uri": "https://localhost:8080/"
        },
        "outputId": "21dd5e18-fde8-4ca9-f4a3-99d804cb9ca5"
      },
      "execution_count": null,
      "outputs": [
        {
          "output_type": "stream",
          "name": "stdout",
          "text": [
            "x è un numero positivo in singola cifra\n"
          ]
        }
      ]
    },
    {
      "cell_type": "markdown",
      "source": [
        "#### Soluzione"
      ],
      "metadata": {
        "id": "xhM4fawcl5Se"
      }
    },
    {
      "cell_type": "markdown",
      "source": [
        "L'istruzione `print` viene eseguita solo quando la prima **e** la seconda condizione sono vere. Possiamo ottenere lo stesso risultato con l'operatore logico `and`:"
      ],
      "metadata": {
        "id": "VWxBOGlVmq1R"
      }
    },
    {
      "cell_type": "code",
      "source": [
        "if 0 < x and x < 10:\n",
        "  print('x è un numero positivo in singola cifra')"
      ],
      "metadata": {
        "id": "53xltwvHl4mv",
        "colab": {
          "base_uri": "https://localhost:8080/"
        },
        "outputId": "0271ec78-a6b4-4131-ae86-ea853b626a40"
      },
      "execution_count": null,
      "outputs": [
        {
          "output_type": "stream",
          "name": "stdout",
          "text": [
            "x è un numero positivo in singola cifra\n"
          ]
        }
      ]
    },
    {
      "cell_type": "markdown",
      "source": [
        "# Input da tastiera\n",
        "\n",
        "I programmi che abbiamo scritto finora non accettano dati in ingresso da parte dell’utente, ed eseguono sempre le stesse operazioni.\n",
        "\n",
        "In Python esiste una funzione predefinita chiamata `input` che sospende il programma ed attende che l’utente scriva qualcosa. Quando l’utente preme il tasto Invio oppure Enter, il programma riprende e `input` restituisce quello che l’utente ha inserito, come stringa."
      ],
      "metadata": {
        "id": "uIk7njYMgVME"
      }
    },
    {
      "cell_type": "code",
      "source": [
        "testo = input()\n",
        "print(testo)"
      ],
      "metadata": {
        "colab": {
          "base_uri": "https://localhost:8080/"
        },
        "id": "LeufrGMmgfcV",
        "outputId": "53af351f-2c1e-4eff-c83a-f665275408b8"
      },
      "execution_count": null,
      "outputs": [
        {
          "output_type": "stream",
          "name": "stdout",
          "text": [
            "cosa aspetti?\n",
            "cosa aspetti?\n"
          ]
        }
      ]
    },
    {
      "cell_type": "markdown",
      "source": [
        "Prima dell’inserimento dei dati, è buona norma visualizzare un messaggio, chiamato **prompt**, che informa l’utente di ciò che deve inserire. A questo scopo, input accetta un prompt come argomento:"
      ],
      "metadata": {
        "id": "fmmNAB16gx7o"
      }
    },
    {
      "cell_type": "code",
      "source": [
        "nome = input('Come ti chiami?\\n')\n",
        "print(nome)"
      ],
      "metadata": {
        "colab": {
          "base_uri": "https://localhost:8080/"
        },
        "id": "yEGdBn5HhDCF",
        "outputId": "21b04c38-e2c2-4e99-9ae5-7a46c357a29a"
      },
      "execution_count": null,
      "outputs": [
        {
          "output_type": "stream",
          "name": "stdout",
          "text": [
            "Come ti chiami?\n",
            "Davide\n",
            "Davide\n"
          ]
        }
      ]
    },
    {
      "cell_type": "markdown",
      "source": [
        "La sequenza `\\n` alla fine del prompt rappresenta un ritorno a capo, un carattere speciale che provoca un’interruzione di riga. Ecco perché l’input dell’utente compare sulla riga successiva sotto al prompt.\n",
        "\n",
        "\n",
        "Se l’input atteso deve essere un numero intero, si può provare a convertire il valore inserito in `int`:"
      ],
      "metadata": {
        "id": "hmpV53ncg4WX"
      }
    },
    {
      "cell_type": "code",
      "source": [
        "prompt = 'Qual è la velocità in volo di una rondine?\\n'\n",
        "velocita = input(prompt)\n",
        "int(velocita)"
      ],
      "metadata": {
        "colab": {
          "base_uri": "https://localhost:8080/"
        },
        "id": "Cx9TT3kbhQOW",
        "outputId": "5249d523-c7e0-413e-cdf8-07be469c9f10"
      },
      "execution_count": null,
      "outputs": [
        {
          "name": "stdout",
          "output_type": "stream",
          "text": [
            "Qual è la velocità in volo di una rondine?\n",
            "42\n"
          ]
        },
        {
          "output_type": "execute_result",
          "data": {
            "text/plain": [
              "42"
            ]
          },
          "metadata": {},
          "execution_count": 22
        }
      ]
    },
    {
      "cell_type": "markdown",
      "source": [
        "Ma se la stringa inserita contiene qualcosa di diverso da dei valori numerici, si verifica un errore!\n",
        "\n",
        "Ci sono modi per trattare questo tipo di errori, che non vedremo durante il corso. Se siete interessati li potete trovare nel libro \"Pensare da Informatico\" citato all'inizio di questo notebook."
      ],
      "metadata": {
        "id": "SZn8SjMVhgNg"
      }
    },
    {
      "cell_type": "markdown",
      "source": [
        "# Esercizi"
      ],
      "metadata": {
        "id": "Suq5GQfvjP8S"
      }
    },
    {
      "cell_type": "markdown",
      "metadata": {
        "id": "6_fGSij1qW8V"
      },
      "source": [
        "## Esercizio 1 selezione\n",
        "Scrivere un programma che chieda all'utente di inserire un numero intero `n` e poi ne stampi il valore assoluto (quindi il numero stesso se è positivo o nullo ed il suo opposto se è negativo)."
      ]
    },
    {
      "cell_type": "code",
      "source": [],
      "metadata": {
        "id": "gTo5IYHArD-4"
      },
      "execution_count": null,
      "outputs": []
    },
    {
      "cell_type": "markdown",
      "metadata": {
        "id": "MmU2gFx_NaX4"
      },
      "source": [
        "## Esercizio 2 \n",
        "\n",
        "L’ultimo teorema di Fermat afferma che non esistono interi positivi $a$, $b$, e $c$ tali che \n",
        "$$a^n + b^n = c^n$$\n",
        "per qualsiasi valore di $n$ maggiore di $2$.\n",
        "\n",
        "1. Scrivete una funzione di nome `verifica_fermat` che richieda quattro parametri — `a`, `b`, `c` e `n`— e controlli se il teorema regge. \n",
        "\n",
        " Se `n` è maggiore di `2` e fosse vero che $a^n + b^n = c^n$,\n",
        "la funzione dovrebbe visualizzare: `Santi Numi, Fermat si è sbagliato!`, altrimenti: `No, questo non è vero.`\n",
        "\n",
        "2. Scrivete un programma che chieda all’utente di inserire valori di `a`, `b`, `c` e `n`, li converta in interi e usi la funzione `verifica_fermat` per controllare se violano il teorema di Fermat."
      ]
    },
    {
      "cell_type": "code",
      "metadata": {
        "id": "2W6oi06V0wK4"
      },
      "source": [],
      "execution_count": null,
      "outputs": []
    },
    {
      "cell_type": "markdown",
      "metadata": {
        "id": "APiKHwvWLN06"
      },
      "source": [
        "## Esercizio 3\n",
        "\n",
        "Dati tre bastoncini, può essere possibile o meno riuscire a sistemarli in modo da formare un triangolo. Per esempio, se uno dei bastoncini misura 12 centimetri e gli altri due 1 centimetro, non riuscirete a far toccare le estremità di tutti e tre i bastoncini. Date tre lunghezze, c’è una semplice regola per controllare se è possibile formare un triangolo:\n",
        "\n",
        "> Se una qualsiasi delle tre lunghezze è maggiore della somma delle altre due, non potete formare un triangolo. (Se la somma di due lunghezze è uguale alla terza, si ha un triangolo “degenere”.)\n",
        "\n",
        "1. Scrivete una funzione di nome `triangolo` che riceva tre interi come argomenti e che mostri “Si”’ o “No”, a seconda che si possa o meno formare un triangolo con dei bastoncini delle tre lunghezze date.\n",
        "\n",
        "2. Scrivete un programma che chieda all’utente di inserire tre lunghezze, le converta in interi, e le passi a `triangolo` per verificare se si possa o meno formare un triangolo."
      ]
    },
    {
      "cell_type": "code",
      "metadata": {
        "id": "YJMRy9sqL44Q"
      },
      "source": [],
      "execution_count": null,
      "outputs": []
    }
  ]
}