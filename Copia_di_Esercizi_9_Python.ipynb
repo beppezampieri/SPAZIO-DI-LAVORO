{
  "nbformat": 4,
  "nbformat_minor": 0,
  "metadata": {
    "colab": {
      "provenance": [],
      "collapsed_sections": [
        "XMW5y9UFu87C",
        "iogfm4dAu1yL",
        "eyBmOxK2QTi2"
      ],
      "include_colab_link": true
    },
    "kernelspec": {
      "name": "python3",
      "display_name": "Python 3"
    }
  },
  "cells": [
    {
      "cell_type": "markdown",
      "metadata": {
        "id": "view-in-github",
        "colab_type": "text"
      },
      "source": [
        "<a href=\"https://colab.research.google.com/github/beppezampieri/SPAZIO-DI-LAVORO/blob/master/Copia_di_Esercizi_9_Python.ipynb\" target=\"_parent\"><img src=\"https://colab.research.google.com/assets/colab-badge.svg\" alt=\"Open In Colab\"/></a>"
      ]
    },
    {
      "cell_type": "markdown",
      "metadata": {
        "id": "wAbtnL7EsPCV"
      },
      "source": [
        "# PYTHON ESERCIZI LEZIONE 9 - TRIS\n",
        "---\n",
        "# Python al Liceo Scientifico Enrico Fermi - edizione 22/23\n",
        "\n",
        "Davide Bresolin<br>\n"
      ]
    },
    {
      "cell_type": "markdown",
      "metadata": {
        "id": "EjW5HxRhsb_M"
      },
      "source": [
        "# Preparazione\n",
        "\n",
        "*   Andate nel menù \"File\" e premete il pulsante \"Save a copy in drive\". Effettuate l'accesso con un **account gmail**. NB Potrebbe essere necessario provare due volte a fare \"Save a copy in drive\" perchè l'operazione funzioni.\n",
        "*   Una volta effettuato il login si aprirà una nuova pagina, il cui titolo sarà \"Copy of Esercizi-9-Python\". A questo punto questo file sarà stato salvato all'interno del vostro drive una cartella denominata \"Colab Notebooks\". All'interno di questa cartella troverete quindi una copia del file Esercizi-9-Python.\n",
        "*   All'interno del proprio Google Drive (https://drive.google.com) creare una cartella denominata Python all'interno della cartella \"Colab Notebooks\". Questa operazione va effettuata solo la prima volta. Se non trovate dove il file è stato salvato, potete andare ancora nel menu \"File\" e selezionare \"Trova su Drive\".\n",
        "*   Spostate quindi la copia del file Esercizi-9-Python nella cartella Python che avete appena creato.\n",
        "\n",
        "NOTA IMPORTANTE: La pagina con titolo \"Esercizi-9-Python\" che vi è stata condivisa dal padlet deve essere ***CHIUSA***. Dovete tenere aperta solamente la copia che avete creato nella cartella Python altrimenti rischiate di perdere le modifiche che fate durante il laboratorio."
      ]
    },
    {
      "cell_type": "markdown",
      "metadata": {
        "id": "k2-QbwCUofBa"
      },
      "source": [
        "## Altre impostazioni\n",
        "Andate nel menù \"Strumenti\", premete la voce \"Impostazioni\", poi cliccate sulla scheda \"Editor\" e mettete il visto sulla funzione \"Mostra numeri di riga\". Questo farà comparire i numeri di riga accanto al codice che scrivete."
      ]
    },
    {
      "cell_type": "markdown",
      "source": [
        "# Il gioco del Tris\n",
        "\n",
        "Il tris è un popolarissimo gioco di carta che gioca su una griglia quadrata di 3×3 caselle. \n",
        "\n",
        "![Esempio di partita a tris](https://upload.wikimedia.org/wikipedia/commons/f/f6/Tic_Tac_Toe.png)\n",
        "\n",
        "Negli esercizi che seguono useremo i widget per programmare il gioco del tris in Python. Prima di iniziare importiamo il modulo `ipywidget` e la funzione `display`."
      ],
      "metadata": {
        "id": "lISk5uYlT6xe"
      }
    },
    {
      "cell_type": "code",
      "source": [
        "import ipywidgets as widgets\n",
        "from IPython.display import display"
      ],
      "metadata": {
        "id": "ytmcj5e9VTHK"
      },
      "execution_count": null,
      "outputs": []
    },
    {
      "cell_type": "markdown",
      "source": [
        "# Esercizio 1\n",
        "\n",
        "Crea una griglia 3x3 con nove bottoni che sarà l'area di gioco. All'inzio, l'etichetta dei bottoni deve essere vuota."
      ],
      "metadata": {
        "id": "WoD8WhQbeBof"
      }
    },
    {
      "cell_type": "code",
      "source": [],
      "metadata": {
        "id": "PdpgSdwHWPgu"
      },
      "execution_count": null,
      "outputs": []
    },
    {
      "cell_type": "markdown",
      "source": [
        "# Esercizio 2\n",
        "\n",
        "Aggiungi un gestore dell'evento *click* ai bottoni, che marca con l'etichetta `X` un bottone che viene premuto. Se il bottone è già marcato l'etichetta `X` deve rimanere inalterata."
      ],
      "metadata": {
        "id": "vV8rr9cDWgBu"
      }
    },
    {
      "cell_type": "code",
      "source": [],
      "metadata": {
        "id": "B5eIRPdrWu59"
      },
      "execution_count": null,
      "outputs": []
    },
    {
      "cell_type": "markdown",
      "source": [
        "# Esercizio 3\n",
        "\n",
        "Modifica il gestore dell'evento *click* in modo da gestire i turni dei due giocatori. Il primo bottone che viene premuto va marcato con `X`, il secondo con `O`, il terzo con `X`, e così via. Un bottone che è già stato marcato non viene modificato."
      ],
      "metadata": {
        "id": "sLh3c3tcZHtO"
      }
    },
    {
      "cell_type": "code",
      "source": [],
      "metadata": {
        "id": "kW0W9cwsfJoV"
      },
      "execution_count": null,
      "outputs": []
    },
    {
      "cell_type": "markdown",
      "source": [
        "# Esercizio 4\n",
        "\n",
        "Modifica il gestore dell'evento *click* in modo che controlli se uno dei due giocatori ha vinto. Quando uno dei due giocatori riesce a disporre tre dei propri simboli in linea retta orizzontale, verticale o diagonale, il programma deve stampare `Il giocatore X ha vinto!` oppure `Il giocatore O ha vinto!`. Se la griglia viene riempita senza che nessuno dei giocatori sia riuscito a completare una linea retta di tre simboli, il programma deve stampare `Partita patta!`"
      ],
      "metadata": {
        "id": "r84-mpv1NFkN"
      }
    },
    {
      "cell_type": "code",
      "source": [],
      "metadata": {
        "id": "LLBvSkKcqfLB"
      },
      "execution_count": null,
      "outputs": []
    },
    {
      "cell_type": "markdown",
      "source": [
        "# Estensioni e varianti\n",
        "\n",
        "Ora che hai scritto un programma per giocare a tris, puoi provare a migliorarlo o a scrivere un programma per giocare ad un gioco più complesso.\n",
        "\n",
        "Alcuni esempi di migliorie che puoi provare a fare sono:\n",
        "\n",
        "- Abbellisci la grafica e la disposizione dei bottoni\n",
        "- Modifica il programma in modo che il giocatore `O` sia il computer\n",
        "- Gioca su una scacchiera 5x5 o 7x7. In questo caso vince il primo giocatore che riesce a disporre **quattro** simboli in fila.\n",
        "\n",
        "Altri giochi che si giocano su una griglia e che puoi provare a fare sono:\n",
        "\n",
        "- [Forza 4](https://it.wikipedia.org/wiki/Forza_quattro) è un gioco di allineamento dove l'obiettivo è mettere in fila (orizzontale, verticale o diagonale) quattro dell proprie pedine. L'elemento fondamentale del gioco, che lo rende del tutto originale, è la forza di gravità: le pedine vengono fatte cadere lungo una griglia verticale, in modo tale che una pedina inserita in una certa colonna vada sempre a occupare la posizione libera situata più in basso nella colonna stessa.\n",
        "\n",
        "- [Esapedone](https://it.wikipedia.org/wiki/Esapedone) è un gioco che si svolge su una scacchiera 3x3 su cui sono collocati sei pedoni, tre bianchi e tre neri. Ogni pedone si muove seguendo le regole degli scacchi: può avanzare di una casella o catturare diagonalmente un pezzo avversario. Il gioco si vince raggiungendo la riga di partenza dell'avversario con un proprio pedone, catturando tutti i pedoni avversari, oppure quando l'avversario non può muovere al suo turno perché i propri pedoni sono bloccati; non è possibile la patta."
      ],
      "metadata": {
        "id": "VGgGTkZhhnxM"
      }
    }
  ]
}