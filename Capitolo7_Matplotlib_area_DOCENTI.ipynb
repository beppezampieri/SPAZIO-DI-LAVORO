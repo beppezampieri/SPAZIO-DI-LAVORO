{
  "cells": [
    {
      "cell_type": "markdown",
      "metadata": {
        "id": "view-in-github",
        "colab_type": "text"
      },
      "source": [
        "<a href=\"https://colab.research.google.com/github/beppezampieri/SPAZIO-DI-LAVORO/blob/master/Capitolo7_Matplotlib_area_DOCENTI.ipynb\" target=\"_parent\"><img src=\"https://colab.research.google.com/assets/colab-badge.svg\" alt=\"Open In Colab\"/></a>"
      ]
    },
    {
      "cell_type": "markdown",
      "id": "b9a4429d",
      "metadata": {
        "id": "b9a4429d"
      },
      "source": [
        "# Capitolo 7 Rappresentare i dati con matplotlib.pyplot\n",
        "## Un'immagine vale mille parole"
      ]
    },
    {
      "cell_type": "markdown",
      "id": "cb9f1309",
      "metadata": {
        "id": "cb9f1309"
      },
      "source": [
        "## 3 Un primo esempio"
      ]
    },
    {
      "cell_type": "code",
      "execution_count": 2,
      "id": "83247e05",
      "metadata": {
        "id": "83247e05"
      },
      "outputs": [],
      "source": [
        "import matplotlib.pyplot as plt\n",
        "import numpy as np"
      ]
    },
    {
      "cell_type": "code",
      "execution_count": 3,
      "id": "b26eb0a5",
      "metadata": {
        "id": "b26eb0a5"
      },
      "outputs": [],
      "source": [
        "x = np.linspace(0, 2*np.pi, 200)\n",
        "F1 = x\n",
        "F2 = x**2\n",
        "F3 = np.sin(x)"
      ]
    },
    {
      "cell_type": "code",
      "execution_count": null,
      "id": "bade4a5f",
      "metadata": {
        "id": "bade4a5f"
      },
      "outputs": [],
      "source": [
        "plt.plot(x, F1, label='funzione F1')  \n",
        "plt.plot(x, F2, label='funzione F2')\n",
        "plt.plot(x, F3, label='funzione F3')\n",
        "plt.xlabel('ascissa')\n",
        "plt.ylabel('ordinata')\n",
        "plt.title(\"Il nostro primo grafico\")\n",
        "plt.legend()\n",
        "plt.show()"
      ]
    },
    {
      "cell_type": "code",
      "execution_count": null,
      "id": "d69d6555",
      "metadata": {
        "id": "d69d6555"
      },
      "outputs": [],
      "source": [
        "fig, ax = plt.subplots()  \n",
        "ax.plot(x, F1, label='funzione F1')  \n",
        "ax.plot(x, F2, label='funzione F2')\n",
        "ax.plot(x, F3, label='funzione F3')\n",
        "ax.set_xlabel('ascissa')\n",
        "ax.set_ylabel('ordinata')\n",
        "ax.set_title(\"Il nostro secondo grafico\")\n",
        "ax.legend()\n",
        "plt.show()"
      ]
    },
    {
      "cell_type": "markdown",
      "id": "23d260e7",
      "metadata": {
        "id": "23d260e7"
      },
      "source": [
        "## 4 La funzione plot()"
      ]
    },
    {
      "cell_type": "code",
      "execution_count": null,
      "id": "f3fa45d0",
      "metadata": {
        "id": "f3fa45d0"
      },
      "outputs": [],
      "source": [
        "y = np.array([0,1,-2,3,2,-2,5])\n",
        "fig, ax = plt.subplots()  \n",
        "ax.plot(y)  \n",
        "ax.set_xlabel('ascissa')\n",
        "ax.set_ylabel('ordinata')\n",
        "plt.show()"
      ]
    },
    {
      "cell_type": "code",
      "execution_count": null,
      "id": "927a7629",
      "metadata": {
        "id": "927a7629"
      },
      "outputs": [],
      "source": [
        "y = np.array([0,1,-2,3,2,-2,5])\n",
        "fig, ax = plt.subplots(figsize=(10,8))  \n",
        "ax.plot(y, marker='o', color='red', linestyle='')  \n",
        "ax.set_xlabel('ascissa',fontsize=20)\n",
        "ax.set_ylabel('ordinata',fontsize=20)\n",
        "ax.tick_params(axis='y', labelsize=20)\n",
        "plt.show()"
      ]
    },
    {
      "cell_type": "code",
      "execution_count": null,
      "id": "b7c984d0",
      "metadata": {
        "id": "b7c984d0"
      },
      "outputs": [],
      "source": [
        "x = np.linspace(0, 10, 500)\n",
        "F1 = np.sin(x)\n",
        "F2 = np.exp(-x)\n",
        "R = np.random.uniform(-1,1,size=500)"
      ]
    },
    {
      "cell_type": "code",
      "execution_count": null,
      "id": "a3f3da0c",
      "metadata": {
        "id": "a3f3da0c"
      },
      "outputs": [],
      "source": [
        "fig, ax = plt.subplots(figsize=(10,8))  \n",
        "ax.plot(x, F1, color='red', linestyle='-.', linewidth=5, label='sin(x)')\n",
        "ax.plot(x, F2, color=(0.0,1.0,0.0), linestyle='-', linewidth=10, label='exp(-x)')\n",
        "ax.plot(x, R, color=(0.0,0.0,1.0,0.4), marker = '.', linestyle='', label='random')\n",
        "ax.tick_params(axis='x', labelsize=20)\n",
        "ax.tick_params(axis='y', labelsize=20)\n",
        "ax.set_title(\"Un grafico più complesso\", fontsize=30)\n",
        "ax.legend(loc=3, fontsize=16)\n",
        "ax.set_xlabel('ascissa',fontsize=20)\n",
        "ax.set_ylabel('ordinata',fontsize=20)\n",
        "plt.show()"
      ]
    },
    {
      "cell_type": "markdown",
      "id": "978d6f9d",
      "metadata": {
        "id": "978d6f9d"
      },
      "source": [
        "## 5 Scatter plot"
      ]
    },
    {
      "cell_type": "code",
      "execution_count": null,
      "id": "1a2cbc89",
      "metadata": {
        "id": "1a2cbc89"
      },
      "outputs": [],
      "source": [
        "x = np.random.uniform(-10, 10, size=50)\n",
        "y = np.random.uniform(-10, 10, size=50)\n",
        "colors = np.random.uniform(0,1,size=(50,3))\n",
        "dims = np.random.uniform(50,150,size=50)"
      ]
    },
    {
      "cell_type": "code",
      "execution_count": null,
      "id": "b2175f9e",
      "metadata": {
        "id": "b2175f9e"
      },
      "outputs": [],
      "source": [
        "fig, ax = plt.subplots(figsize=(8,8))\n",
        "ax.scatter(x, y, c=colors, s=dims, marker='v')\n",
        "ax.set_xlabel('x',fontsize=20)\n",
        "ax.set_ylabel('y',fontsize=20)\n",
        "ax.grid(True)\n",
        "plt.show()"
      ]
    },
    {
      "cell_type": "code",
      "execution_count": 1,
      "id": "e3d9997a",
      "metadata": {
        "colab": {
          "base_uri": "https://localhost:8080/",
          "height": 133
        },
        "id": "e3d9997a",
        "outputId": "52b29d24-35b9-4026-f29f-d2e7ffdb508c"
      },
      "outputs": [
        {
          "output_type": "error",
          "ename": "SyntaxError",
          "evalue": "ignored",
          "traceback": [
            "\u001b[0;36m  File \u001b[0;32m\"<ipython-input-1-d93cf42c585d>\"\u001b[0;36m, line \u001b[0;32m5\u001b[0m\n\u001b[0;31m    for riga in file.readlines()[]:\u001b[0m\n\u001b[0m                                 ^\u001b[0m\n\u001b[0;31mSyntaxError\u001b[0m\u001b[0;31m:\u001b[0m invalid syntax\n"
          ]
        }
      ],
      "source": [
        "dati_marziani = {\"tipo\": [], \"colore\":[], \"n_arti\":[], \"peso\":[],\n",
        "                 \"altezza\":[],\"larghezza\":[]}\n",
        "\n",
        "file = open(\"./marziani.csv\",\"r\")\n",
        "for riga in file.readlines()[]:\n",
        "    dati_linea = riga[:-1].split(\",\")\n",
        "    if not((\" \" in dati_linea) or (\"\" in dati_linea) or (\"specie\" in dati_linea)):\n",
        "        dati_marziani['tipo'].append(dati_linea[0])\n",
        "        dati_marziani['colore'].append(dati_linea[1])\n",
        "        dati_marziani['n_arti'].append(float(dati_linea[2]))\n",
        "        dati_marziani['peso'].append(float(dati_linea[3]))\n",
        "        dati_marziani['altezza'].append(float(dati_linea[4]))\n",
        "        dati_marziani['larghezza'].append(float(dati_linea[5]))\n",
        "file.close()\n",
        "\n",
        "for chiave in dati_marziani:\n",
        "    dati_marziani[chiave] = np.array(dati_marziani[chiave])\n",
        "    \n",
        "dati_marziani"
      ]
    },
    {
      "cell_type": "code",
      "execution_count": null,
      "id": "f1badeff",
      "metadata": {
        "id": "f1badeff"
      },
      "outputs": [],
      "source": [
        "fig, ax = plt.subplots(figsize=(8,8))\n",
        "dato_x = \"peso\"\n",
        "dato_y = \"larghezza\"\n",
        "maschera_simmy = dati_marziani['tipo']==\"Simmy\"\n",
        "maschera_robby = dati_marziani['tipo']==\"Robby\"\n",
        "ax.scatter(dati_marziani[dato_x][maschera_simmy], \n",
        "           dati_marziani[dato_y][maschera_simmy], c=\"r\", label=\"Simmy\")\n",
        "ax.scatter(dati_marziani[dato_x][maschera_robby], \n",
        "           dati_marziani[dato_y][maschera_robby], c=\"g\", label=\"Robby\")\n",
        "ax.set_xlabel(dato_x,fontsize=16)\n",
        "ax.set_ylabel(dato_y,fontsize=16)\n",
        "ax.tick_params(axis='x', labelsize=16)\n",
        "ax.tick_params(axis='y', labelsize=16)\n",
        "ax.set_title(\"Le caratteristiche degli esserini marziani\", fontsize=20)\n",
        "ax.grid(True)\n",
        "ax.legend(fontsize=16)\n",
        "plt.show()"
      ]
    },
    {
      "cell_type": "markdown",
      "id": "c4929cde",
      "metadata": {
        "id": "c4929cde"
      },
      "source": [
        "## 6 Istogrammi"
      ]
    },
    {
      "cell_type": "code",
      "execution_count": null,
      "id": "3cb2bd6c",
      "metadata": {
        "id": "3cb2bd6c"
      },
      "outputs": [],
      "source": [
        "dado1 = np.random.randint(1,7,50000)\n",
        "dado2 = np.random.randint(1,7,50000)\n",
        "somma = dado1+dado2"
      ]
    },
    {
      "cell_type": "code",
      "execution_count": null,
      "id": "74bd0689",
      "metadata": {
        "scrolled": false,
        "id": "74bd0689"
      },
      "outputs": [],
      "source": [
        "fig, ax = plt.subplots(figsize=(8,8))\n",
        "ax.hist(somma, bins=11)\n",
        "ax.set_xlabel(\"somma\",fontsize=16)\n",
        "ax.set_ylabel(\"frequenza assoluta\",fontsize=16)\n",
        "ax.tick_params(axis='x', labelsize=16)\n",
        "ax.tick_params(axis='y', labelsize=16)\n",
        "ax.set_title(\"La distribuzione della somma delle uscite di\\n due dadi a 6 facce\",\n",
        "             fontsize=20)\n",
        "plt.show()"
      ]
    },
    {
      "cell_type": "code",
      "execution_count": null,
      "id": "c2087dc9",
      "metadata": {
        "id": "c2087dc9"
      },
      "outputs": [],
      "source": [
        "dati_marziani = {\"tipo\": [], \"colore\":[], \"n_arti\":[], \"peso\":[],\n",
        "                 \"altezza\":[],\"larghezza\":[]}\n",
        "\n",
        "file = open(\"./marziani.csv\",\"r\")\n",
        "for riga in file.readlines():\n",
        "    dati_linea = riga[:-1].split(\",\")\n",
        "    if not((\" \" in dati_linea) or (\"\" in dati_linea) or (\"specie\" in dati_linea)):\n",
        "        dati_marziani['tipo'].append(dati_linea[0])\n",
        "        dati_marziani['colore'].append(dati_linea[1])\n",
        "        dati_marziani['n_arti'].append(float(dati_linea[2]))\n",
        "        dati_marziani['peso'].append(float(dati_linea[3]))\n",
        "        dati_marziani['altezza'].append(float(dati_linea[4]))\n",
        "        dati_marziani['larghezza'].append(float(dati_linea[5]))\n",
        "file.close()\n",
        "\n",
        "for chiave in dati_marziani:\n",
        "    dati_marziani[chiave] = np.array(dati_marziani[chiave])\n",
        "    \n",
        "dati_marziani"
      ]
    },
    {
      "cell_type": "code",
      "execution_count": null,
      "id": "7e58dc34",
      "metadata": {
        "id": "7e58dc34"
      },
      "outputs": [],
      "source": [
        "caratteristica = \"altezza\"\n",
        "maschera_simmy = dati_marziani['tipo']==\"Simmy\"\n",
        "maschera_robby = dati_marziani['tipo']==\"Robby\"\n",
        "fig, ax = plt.subplots(figsize=(8,8))\n",
        "ax.hist(dati_marziani[caratteristica][maschera_simmy], bins=20,\n",
        "        color=\"r\", label=\"Simmy\")\n",
        "ax.hist(dati_marziani[caratteristica][maschera_robby], bins=20,\n",
        "        color=\"g\", label=\"Robby\")\n",
        "ax.set_xlabel(caratteristica,fontsize=16)\n",
        "ax.set_ylabel(\"N° di esemplari\",fontsize=16)\n",
        "ax.tick_params(axis='x', labelsize=16)\n",
        "ax.tick_params(axis='y', labelsize=16)\n",
        "ax.set_title(f\"La distribuzione di {caratteristica} per gli esserini marziani\",\n",
        "             fontsize=20)\n",
        "ax.grid(True)\n",
        "ax.legend(fontsize=16)\n",
        "plt.show()"
      ]
    },
    {
      "cell_type": "code",
      "execution_count": null,
      "id": "5e8bcfd5",
      "metadata": {
        "id": "5e8bcfd5"
      },
      "outputs": [],
      "source": [
        "caratteristica = \"altezza\"\n",
        "maschera_simmy = dati_marziani['tipo']==\"Simmy\"\n",
        "maschera_robby = dati_marziani['tipo']==\"Robby\"\n",
        "fig, ax = plt.subplots(figsize=(8,8))\n",
        "ax.hist(dati_marziani[caratteristica][maschera_simmy], bins=20,\n",
        "        color=\"r\", label=\"Simmy\", alpha = 0.6)\n",
        "ax.hist(dati_marziani[caratteristica][maschera_robby], bins=20,\n",
        "        color=\"g\", label=\"Robby\", alpha = 0.6)\n",
        "ax.set_xlabel(caratteristica,fontsize=16)\n",
        "ax.set_ylabel(\"n° di esemplari\",fontsize=16)\n",
        "ax.tick_params(axis='x', labelsize=16)\n",
        "ax.tick_params(axis='y', labelsize=16)\n",
        "ax.set_title(f\"La distribuzione di {caratteristica} per gli esserini marziani\",\n",
        "             fontsize=20)\n",
        "ax.grid(True)\n",
        "ax.legend(fontsize=16)\n",
        "plt.show()"
      ]
    },
    {
      "cell_type": "markdown",
      "id": "9189cd5b",
      "metadata": {
        "id": "9189cd5b"
      },
      "source": [
        "## 7 Matrici e immagini"
      ]
    },
    {
      "cell_type": "code",
      "execution_count": null,
      "id": "52e6b69c",
      "metadata": {
        "id": "52e6b69c"
      },
      "outputs": [],
      "source": [
        "mat = np.random.uniform(0.0,1.0,size=(100,100))\n",
        "fig, ax = plt.subplots(figsize=(8,8))\n",
        "ax.imshow(mat)\n",
        "ax.set_title(f\"Pixel pseudocasuali\", fontsize=20)\n",
        "ax.axis('off') \n",
        "plt.show()"
      ]
    },
    {
      "cell_type": "code",
      "execution_count": null,
      "id": "82e2f6ec",
      "metadata": {
        "id": "82e2f6ec"
      },
      "outputs": [],
      "source": [
        "mat = np.random.uniform(0.0,1.0,size=(100,100))\n",
        "fig, ax = plt.subplots(figsize=(8,8))\n",
        "ax.imshow(mat, cmap='magma')\n",
        "ax.set_title(f\"Pixel pseudocasuali\", fontsize=20)\n",
        "ax.axis('off') \n",
        "plt.show()"
      ]
    },
    {
      "cell_type": "code",
      "execution_count": null,
      "id": "629ec7e3",
      "metadata": {
        "id": "629ec7e3"
      },
      "outputs": [],
      "source": [
        "image = plt.imread('./anemone.jpeg')\n",
        "fig, ax = plt.subplots(figsize=(8,8))\n",
        "ax.imshow(image)\n",
        "ax.axis('off') \n",
        "plt.show()"
      ]
    },
    {
      "cell_type": "markdown",
      "id": "aa0a5a37",
      "metadata": {
        "id": "aa0a5a37"
      },
      "source": [
        "## 8 Subplots"
      ]
    },
    {
      "cell_type": "code",
      "execution_count": null,
      "id": "d5741624",
      "metadata": {
        "id": "d5741624"
      },
      "outputs": [],
      "source": [
        "x = np.linspace(0, 10, 500)\n",
        "F1 = np.sin(x)\n",
        "F2 = np.exp(-x)\n",
        "R = np.random.uniform(-1,1,size=500)"
      ]
    },
    {
      "cell_type": "code",
      "execution_count": null,
      "id": "d36f0190",
      "metadata": {
        "id": "d36f0190"
      },
      "outputs": [],
      "source": [
        "fig, axs = plt.subplots(3,1,figsize=(10,8))  \n",
        "axs[0].plot(x, F1, color='red', linestyle='-.', linewidth=5, label='sin(x)')\n",
        "axs[1].plot(x, F2, color=(0.0,1.0,0.0), linestyle='-', linewidth=10, label='exp(-x)')\n",
        "axs[2].plot(x, R, color=(0.0,0.0,1.0,0.4), marker = '.', linestyle='', label='random')\n",
        "axs[0].set_xlabel('ascissa',fontsize=20)\n",
        "axs[0].set_ylabel('ordinata',fontsize=20)\n",
        "axs[0].tick_params(axis='x', labelsize=20)\n",
        "axs[0].tick_params(axis='y', labelsize=20)\n",
        "axs[1].set_xlabel('ascissa',fontsize=20)\n",
        "axs[1].set_ylabel('ordinata',fontsize=20)\n",
        "axs[1].tick_params(axis='x', labelsize=20)\n",
        "axs[1].tick_params(axis='y', labelsize=20)\n",
        "axs[2].set_xlabel('ascissa',fontsize=20)\n",
        "axs[2].set_ylabel('ordinata',fontsize=20)\n",
        "axs[2].tick_params(axis='x', labelsize=20)\n",
        "axs[2].tick_params(axis='y', labelsize=20)\n",
        "fig.suptitle(\"Tre grafici all'interno di una sola figura\", fontsize=25)\n",
        "plt.show()"
      ]
    },
    {
      "cell_type": "markdown",
      "id": "199f935f",
      "metadata": {
        "id": "199f935f"
      },
      "source": [
        "## 9 Due esempi più complessi"
      ]
    },
    {
      "cell_type": "code",
      "execution_count": null,
      "id": "a1d976fb",
      "metadata": {
        "id": "a1d976fb"
      },
      "outputs": [],
      "source": [
        "dati_marziani = {\"tipo\": [], \"colore\":[], \"n_arti\":[], \"peso\":[],\n",
        "                 \"altezza\":[],\"larghezza\":[]}\n",
        "\n",
        "file = open(\"./marziani.csv\",\"r\")\n",
        "for riga in file.readlines():\n",
        "    dati_linea = riga[:-1].split(\",\")\n",
        "    if not((\" \" in dati_linea) or (\"\" in dati_linea) or (\"specie\" in dati_linea)):\n",
        "        dati_marziani['tipo'].append(dati_linea[0])\n",
        "        dati_marziani['colore'].append(dati_linea[1])\n",
        "        dati_marziani['n_arti'].append(float(dati_linea[2]))\n",
        "        dati_marziani['peso'].append(float(dati_linea[3]))\n",
        "        dati_marziani['altezza'].append(float(dati_linea[4]))\n",
        "        dati_marziani['larghezza'].append(float(dati_linea[5]))\n",
        "file.close()\n",
        "\n",
        "for chiave in dati_marziani:\n",
        "    dati_marziani[chiave] = np.array(dati_marziani[chiave])\n",
        "    \n",
        "dati_marziani"
      ]
    },
    {
      "cell_type": "code",
      "execution_count": null,
      "id": "cef01678",
      "metadata": {
        "id": "cef01678"
      },
      "outputs": [],
      "source": [
        "caratteristiche = ['colore', 'n_arti', 'peso', 'altezza', 'larghezza']\n",
        "n = len(caratteristiche)\n",
        "fig, axs = plt.subplots(n, n, figsize=(16,16), constrained_layout=True)\n",
        "for j, dato_y in enumerate(caratteristiche):\n",
        "    for i, dato_x in enumerate(caratteristiche):\n",
        "        maschera_simmy = dati_marziani['tipo']==\"Simmy\"\n",
        "        maschera_robby = dati_marziani['tipo']==\"Robby\"\n",
        "        if i!=j:\n",
        "            axs[j,i].scatter(dati_marziani[dato_x][maschera_simmy], \n",
        "                       dati_marziani[dato_y][maschera_simmy], c=\"r\", label=\"Simmy\")\n",
        "            axs[j,i].scatter(dati_marziani[dato_x][maschera_robby], \n",
        "                       dati_marziani[dato_y][maschera_robby], c=\"g\", label=\"Robby\")\n",
        "            axs[j,i].set_xlabel(dato_x, fontsize=14)\n",
        "            axs[j,i].set_ylabel(dato_y, fontsize=14)\n",
        "        else:\n",
        "            axs[j,i].hist(dati_marziani[dato_x][maschera_simmy], bins=10,\n",
        "                        color=\"r\", label=\"Simmy\", alpha=0.5)\n",
        "            axs[j,i].hist(dati_marziani[dato_x][maschera_robby], bins=10,\n",
        "                        color=\"g\", label=\"Robby\", alpha=0.5)\n",
        "            axs[j,i].set_xlabel(dato_x, fontsize=14)\n",
        "            axs[j,i].set_ylabel(\"n° di esemplari\", fontsize=14)\n",
        "    \n",
        "fig.suptitle('Le caratteristiche degli esserini marziani', fontsize=25)\n",
        "fig.legend(labels=[\"Simmy\",\"Robby\"], ncol=2)\n",
        "plt.show()"
      ]
    },
    {
      "cell_type": "code",
      "execution_count": null,
      "id": "b62230fa",
      "metadata": {
        "id": "b62230fa"
      },
      "outputs": [],
      "source": [
        "from sklearn.datasets import fetch_openml\n",
        "mnist = fetch_openml('mnist_784')\n",
        "data_array = mnist.data.values"
      ]
    },
    {
      "cell_type": "code",
      "execution_count": null,
      "id": "d6a76caa",
      "metadata": {
        "id": "d6a76caa"
      },
      "outputs": [],
      "source": [
        "data_array"
      ]
    },
    {
      "cell_type": "code",
      "execution_count": null,
      "id": "dfb83576",
      "metadata": {
        "id": "dfb83576"
      },
      "outputs": [],
      "source": [
        "data_array[0].reshape(28,28)"
      ]
    },
    {
      "cell_type": "code",
      "execution_count": null,
      "id": "51dff922",
      "metadata": {
        "scrolled": false,
        "id": "51dff922"
      },
      "outputs": [],
      "source": [
        "fig, axs = plt.subplots(5,10, figsize=(8,8))\n",
        "for ax in axs.reshape(-1):\n",
        "    n = np.random.randint(0,60000)\n",
        "    ax.axis(\"off\")\n",
        "    ax.imshow(data_array[n].reshape(28,28),cmap=plt.cm.binary)\n",
        "plt.show()"
      ]
    },
    {
      "cell_type": "code",
      "execution_count": null,
      "id": "d96030e9",
      "metadata": {
        "id": "d96030e9"
      },
      "outputs": [],
      "source": [
        "axs"
      ]
    },
    {
      "cell_type": "code",
      "execution_count": null,
      "id": "7fc819a6",
      "metadata": {
        "id": "7fc819a6"
      },
      "outputs": [],
      "source": [
        "axs.reshape(-1)"
      ]
    },
    {
      "cell_type": "code",
      "execution_count": null,
      "id": "0bf0a7ed",
      "metadata": {
        "id": "0bf0a7ed"
      },
      "outputs": [],
      "source": [
        "fig, axs = plt.subplots(5,10, figsize=(8,8))\n",
        "for ax in axs.reshape(-1):\n",
        "    n = np.random.randint(0,60000)\n",
        "    ax.axis(\"off\")\n",
        "    ax.imshow(data_array[n].reshape(28,28),cmap=plt.cm.binary)\n",
        "plt.savefig(\"./cifre.png\")"
      ]
    }
  ],
  "metadata": {
    "kernelspec": {
      "display_name": "Python 3 (ipykernel)",
      "language": "python",
      "name": "python3"
    },
    "language_info": {
      "codemirror_mode": {
        "name": "ipython",
        "version": 3
      },
      "file_extension": ".py",
      "mimetype": "text/x-python",
      "name": "python",
      "nbconvert_exporter": "python",
      "pygments_lexer": "ipython3",
      "version": "3.9.13"
    },
    "colab": {
      "provenance": [],
      "collapsed_sections": [
        "c4929cde",
        "9189cd5b",
        "aa0a5a37",
        "199f935f"
      ],
      "include_colab_link": true
    }
  },
  "nbformat": 4,
  "nbformat_minor": 5
}