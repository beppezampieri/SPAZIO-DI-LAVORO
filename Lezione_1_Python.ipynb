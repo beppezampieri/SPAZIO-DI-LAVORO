{
  "nbformat": 4,
  "nbformat_minor": 0,
  "metadata": {
    "colab": {
      "provenance": [],
      "collapsed_sections": [
        "XMW5y9UFu87C",
        "iogfm4dAu1yL",
        "eyBmOxK2QTi2"
      ],
      "include_colab_link": true
    },
    "kernelspec": {
      "name": "python3",
      "display_name": "Python 3"
    }
  },
  "cells": [
    {
      "cell_type": "markdown",
      "metadata": {
        "id": "view-in-github",
        "colab_type": "text"
      },
      "source": [
        "<a href=\"https://colab.research.google.com/github/beppezampieri/SPAZIO-DI-LAVORO/blob/master/Lezione_1_Python.ipynb\" target=\"_parent\"><img src=\"https://colab.research.google.com/assets/colab-badge.svg\" alt=\"Open In Colab\"/></a>"
      ]
    },
    {
      "cell_type": "markdown",
      "metadata": {
        "id": "3nyu9MjJJHKZ"
      },
      "source": [
        "# PYTHON LEZIONE 1 - TIPI ED ESPRESSIONI\n",
        "---\n",
        "# Python al Liceo Scientifico Enrico Fermi - edizione 22/23\n",
        "\n",
        "Davide Bresolin<br>\n"
      ]
    },
    {
      "cell_type": "markdown",
      "metadata": {
        "id": "7Nbzsv5za4AX"
      },
      "source": [
        "# Fonti consigliate"
      ]
    },
    {
      "cell_type": "markdown",
      "metadata": {
        "id": "3TtwhUZd68dw"
      },
      "source": [
        "Libro online consigliato [Pensare in Python: come pensare da Informatico, Seconda Edizione](https://github.com/AllenDowney/ThinkPythonItalian/raw/master/thinkpython_italian.pdf)\n",
        "*   Capitolo 2\n",
        "    * Valori, Tipi, Istruzioni ed espressioni\n",
        "\n",
        "[Tutorial Colab online](https://www.tutorialspoint.com/google_colab/google_colab_quick_guide.htm) (solo introduzione fino al capitolo \"Google Colab - Saving Your Work\", sezione \"Saving to Google Drive\". Si può saltare \"Google Colab - Documenting Your Code\")"
      ]
    },
    {
      "cell_type": "markdown",
      "metadata": {
        "id": "A6AniPRLAGvZ"
      },
      "source": [
        "# Preparazione\n",
        "\n",
        "*   Andate nel menù \"File\" e premete il pulsante \"Save a copy in drive\". Effettuate l'accesso con un **account gmail**. NB Potrebbe essere necessario provare due volte a fare \"Save a copy in drive\" perchè l'operazione funzioni.\n",
        "*   Una volta effettuato il login si aprirà una nuova pagina, il cui titolo sarà \"Copy of Lezione-1-Python\". A questo punto questo file sarà stato salvato all'interno del vostro drive una cartella denominata \"Colab Notebooks\". All'interno di questa cartella troverete quindi una copia del file Lezione-1-Python.\n",
        "*   All'interno del proprio Google Drive (https://drive.google.com) creare una cartella denominata Python all'interno della cartella \"Colab Notebooks\". Questa operazione va effettuata solo la prima volta. Se non trovate dove il file è stato salvato, potete andare ancora nel menu \"File\" e selezionare \"Trova su Drive\".\n",
        "*   Spostate quindi la copia del file Lezione-1-Python nella cartella Biologia che avete appena creato.\n",
        "\n",
        "NOTA IMPORTANTE: La pagina con titolo \"Lezione-1-Python\" che vi è stata condivisa dal padlet deve essere ***CHIUSA***. Dovete tenere aperta solamente la copia che avete creato nella cartella Python altrimenti rischiate di perdere le modifiche che fate durante il laboratorio."
      ]
    },
    {
      "cell_type": "markdown",
      "metadata": {
        "id": "zTJfqbZWaKz1"
      },
      "source": [
        "## Altre impostazioni\n",
        "Andate nel menù \"Strumenti\", premete la voce \"Impostazioni\", poi cliccate sulla scheda \"Editor\" e mettete il visto sulla funzione \"Mostra numeri di riga\". Questo farà comparire i numeri di riga accanto al codice che scrivete."
      ]
    },
    {
      "cell_type": "markdown",
      "metadata": {
        "id": "jm8ySl5LRzFd"
      },
      "source": [
        "# Python Notebook\n",
        "Sono documenti che possono contenere sia codice Python, sia testo allo scopo di descrivere le operazioni eseguite.\n"
      ]
    },
    {
      "cell_type": "markdown",
      "metadata": {
        "id": "M02lMo1hDi7e"
      },
      "source": [
        "## Google Colab\n",
        "In Google Colab, il notebook è diviso in celle (\"cell\") che di default sono di tipo codice (\"code\").\n",
        "Vediamo come funziona..."
      ]
    },
    {
      "cell_type": "code",
      "metadata": {
        "id": "KioztWCcmAWo",
        "colab": {
          "base_uri": "https://localhost:8080/"
        },
        "outputId": "094b750f-ce8a-4d21-b485-73b891cf7e7c"
      },
      "source": [
        "print(\"Hello World!\")\n"
      ],
      "execution_count": null,
      "outputs": [
        {
          "output_type": "stream",
          "name": "stdout",
          "text": [
            "Hello World!\n"
          ]
        }
      ]
    },
    {
      "cell_type": "markdown",
      "metadata": {
        "id": "LX4UB8IHDsKR"
      },
      "source": [
        "Per eseguire l'intero codice di una cella, posizionarsi all'interno della stessa e premere sul tasto play con il mouse, o SHIFT+INVIO da tastiera.\n",
        "Per creare nuove celle utilizzare i testi \"+ Code\" e \"+ Text\" presenti sopra questo testo."
      ]
    },
    {
      "cell_type": "markdown",
      "metadata": {
        "id": "D5T2yH6lM3Lp"
      },
      "source": [
        "# Python \n",
        "Con la parola Python ci riferiamo:\n",
        "\n",
        "1.   al linguaggio di programmazione, ovvero l'insieme dei comandi ed il loro significato;\n",
        "\n",
        "2.   al programma che effettivamente esegue i comandi del nostro programma nell'elaboratore. Questa seconda funzionalita' e' eseguita dall'interprete di Python (appunto un programma che legge i comandi uno ad uno e li trasforma in comandi per la CPU).\n",
        "\n",
        "Esistono varie versioni dell'interprete Python al momento disponibili, python 2.x (l'ultima e' la 2.7) e python 3.x (l'ultima e' la 3.8). \n",
        "Piu' e' alto il numero, piu' e' recente la versione. Ogni volta che si fa una modifica e si rilascia al pubblico, bisogna incrementare il numero della versione. \n",
        "Noi utilizziamo Python 3. \n"
      ]
    },
    {
      "cell_type": "markdown",
      "metadata": {
        "id": "KkFkKVc7EA1T"
      },
      "source": [
        "## Prendiamo confidenza"
      ]
    },
    {
      "cell_type": "code",
      "metadata": {
        "id": "j9Cdnr-Y_vQZ"
      },
      "source": [
        "# questo e' un commento"
      ],
      "execution_count": null,
      "outputs": []
    },
    {
      "cell_type": "code",
      "metadata": {
        "id": "SKVCl9Dj_nvs",
        "colab": {
          "base_uri": "https://localhost:8080/"
        },
        "outputId": "0a396aa6-0f11-4e42-851a-5f4aa1d9565f"
      },
      "source": [
        "print(3) # possiamo stampare anche numeri"
      ],
      "execution_count": null,
      "outputs": [
        {
          "output_type": "stream",
          "name": "stdout",
          "text": [
            "3\n"
          ]
        }
      ]
    },
    {
      "cell_type": "code",
      "metadata": {
        "id": "GbvYLI5T_ztZ",
        "colab": {
          "base_uri": "https://localhost:8080/"
        },
        "outputId": "ccda42d9-09b3-47ac-d1aa-f70c946f134d"
      },
      "source": [
        "print(\"io sono una stringa\")\n",
        "print('anche io')\n",
        "print(\"# questo non e' un commento\")\n",
        "print('Lei disse: \"ci vediamo domani\"')\n",
        "#cosa succede se commetto un errore a scrivere un comando?"
      ],
      "execution_count": null,
      "outputs": [
        {
          "output_type": "stream",
          "name": "stdout",
          "text": [
            "io sono una stringa\n",
            "anche io\n",
            "# questo non e' un commento\n",
            "Lei disse: \"ci vediamo domani\"\n"
          ]
        }
      ]
    },
    {
      "cell_type": "code",
      "metadata": {
        "id": "lH1k_rKj_1cB",
        "colab": {
          "base_uri": "https://localhost:8080/",
          "height": 36
        },
        "outputId": "bb5a878f-3a93-4bcb-a548-bdad09345509"
      },
      "source": [
        "\"io non sono una stringa\""
      ],
      "execution_count": null,
      "outputs": [
        {
          "output_type": "execute_result",
          "data": {
            "text/plain": [
              "'io non sono una stringa'"
            ],
            "application/vnd.google.colaboratory.intrinsic+json": {
              "type": "string"
            }
          },
          "metadata": {},
          "execution_count": 7
        }
      ]
    },
    {
      "cell_type": "markdown",
      "metadata": {
        "id": "XPRJ-KQVB6VS"
      },
      "source": [
        "print e' un esempio di comando, o funzione, e quello che sta dentro le parentesi e' un argomento o un parametro. \n",
        "Il comando print va a capo dopo aver stampato la stringa passata come parametro. E' possibile evitare di andare a capo aggiungendo un argomento end=\" \" ai parametri del comando)"
      ]
    },
    {
      "cell_type": "code",
      "metadata": {
        "id": "rdzGog-JCTX0",
        "colab": {
          "base_uri": "https://localhost:8080/"
        },
        "outputId": "30186e7e-7f87-42a7-e21f-d45d12a554fa"
      },
      "source": [
        "print(\"Ciao\", end=\" \")\n",
        "print(\"mondo\")\n",
        "print(\"Ciao\", end=\", \")\n",
        "print(\"mondo\")"
      ],
      "execution_count": null,
      "outputs": [
        {
          "output_type": "stream",
          "name": "stdout",
          "text": [
            "Ciao mondo\n",
            "Ciao, mondo\n"
          ]
        }
      ]
    },
    {
      "cell_type": "markdown",
      "metadata": {
        "id": "Ri4VyPbmETIJ"
      },
      "source": [
        "# Valori e tipi\n",
        "\n",
        "**Valore**\n",
        "*   Esempio: *2, 3.23, “Hello World”, ‘a’, True, ...*\n",
        "\n",
        "**Tipo**\n",
        "*   Ciascun valore ha un determinato tipo, che ne determina la natura, e delimita le operazioni che possono essere operate su di esso\n",
        "    *   *2* è di tipo **int** (numero intero),\n",
        "    *   *3.23* è di tipo **float** (numero reale),\n",
        "    *   *“Hello World”* è di tipo **str** (stringa, ovvero sequenza di caratteri),\n",
        "    *   *True* è di tipo **bool** (Booleano: vero/falso).\n",
        "\n"
      ]
    },
    {
      "cell_type": "markdown",
      "metadata": {
        "id": "DGhKaZ2BgS3c"
      },
      "source": [
        "La funzione *type()* in Python restituisce il tipo di un valore. Che tipo ha `6.28`?"
      ]
    },
    {
      "cell_type": "code",
      "source": [
        "type(6.28)"
      ],
      "metadata": {
        "colab": {
          "base_uri": "https://localhost:8080/"
        },
        "id": "TGqeNW85PqqD",
        "outputId": "ce304c88-5cea-4f4a-ab03-07eeb8126804"
      },
      "execution_count": null,
      "outputs": [
        {
          "output_type": "execute_result",
          "data": {
            "text/plain": [
              "float"
            ]
          },
          "metadata": {},
          "execution_count": 8
        }
      ]
    },
    {
      "cell_type": "markdown",
      "source": [
        "Che tipo ha `123` ?"
      ],
      "metadata": {
        "id": "lFg1qBBNOjqT"
      }
    },
    {
      "cell_type": "code",
      "source": [
        "type(123)"
      ],
      "metadata": {
        "colab": {
          "base_uri": "https://localhost:8080/"
        },
        "id": "OuCB2IZ7OjVz",
        "outputId": "5380a0be-73c1-4fb6-e9b9-ffa58b121ad6"
      },
      "execution_count": null,
      "outputs": [
        {
          "output_type": "execute_result",
          "data": {
            "text/plain": [
              "int"
            ]
          },
          "metadata": {},
          "execution_count": 9
        }
      ]
    },
    {
      "cell_type": "markdown",
      "source": [
        "Che tipo ha `“123”`?"
      ],
      "metadata": {
        "id": "_PPUn-1zPtb-"
      }
    },
    {
      "cell_type": "code",
      "metadata": {
        "id": "LNaob3bygU7G",
        "colab": {
          "base_uri": "https://localhost:8080/"
        },
        "outputId": "48841069-a06b-4c88-e246-9d2befbbffa2"
      },
      "source": [
        "type(\"123\")"
      ],
      "execution_count": null,
      "outputs": [
        {
          "output_type": "execute_result",
          "data": {
            "text/plain": [
              "str"
            ]
          },
          "metadata": {},
          "execution_count": 10
        }
      ]
    },
    {
      "cell_type": "markdown",
      "source": [
        "### Domanda\n",
        "Perché ho ottenuto due risultati diversi?"
      ],
      "metadata": {
        "id": "oIGOD4P4Ow5E"
      }
    },
    {
      "cell_type": "markdown",
      "source": [
        "### Risposta"
      ],
      "metadata": {
        "id": "J3EU0Sr8O7tQ"
      }
    },
    {
      "cell_type": "markdown",
      "source": [
        "Perché `\"123\"`, racchiuso tra virgolette, identifica la *stringa* `123`, cioè una sequenza di tre caratteri, mentre `123` (senza le virgolette) identifca il *numero intero* 123. "
      ],
      "metadata": {
        "id": "hO8tRnD7PdM-"
      }
    },
    {
      "cell_type": "markdown",
      "metadata": {
        "id": "C4074SONhMVK"
      },
      "source": [
        "## Conversioni di tipo\n",
        "\n",
        "I valori si possono convertire da un tipo ad un altro.  Ad esempio, la stringa \"123\" si può convertire a intero per fare operazioni matematiche."
      ]
    },
    {
      "cell_type": "markdown",
      "metadata": {
        "id": "BAOgZQw2hcY7"
      },
      "source": [
        "L'istruzione *int(“123”)* restituisce 123 di tipo *int*."
      ]
    },
    {
      "cell_type": "code",
      "metadata": {
        "id": "NYCZj7uihbvQ",
        "colab": {
          "base_uri": "https://localhost:8080/"
        },
        "outputId": "9688e0b1-0e4b-4179-fa49-0bd50c99d5fe"
      },
      "source": [
        "int(\"123\")"
      ],
      "execution_count": null,
      "outputs": [
        {
          "output_type": "execute_result",
          "data": {
            "text/plain": [
              "123"
            ]
          },
          "metadata": {},
          "execution_count": 10
        }
      ]
    },
    {
      "cell_type": "code",
      "metadata": {
        "id": "_1NZpiqfiARn",
        "colab": {
          "base_uri": "https://localhost:8080/"
        },
        "outputId": "ec60f36f-c5c9-48b8-c7a1-846a2b832ce0"
      },
      "source": [
        "type(int(\"123\"))"
      ],
      "execution_count": null,
      "outputs": [
        {
          "output_type": "execute_result",
          "data": {
            "text/plain": [
              "int"
            ]
          },
          "metadata": {},
          "execution_count": 11
        }
      ]
    },
    {
      "cell_type": "markdown",
      "metadata": {
        "id": "zHzwIr2OhxoF"
      },
      "source": [
        "L'istruzione *str(123)* restituisce \"123\" di tipo *str* (stringa)."
      ]
    },
    {
      "cell_type": "code",
      "metadata": {
        "id": "vJgwWZochm6s",
        "colab": {
          "base_uri": "https://localhost:8080/",
          "height": 36
        },
        "outputId": "279ea810-068e-4e72-88c4-f1c49c993c41"
      },
      "source": [
        "str(123)"
      ],
      "execution_count": null,
      "outputs": [
        {
          "output_type": "execute_result",
          "data": {
            "text/plain": [
              "'123'"
            ],
            "application/vnd.google.colaboratory.intrinsic+json": {
              "type": "string"
            }
          },
          "metadata": {},
          "execution_count": 12
        }
      ]
    },
    {
      "cell_type": "code",
      "metadata": {
        "id": "Bemf0TiFh6g7",
        "colab": {
          "base_uri": "https://localhost:8080/"
        },
        "outputId": "dbc8ee71-3036-45dd-eb5e-8e010dc05438"
      },
      "source": [
        "type(str(123))"
      ],
      "execution_count": null,
      "outputs": [
        {
          "output_type": "execute_result",
          "data": {
            "text/plain": [
              "str"
            ]
          },
          "metadata": {},
          "execution_count": 13
        }
      ]
    },
    {
      "cell_type": "code",
      "metadata": {
        "id": "B2Rh-6eUtkUy",
        "colab": {
          "base_uri": "https://localhost:8080/"
        },
        "outputId": "f0eb9ee8-f07c-4c60-8bb5-3afc294e22dc"
      },
      "source": [
        "print(int(6.28))\n",
        "print(int(5.99))"
      ],
      "execution_count": null,
      "outputs": [
        {
          "output_type": "stream",
          "name": "stdout",
          "text": [
            "6\n",
            "5\n"
          ]
        }
      ]
    },
    {
      "cell_type": "markdown",
      "metadata": {
        "id": "dra_csA1r1OK"
      },
      "source": [
        "# Espressioni e Operatori"
      ]
    },
    {
      "cell_type": "markdown",
      "metadata": {
        "id": "26rQFVlPr-0X"
      },
      "source": [
        "## Espressioni\n",
        "Esempi di espressione sono: 3 + 4, “12”, ...\n",
        "\n",
        "Vengono valutate dall’interprete una volta eseguito il codice."
      ]
    },
    {
      "cell_type": "code",
      "metadata": {
        "id": "hRAad2oksUmK",
        "colab": {
          "base_uri": "https://localhost:8080/",
          "height": 36
        },
        "outputId": "a0f4b061-8ede-47fb-ad73-b36a3f06fd62"
      },
      "source": [
        "\"12\""
      ],
      "execution_count": null,
      "outputs": [
        {
          "output_type": "execute_result",
          "data": {
            "text/plain": [
              "'12'"
            ],
            "application/vnd.google.colaboratory.intrinsic+json": {
              "type": "string"
            }
          },
          "metadata": {},
          "execution_count": 12
        }
      ]
    },
    {
      "cell_type": "code",
      "metadata": {
        "id": "zO2c1V9Jsdrg",
        "colab": {
          "base_uri": "https://localhost:8080/"
        },
        "outputId": "cab0253a-1899-4314-e510-9331eb27642b"
      },
      "source": [
        "4 + 5"
      ],
      "execution_count": null,
      "outputs": [
        {
          "output_type": "execute_result",
          "data": {
            "text/plain": [
              "9"
            ]
          },
          "metadata": {},
          "execution_count": 13
        }
      ]
    },
    {
      "cell_type": "markdown",
      "metadata": {
        "id": "vD4FeM9Itdmh"
      },
      "source": [
        "## Operatori\n",
        "Sono i simboli che definiscono una operazione tra valori:\n",
        "* `+`\t\taddizione\n",
        "* `-`\t\tsottrazione\n",
        "* `*`\t\tmoltiplicazione\n",
        "* `/`\t\tdivisione decimale\n",
        "* `**`  potenza\n",
        "* `//` divisione intera (quoziente)\n",
        "* `%`  resto della divisione intera"
      ]
    },
    {
      "cell_type": "code",
      "metadata": {
        "id": "Hhqru3D0GAwv",
        "colab": {
          "base_uri": "https://localhost:8080/"
        },
        "outputId": "402da5d0-5caa-48f0-b350-92e15682636d"
      },
      "source": [
        "17%5"
      ],
      "execution_count": null,
      "outputs": [
        {
          "output_type": "execute_result",
          "data": {
            "text/plain": [
              "2"
            ]
          },
          "metadata": {},
          "execution_count": 24
        }
      ]
    },
    {
      "cell_type": "markdown",
      "metadata": {
        "id": "gi-PdXk9tl36"
      },
      "source": [
        "La loro funzione cambia in base al tipo dell’espressione!"
      ]
    },
    {
      "cell_type": "code",
      "metadata": {
        "id": "YHlmxkeo5XsU",
        "colab": {
          "base_uri": "https://localhost:8080/"
        },
        "outputId": "01f0a16f-cc93-44b1-bbb7-0ce68043b186"
      },
      "source": [
        "print(4 + 5)\n",
        "type(4 + 5)"
      ],
      "execution_count": null,
      "outputs": [
        {
          "output_type": "stream",
          "name": "stdout",
          "text": [
            "9\n"
          ]
        },
        {
          "output_type": "execute_result",
          "data": {
            "text/plain": [
              "int"
            ]
          },
          "metadata": {},
          "execution_count": 14
        }
      ]
    },
    {
      "cell_type": "code",
      "metadata": {
        "id": "C2XoCrvZtpaw",
        "colab": {
          "base_uri": "https://localhost:8080/"
        },
        "outputId": "4fa32261-9360-4a5f-fb53-9d1089bd103a"
      },
      "source": [
        "print('4' + '5')\n",
        "type('4' + '5')"
      ],
      "execution_count": null,
      "outputs": [
        {
          "output_type": "stream",
          "name": "stdout",
          "text": [
            "45\n"
          ]
        },
        {
          "output_type": "execute_result",
          "data": {
            "text/plain": [
              "str"
            ]
          },
          "metadata": {},
          "execution_count": 15
        }
      ]
    },
    {
      "cell_type": "code",
      "source": [
        "print(3 * 'a')"
      ],
      "metadata": {
        "colab": {
          "base_uri": "https://localhost:8080/"
        },
        "id": "s7WazqjtRFb0",
        "outputId": "57893361-9fe0-4e24-c7df-c7d00af68927"
      },
      "execution_count": null,
      "outputs": [
        {
          "output_type": "stream",
          "name": "stdout",
          "text": [
            "aaa\n"
          ]
        }
      ]
    },
    {
      "cell_type": "markdown",
      "source": [
        "## Regole di precedenza\n",
        "\n",
        "Le espressioni si scrivono come sequenze di numeri ed operatori. \n",
        "Numeri ed operatori vengono raggruppati seguendo queste regole di precedenza:\n",
        "* prima le parentesi `( )`\n",
        "* poi le potenze `**`,\n",
        "* quindi moltiplicazioni e divisioni `*`, `/`,\n",
        "* infine somme e sottrazioni `+`, `-`"
      ],
      "metadata": {
        "id": "ulwb_MiERuCR"
      }
    },
    {
      "cell_type": "code",
      "source": [
        "1 * 2 + 3 * 4"
      ],
      "metadata": {
        "colab": {
          "base_uri": "https://localhost:8080/"
        },
        "id": "KDvLfHxjSpqd",
        "outputId": "7a4c378f-0914-4a9f-d56a-85137670b37d"
      },
      "execution_count": null,
      "outputs": [
        {
          "output_type": "execute_result",
          "data": {
            "text/plain": [
              "14"
            ]
          },
          "metadata": {},
          "execution_count": 17
        }
      ]
    },
    {
      "cell_type": "markdown",
      "source": [
        "In caso di dubbi, usate le parentesi!"
      ],
      "metadata": {
        "id": "mhLsW6SkStdu"
      }
    },
    {
      "cell_type": "code",
      "source": [
        "1 * (2 + 3) * 4"
      ],
      "metadata": {
        "colab": {
          "base_uri": "https://localhost:8080/"
        },
        "id": "IzQ94eJzSwlW",
        "outputId": "47df3388-4f5a-4008-b075-b3037b4afa39"
      },
      "execution_count": null,
      "outputs": [
        {
          "output_type": "execute_result",
          "data": {
            "text/plain": [
              "20"
            ]
          },
          "metadata": {},
          "execution_count": 18
        }
      ]
    },
    {
      "cell_type": "markdown",
      "metadata": {
        "id": "pF3x06uM5OJ9"
      },
      "source": [
        "# Esercizi sulle espressioni\n",
        "\n",
        "Ora tocca a voi! Risolvete gli esercizi qui sotto riempiendo le celle di codice con la soluzione."
      ]
    },
    {
      "cell_type": "markdown",
      "source": [
        "### Esercizio 1\n",
        "Ci sono $5280$ piedi in un miglio. Scrivete un comando Python che calcoli e stampi sullo schermo il numero di piedi equivalenti a $13$ miglia."
      ],
      "metadata": {
        "id": "8LBCXkbkTEXB"
      }
    },
    {
      "cell_type": "code",
      "source": [],
      "metadata": {
        "id": "I0i2Nv_aTOQ4"
      },
      "execution_count": null,
      "outputs": []
    },
    {
      "cell_type": "markdown",
      "source": [
        "### Esercizio 2\n",
        "\n",
        "Scrivete una espressione che calcoli il numero di secondi equivalenti a $5$ ore, $12$ minuti e $38$ secondi."
      ],
      "metadata": {
        "id": "ifdg2zXLTajU"
      }
    },
    {
      "cell_type": "code",
      "source": [],
      "metadata": {
        "id": "U55AqfBKTpet"
      },
      "execution_count": null,
      "outputs": []
    },
    {
      "cell_type": "markdown",
      "source": [
        "### Esercizio 3\n",
        "\n",
        "L'area di un rettangolo è $b h$, dove $b$ e $h$ sono la base e l'altezza del rettangolo. Notate che l'operazione di moltiplicazione non è mostrata esplicitamente nella formula. Questa è una convenzione comune in matematica ma non in programmazione. Scrivete una espressione che calcoli l'area di un rettangolo  con base $4$ e altezza $11$."
      ],
      "metadata": {
        "id": "dS9-lnaFTqK6"
      }
    },
    {
      "cell_type": "code",
      "source": [],
      "metadata": {
        "id": "kxTDcAq5Txob"
      },
      "execution_count": null,
      "outputs": []
    },
    {
      "cell_type": "markdown",
      "source": [
        "### Esercizio 4\n",
        "\n",
        "Il perimetro di un rettangolo è $2 b + 2 h$, dove $b$ e $h$ sono la base e l'altezza del rettangolo. Scrivete un comando Python che calcoli e stampi il perimetro di un rettangolo con base $4$ e altezza $11$."
      ],
      "metadata": {
        "id": "i1O8wsT-T0wC"
      }
    },
    {
      "cell_type": "code",
      "source": [],
      "metadata": {
        "id": "U54EYq0cT9TC"
      },
      "execution_count": null,
      "outputs": []
    },
    {
      "cell_type": "markdown",
      "source": [
        "### Esercizio 5\n",
        "\n",
        "La circonferenza di un cerchio è $2 \\pi r$, dove $r$ è il raggio del cerchio. Scrivete una espressione che calcoli la circonferenza di un cerchio di raggio $9$. Assumete che $\\pi = 3.14$."
      ],
      "metadata": {
        "id": "xLEkeInsT71b"
      }
    },
    {
      "cell_type": "code",
      "source": [],
      "metadata": {
        "id": "ZL8JticXUFfk"
      },
      "execution_count": null,
      "outputs": []
    },
    {
      "cell_type": "markdown",
      "source": [
        "### Esercizio 6\n",
        "L'area di un cerchio è $\\pi r^2$, dove $r$ è il raggio del cerchio. Scrivete un comando Python che calcoli e stampi l'area di un cerchio di raggio $9$. Assumete che $\\pi = 3.14$."
      ],
      "metadata": {
        "id": "AX_IzxqcUGD8"
      }
    },
    {
      "cell_type": "code",
      "source": [],
      "metadata": {
        "id": "jSqGH85TUMkv"
      },
      "execution_count": null,
      "outputs": []
    },
    {
      "cell_type": "markdown",
      "source": [
        "### Esercizio 7\n",
        "Dati $c$ Euro, il valore futuro del capitale rivalutato per $n$ anni con un interesse composto $r$ percento è $c (1 + 0.01 r)^n$. Scrivete una espressione che calcoli il valore futuro di $1000$ Euro rivalutati al $7$ percento di interesse per $10$ anni.:"
      ],
      "metadata": {
        "id": "lSpaVz0qUNRF"
      }
    },
    {
      "cell_type": "code",
      "source": [],
      "metadata": {
        "id": "7Z2QQ0-jUUeu"
      },
      "execution_count": null,
      "outputs": []
    },
    {
      "cell_type": "markdown",
      "source": [
        "### Esercizio 8\n",
        "La distanza tra i punti $(x_0,y_0)$ e $(x_1, y_1)$ è $\\sqrt{(x_0-x_1)^2 + (y_0 - y_1)^2}$. Scrivete una espressione che calcoli la distanza tra i punti $(2,2)$ e $(5,6)$. \n",
        "\n",
        "**Suggerimento:** usate l'elevamento a potenza `**`, tenendo presente che la calcolare la radice quadrata è equivalente ad elevare alla potenza $\\frac{1}{2}$"
      ],
      "metadata": {
        "id": "UtrxwStiUVAB"
      }
    },
    {
      "cell_type": "code",
      "source": [],
      "metadata": {
        "id": "GT6DiRbGUylO"
      },
      "execution_count": null,
      "outputs": []
    }
  ]
}